{
 "cells": [
  {
   "cell_type": "markdown",
   "metadata": {},
   "source": [
    "# Import Data & Python Packages "
   ]
  },
  {
   "cell_type": "code",
   "execution_count": 1,
   "metadata": {},
   "outputs": [],
   "source": [
    "# Import python packages\n",
    "import os\n",
    "import pandas as pd\n",
    "import numpy as np\n",
    "import matplotlib.pyplot as plt\n",
    "import seaborn as sns\n",
    "from random import sample\n",
    "from sklearn.linear_model import LogisticRegression\n",
    "from sklearn import tree\n",
    "from sklearn import metrics\n",
    "from IPython.display import Image\n",
    "from pydotplus import graph_from_dot_data\n",
    "from sklearn import model_selection"
   ]
  },
  {
   "cell_type": "code",
   "execution_count": 2,
   "metadata": {},
   "outputs": [],
   "source": [
    "# Import dataset\n",
    "df = pd.read_csv('data_ending_test.csv')"
   ]
  },
  {
   "cell_type": "code",
   "execution_count": 3,
   "metadata": {},
   "outputs": [
    {
     "data": {
      "text/html": [
       "<div>\n",
       "<style scoped>\n",
       "    .dataframe tbody tr th:only-of-type {\n",
       "        vertical-align: middle;\n",
       "    }\n",
       "\n",
       "    .dataframe tbody tr th {\n",
       "        vertical-align: top;\n",
       "    }\n",
       "\n",
       "    .dataframe thead th {\n",
       "        text-align: right;\n",
       "    }\n",
       "</style>\n",
       "<table border=\"1\" class=\"dataframe\">\n",
       "  <thead>\n",
       "    <tr style=\"text-align: right;\">\n",
       "      <th></th>\n",
       "      <th>uid</th>\n",
       "      <th>gender</th>\n",
       "      <th>age</th>\n",
       "      <th>cluster_name</th>\n",
       "      <th>partner_name</th>\n",
       "      <th>status_outlet</th>\n",
       "      <th>is_complete</th>\n",
       "      <th>first_trx_date</th>\n",
       "      <th>last_trx_date</th>\n",
       "      <th>in_six_months</th>\n",
       "      <th>active_months</th>\n",
       "      <th>total_gmv</th>\n",
       "      <th>total_trx</th>\n",
       "      <th>source_trx</th>\n",
       "      <th>status_lending</th>\n",
       "    </tr>\n",
       "  </thead>\n",
       "  <tbody>\n",
       "    <tr>\n",
       "      <th>0</th>\n",
       "      <td>481</td>\n",
       "      <td>1</td>\n",
       "      <td>33</td>\n",
       "      <td>Indragiri</td>\n",
       "      <td>Lapak Kita</td>\n",
       "      <td>Active</td>\n",
       "      <td>1</td>\n",
       "      <td>2017-04-28</td>\n",
       "      <td>2018-08-01</td>\n",
       "      <td>YES</td>\n",
       "      <td>16.0</td>\n",
       "      <td>34632558.0</td>\n",
       "      <td>1035.0</td>\n",
       "      <td>Android 2.3.6</td>\n",
       "      <td>2</td>\n",
       "    </tr>\n",
       "    <tr>\n",
       "      <th>1</th>\n",
       "      <td>506</td>\n",
       "      <td>1</td>\n",
       "      <td>27</td>\n",
       "      <td>Indragiri</td>\n",
       "      <td>Lapak Kita</td>\n",
       "      <td>Active</td>\n",
       "      <td>0</td>\n",
       "      <td>2017-03-09</td>\n",
       "      <td>2018-08-01</td>\n",
       "      <td>YES</td>\n",
       "      <td>17.0</td>\n",
       "      <td>26438676.0</td>\n",
       "      <td>884.0</td>\n",
       "      <td>Android 2.3.6</td>\n",
       "      <td>2</td>\n",
       "    </tr>\n",
       "    <tr>\n",
       "      <th>2</th>\n",
       "      <td>679</td>\n",
       "      <td>2</td>\n",
       "      <td>27</td>\n",
       "      <td>Indragiri</td>\n",
       "      <td>Lapak Kita</td>\n",
       "      <td>Active</td>\n",
       "      <td>1</td>\n",
       "      <td>2017-08-03</td>\n",
       "      <td>2018-08-01</td>\n",
       "      <td>YES</td>\n",
       "      <td>12.0</td>\n",
       "      <td>34262450.0</td>\n",
       "      <td>1310.0</td>\n",
       "      <td>Android 2.3.6</td>\n",
       "      <td>1</td>\n",
       "    </tr>\n",
       "    <tr>\n",
       "      <th>3</th>\n",
       "      <td>921</td>\n",
       "      <td>2</td>\n",
       "      <td>29</td>\n",
       "      <td>Indragiri</td>\n",
       "      <td>Lapak Kita</td>\n",
       "      <td>Active</td>\n",
       "      <td>1</td>\n",
       "      <td>2016-09-07</td>\n",
       "      <td>2018-08-01</td>\n",
       "      <td>YES</td>\n",
       "      <td>23.0</td>\n",
       "      <td>90686330.0</td>\n",
       "      <td>3903.0</td>\n",
       "      <td>Android 2.3.6</td>\n",
       "      <td>1</td>\n",
       "    </tr>\n",
       "    <tr>\n",
       "      <th>4</th>\n",
       "      <td>970</td>\n",
       "      <td>1</td>\n",
       "      <td>34</td>\n",
       "      <td>Indragiri</td>\n",
       "      <td>Lapak Kita</td>\n",
       "      <td>Active</td>\n",
       "      <td>1</td>\n",
       "      <td>2017-08-18</td>\n",
       "      <td>2018-08-02</td>\n",
       "      <td>YES</td>\n",
       "      <td>12.0</td>\n",
       "      <td>61209199.0</td>\n",
       "      <td>3435.0</td>\n",
       "      <td>Android 2.3.6</td>\n",
       "      <td>1</td>\n",
       "    </tr>\n",
       "  </tbody>\n",
       "</table>\n",
       "</div>"
      ],
      "text/plain": [
       "   uid  gender  age cluster_name partner_name status_outlet  is_complete  \\\n",
       "0  481       1   33    Indragiri   Lapak Kita        Active            1   \n",
       "1  506       1   27    Indragiri   Lapak Kita        Active            0   \n",
       "2  679       2   27    Indragiri   Lapak Kita        Active            1   \n",
       "3  921       2   29    Indragiri   Lapak Kita        Active            1   \n",
       "4  970       1   34    Indragiri   Lapak Kita        Active            1   \n",
       "\n",
       "  first_trx_date last_trx_date in_six_months  active_months   total_gmv  \\\n",
       "0     2017-04-28    2018-08-01           YES           16.0  34632558.0   \n",
       "1     2017-03-09    2018-08-01           YES           17.0  26438676.0   \n",
       "2     2017-08-03    2018-08-01           YES           12.0  34262450.0   \n",
       "3     2016-09-07    2018-08-01           YES           23.0  90686330.0   \n",
       "4     2017-08-18    2018-08-02           YES           12.0  61209199.0   \n",
       "\n",
       "   total_trx     source_trx  status_lending  \n",
       "0     1035.0  Android 2.3.6               2  \n",
       "1      884.0  Android 2.3.6               2  \n",
       "2     1310.0  Android 2.3.6               1  \n",
       "3     3903.0  Android 2.3.6               1  \n",
       "4     3435.0  Android 2.3.6               1  "
      ]
     },
     "execution_count": 3,
     "metadata": {},
     "output_type": "execute_result"
    }
   ],
   "source": [
    "df.head()"
   ]
  },
  {
   "cell_type": "code",
   "execution_count": 4,
   "metadata": {},
   "outputs": [
    {
     "name": "stdout",
     "output_type": "stream",
     "text": [
      "lending_YES = 30\n",
      "lending_NO = 35\n"
     ]
    }
   ],
   "source": [
    "# Compositional dataset \n",
    "print 'lending_YES = {}'.format(len(df[df['status_lending'] == 1]))  \n",
    "print 'lending_NO = {}'.format(len(df[df['status_lending'] == 2]))"
   ]
  },
  {
   "cell_type": "code",
   "execution_count": 5,
   "metadata": {},
   "outputs": [
    {
     "data": {
      "text/plain": [
       "['uid',\n",
       " 'gender',\n",
       " 'age',\n",
       " 'cluster_name',\n",
       " 'partner_name',\n",
       " 'status_outlet',\n",
       " 'is_complete',\n",
       " 'first_trx_date',\n",
       " 'last_trx_date',\n",
       " 'in_six_months',\n",
       " 'active_months',\n",
       " 'total_gmv',\n",
       " 'total_trx',\n",
       " 'source_trx',\n",
       " 'status_lending']"
      ]
     },
     "execution_count": 5,
     "metadata": {},
     "output_type": "execute_result"
    }
   ],
   "source": [
    " # Columns in dataset\n",
    "df.columns.tolist()"
   ]
  },
  {
   "cell_type": "markdown",
   "metadata": {},
   "source": [
    "# Data Prepocessing"
   ]
  },
  {
   "cell_type": "markdown",
   "metadata": {},
   "source": [
    "## Check Missing Values "
   ]
  },
  {
   "cell_type": "code",
   "execution_count": 6,
   "metadata": {},
   "outputs": [
    {
     "data": {
      "text/plain": [
       "uid                0\n",
       "gender             0\n",
       "age                0\n",
       "cluster_name      10\n",
       "partner_name      10\n",
       "status_outlet     10\n",
       "is_complete        0\n",
       "first_trx_date     2\n",
       "last_trx_date      2\n",
       "in_six_months      2\n",
       "active_months      2\n",
       "total_gmv          2\n",
       "total_trx          2\n",
       "source_trx         3\n",
       "status_lending     0\n",
       "dtype: int64"
      ]
     },
     "execution_count": 6,
     "metadata": {},
     "output_type": "execute_result"
    }
   ],
   "source": [
    "# Checking missing values in dataset\n",
    "df.isnull().sum()"
   ]
  },
  {
   "cell_type": "markdown",
   "metadata": {},
   "source": [
    "Checking rows where the 'total_gmv' == Null"
   ]
  },
  {
   "cell_type": "code",
   "execution_count": 7,
   "metadata": {},
   "outputs": [
    {
     "data": {
      "text/html": [
       "<div>\n",
       "<style scoped>\n",
       "    .dataframe tbody tr th:only-of-type {\n",
       "        vertical-align: middle;\n",
       "    }\n",
       "\n",
       "    .dataframe tbody tr th {\n",
       "        vertical-align: top;\n",
       "    }\n",
       "\n",
       "    .dataframe thead th {\n",
       "        text-align: right;\n",
       "    }\n",
       "</style>\n",
       "<table border=\"1\" class=\"dataframe\">\n",
       "  <thead>\n",
       "    <tr style=\"text-align: right;\">\n",
       "      <th></th>\n",
       "      <th>uid</th>\n",
       "      <th>gender</th>\n",
       "      <th>age</th>\n",
       "      <th>cluster_name</th>\n",
       "      <th>partner_name</th>\n",
       "      <th>status_outlet</th>\n",
       "      <th>is_complete</th>\n",
       "      <th>first_trx_date</th>\n",
       "      <th>last_trx_date</th>\n",
       "      <th>in_six_months</th>\n",
       "      <th>active_months</th>\n",
       "      <th>total_gmv</th>\n",
       "      <th>total_trx</th>\n",
       "      <th>source_trx</th>\n",
       "      <th>status_lending</th>\n",
       "    </tr>\n",
       "  </thead>\n",
       "  <tbody>\n",
       "    <tr>\n",
       "      <th>38</th>\n",
       "      <td>21882</td>\n",
       "      <td>1</td>\n",
       "      <td>25</td>\n",
       "      <td>NaN</td>\n",
       "      <td>NaN</td>\n",
       "      <td>NaN</td>\n",
       "      <td>1</td>\n",
       "      <td>NaN</td>\n",
       "      <td>NaN</td>\n",
       "      <td>NaN</td>\n",
       "      <td>NaN</td>\n",
       "      <td>NaN</td>\n",
       "      <td>NaN</td>\n",
       "      <td>NaN</td>\n",
       "      <td>2</td>\n",
       "    </tr>\n",
       "    <tr>\n",
       "      <th>64</th>\n",
       "      <td>32498</td>\n",
       "      <td>1</td>\n",
       "      <td>10</td>\n",
       "      <td>NaN</td>\n",
       "      <td>NaN</td>\n",
       "      <td>NaN</td>\n",
       "      <td>1</td>\n",
       "      <td>NaN</td>\n",
       "      <td>NaN</td>\n",
       "      <td>NaN</td>\n",
       "      <td>NaN</td>\n",
       "      <td>NaN</td>\n",
       "      <td>NaN</td>\n",
       "      <td>NaN</td>\n",
       "      <td>1</td>\n",
       "    </tr>\n",
       "  </tbody>\n",
       "</table>\n",
       "</div>"
      ],
      "text/plain": [
       "      uid  gender  age cluster_name partner_name status_outlet  is_complete  \\\n",
       "38  21882       1   25          NaN          NaN           NaN            1   \n",
       "64  32498       1   10          NaN          NaN           NaN            1   \n",
       "\n",
       "   first_trx_date last_trx_date in_six_months  active_months  total_gmv  \\\n",
       "38            NaN           NaN           NaN            NaN        NaN   \n",
       "64            NaN           NaN           NaN            NaN        NaN   \n",
       "\n",
       "    total_trx source_trx  status_lending  \n",
       "38        NaN        NaN               2  \n",
       "64        NaN        NaN               1  "
      ]
     },
     "execution_count": 7,
     "metadata": {},
     "output_type": "execute_result"
    }
   ],
   "source": [
    "df[df['total_gmv'].isnull()]"
   ]
  },
  {
   "cell_type": "markdown",
   "metadata": {},
   "source": [
    "Deleting row with uid '21882' and '21882' because these uids are dummy data"
   ]
  },
  {
   "cell_type": "code",
   "execution_count": 8,
   "metadata": {},
   "outputs": [],
   "source": [
    "df = df[df.uid != 21882]\n",
    "df = df[df.uid != 32498]"
   ]
  },
  {
   "cell_type": "markdown",
   "metadata": {},
   "source": [
    "### cluster_name - Missing values"
   ]
  },
  {
   "cell_type": "code",
   "execution_count": 9,
   "metadata": {},
   "outputs": [
    {
     "data": {
      "text/plain": [
       "array(['Indragiri', nan, 'Banyumas', 'Cilacap', 'Tegal', 'Tanah Abang',\n",
       "       'Bangkalan', 'Menteng'], dtype=object)"
      ]
     },
     "execution_count": 9,
     "metadata": {},
     "output_type": "execute_result"
    }
   ],
   "source": [
    "# Checking unique value \n",
    "df['cluster_name'].unique()"
   ]
  },
  {
   "cell_type": "code",
   "execution_count": 10,
   "metadata": {},
   "outputs": [
    {
     "data": {
      "text/plain": [
       "array(['Indragiri', 'Others', 'Banyumas', 'Cilacap', 'Tegal',\n",
       "       'Tanah Abang', 'Bangkalan', 'Menteng'], dtype=object)"
      ]
     },
     "execution_count": 10,
     "metadata": {},
     "output_type": "execute_result"
    }
   ],
   "source": [
    "# Filling missing value with 'Others'\n",
    "df.cluster_name = df.cluster_name.fillna('Others')\n",
    "df['cluster_name'].unique()"
   ]
  },
  {
   "cell_type": "markdown",
   "metadata": {},
   "source": [
    "### partner_name - Missing values"
   ]
  },
  {
   "cell_type": "code",
   "execution_count": 11,
   "metadata": {},
   "outputs": [],
   "source": [
    "# Checking unique value\n",
    "df['partner_name'].unique()\n",
    "\n",
    "# Filling missing value\n",
    "df.partner_name = df.partner_name.fillna('Others')"
   ]
  },
  {
   "cell_type": "markdown",
   "metadata": {},
   "source": [
    "### status_outlet - Missing values"
   ]
  },
  {
   "cell_type": "code",
   "execution_count": 12,
   "metadata": {},
   "outputs": [],
   "source": [
    "# Checking unique value\n",
    "df['status_outlet'].unique()\n",
    "\n",
    "# Filling missing value\n",
    "df.status_outlet = df.status_outlet.fillna('Not Active')"
   ]
  },
  {
   "cell_type": "markdown",
   "metadata": {},
   "source": [
    "### source_trx - Missing values"
   ]
  },
  {
   "cell_type": "code",
   "execution_count": 14,
   "metadata": {},
   "outputs": [],
   "source": [
    "# Checking unique value\n",
    "df['source_trx'].unique()\n",
    "\n",
    "# Filling missing value\n",
    "df.source_trx = df.source_trx.fillna('Others')"
   ]
  },
  {
   "cell_type": "code",
   "execution_count": 15,
   "metadata": {},
   "outputs": [
    {
     "data": {
      "text/plain": [
       "uid               0\n",
       "gender            0\n",
       "age               0\n",
       "cluster_name      0\n",
       "partner_name      0\n",
       "status_outlet     0\n",
       "is_complete       0\n",
       "first_trx_date    0\n",
       "last_trx_date     0\n",
       "in_six_months     0\n",
       "active_months     0\n",
       "total_gmv         0\n",
       "total_trx         0\n",
       "source_trx        0\n",
       "status_lending    0\n",
       "dtype: int64"
      ]
     },
     "execution_count": 15,
     "metadata": {},
     "output_type": "execute_result"
    }
   ],
   "source": [
    "# Checking missing values in dataset\n",
    "df.isnull().sum()"
   ]
  },
  {
   "cell_type": "markdown",
   "metadata": {},
   "source": [
    "-- Compositional dataset --"
   ]
  },
  {
   "cell_type": "code",
   "execution_count": 16,
   "metadata": {},
   "outputs": [
    {
     "name": "stdout",
     "output_type": "stream",
     "text": [
      "lending_YES = 29\n",
      "lending_NO = 34\n"
     ]
    }
   ],
   "source": [
    "print 'lending_YES = {}'.format(len(df[df['status_lending'] == 1]))  \n",
    "print 'lending_NO = {}'.format(len(df[df['status_lending'] == 2]))"
   ]
  },
  {
   "cell_type": "code",
   "execution_count": 78,
   "metadata": {},
   "outputs": [],
   "source": [
    "# Make copy of dataset \n",
    "data = df.copy()"
   ]
  },
  {
   "cell_type": "code",
   "execution_count": null,
   "metadata": {},
   "outputs": [],
   "source": []
  },
  {
   "cell_type": "markdown",
   "metadata": {},
   "source": [
    "## Data Analysis"
   ]
  },
  {
   "cell_type": "code",
   "execution_count": 79,
   "metadata": {},
   "outputs": [
    {
     "data": {
      "text/html": [
       "<div>\n",
       "<style scoped>\n",
       "    .dataframe tbody tr th:only-of-type {\n",
       "        vertical-align: middle;\n",
       "    }\n",
       "\n",
       "    .dataframe tbody tr th {\n",
       "        vertical-align: top;\n",
       "    }\n",
       "\n",
       "    .dataframe thead th {\n",
       "        text-align: right;\n",
       "    }\n",
       "</style>\n",
       "<table border=\"1\" class=\"dataframe\">\n",
       "  <thead>\n",
       "    <tr style=\"text-align: right;\">\n",
       "      <th></th>\n",
       "      <th>uid</th>\n",
       "      <th>gender</th>\n",
       "      <th>age</th>\n",
       "      <th>is_complete</th>\n",
       "      <th>active_months</th>\n",
       "      <th>total_gmv</th>\n",
       "      <th>total_trx</th>\n",
       "      <th>status_lending</th>\n",
       "    </tr>\n",
       "  </thead>\n",
       "  <tbody>\n",
       "    <tr>\n",
       "      <th>count</th>\n",
       "      <td>63.000000</td>\n",
       "      <td>63.000000</td>\n",
       "      <td>63.000000</td>\n",
       "      <td>63.000000</td>\n",
       "      <td>63.000000</td>\n",
       "      <td>6.300000e+01</td>\n",
       "      <td>63.000000</td>\n",
       "      <td>63.000000</td>\n",
       "    </tr>\n",
       "    <tr>\n",
       "      <th>mean</th>\n",
       "      <td>11602.253968</td>\n",
       "      <td>1.396825</td>\n",
       "      <td>31.349206</td>\n",
       "      <td>0.730159</td>\n",
       "      <td>13.047619</td>\n",
       "      <td>5.445279e+07</td>\n",
       "      <td>2094.555556</td>\n",
       "      <td>1.539683</td>\n",
       "    </tr>\n",
       "    <tr>\n",
       "      <th>std</th>\n",
       "      <td>11157.793116</td>\n",
       "      <td>0.493169</td>\n",
       "      <td>6.611717</td>\n",
       "      <td>0.447443</td>\n",
       "      <td>5.976914</td>\n",
       "      <td>6.551883e+07</td>\n",
       "      <td>3045.555899</td>\n",
       "      <td>0.502426</td>\n",
       "    </tr>\n",
       "    <tr>\n",
       "      <th>min</th>\n",
       "      <td>481.000000</td>\n",
       "      <td>1.000000</td>\n",
       "      <td>21.000000</td>\n",
       "      <td>0.000000</td>\n",
       "      <td>2.000000</td>\n",
       "      <td>1.139755e+06</td>\n",
       "      <td>62.000000</td>\n",
       "      <td>1.000000</td>\n",
       "    </tr>\n",
       "    <tr>\n",
       "      <th>25%</th>\n",
       "      <td>1668.000000</td>\n",
       "      <td>1.000000</td>\n",
       "      <td>26.000000</td>\n",
       "      <td>0.000000</td>\n",
       "      <td>8.500000</td>\n",
       "      <td>1.703314e+07</td>\n",
       "      <td>631.000000</td>\n",
       "      <td>1.000000</td>\n",
       "    </tr>\n",
       "    <tr>\n",
       "      <th>50%</th>\n",
       "      <td>4111.000000</td>\n",
       "      <td>1.000000</td>\n",
       "      <td>31.000000</td>\n",
       "      <td>1.000000</td>\n",
       "      <td>11.000000</td>\n",
       "      <td>3.463256e+07</td>\n",
       "      <td>1249.000000</td>\n",
       "      <td>2.000000</td>\n",
       "    </tr>\n",
       "    <tr>\n",
       "      <th>75%</th>\n",
       "      <td>23490.000000</td>\n",
       "      <td>2.000000</td>\n",
       "      <td>35.000000</td>\n",
       "      <td>1.000000</td>\n",
       "      <td>18.500000</td>\n",
       "      <td>6.124296e+07</td>\n",
       "      <td>2170.500000</td>\n",
       "      <td>2.000000</td>\n",
       "    </tr>\n",
       "    <tr>\n",
       "      <th>max</th>\n",
       "      <td>29829.000000</td>\n",
       "      <td>2.000000</td>\n",
       "      <td>56.000000</td>\n",
       "      <td>1.000000</td>\n",
       "      <td>23.000000</td>\n",
       "      <td>3.543610e+08</td>\n",
       "      <td>19202.000000</td>\n",
       "      <td>2.000000</td>\n",
       "    </tr>\n",
       "  </tbody>\n",
       "</table>\n",
       "</div>"
      ],
      "text/plain": [
       "                uid     gender        age  is_complete  active_months  \\\n",
       "count     63.000000  63.000000  63.000000    63.000000      63.000000   \n",
       "mean   11602.253968   1.396825  31.349206     0.730159      13.047619   \n",
       "std    11157.793116   0.493169   6.611717     0.447443       5.976914   \n",
       "min      481.000000   1.000000  21.000000     0.000000       2.000000   \n",
       "25%     1668.000000   1.000000  26.000000     0.000000       8.500000   \n",
       "50%     4111.000000   1.000000  31.000000     1.000000      11.000000   \n",
       "75%    23490.000000   2.000000  35.000000     1.000000      18.500000   \n",
       "max    29829.000000   2.000000  56.000000     1.000000      23.000000   \n",
       "\n",
       "          total_gmv     total_trx  status_lending  \n",
       "count  6.300000e+01     63.000000       63.000000  \n",
       "mean   5.445279e+07   2094.555556        1.539683  \n",
       "std    6.551883e+07   3045.555899        0.502426  \n",
       "min    1.139755e+06     62.000000        1.000000  \n",
       "25%    1.703314e+07    631.000000        1.000000  \n",
       "50%    3.463256e+07   1249.000000        2.000000  \n",
       "75%    6.124296e+07   2170.500000        2.000000  \n",
       "max    3.543610e+08  19202.000000        2.000000  "
      ]
     },
     "execution_count": 79,
     "metadata": {},
     "output_type": "execute_result"
    }
   ],
   "source": [
    "data.describe()"
   ]
  },
  {
   "cell_type": "code",
   "execution_count": 80,
   "metadata": {},
   "outputs": [
    {
     "data": {
      "text/plain": [
       "<matplotlib.axes._subplots.AxesSubplot at 0x10a0a8390>"
      ]
     },
     "execution_count": 80,
     "metadata": {},
     "output_type": "execute_result"
    },
    {
     "data": {
      "image/png": "[encoded data removed]",
      "text/plain": [
       "<Figure size 720x720 with 2 Axes>"
      ]
     },
     "metadata": {},
     "output_type": "display_data"
    }
   ],
   "source": [
    "# Correlation heatmap in dataset\n",
    "correlation = data.corr()  \n",
    "plt.figure(figsize=(10, 10))  \n",
    "sns.heatmap(correlation, vmax=1, square=True, annot=True, cmap='cubehelix')"
   ]
  },
  {
   "cell_type": "markdown",
   "metadata": {},
   "source": [
    "From the above heatmap, 'is_complete' has higher correlation value to 'status_lending'"
   ]
  },
  {
   "cell_type": "markdown",
   "metadata": {},
   "source": [
    "### gender vs status_lending"
   ]
  },
  {
   "cell_type": "code",
   "execution_count": 81,
   "metadata": {
    "scrolled": true
   },
   "outputs": [
    {
     "data": {
      "image/png": "[encoded data removed]",
      "text/plain": [
       "<Figure size 432x288 with 1 Axes>"
      ]
     },
     "metadata": {},
     "output_type": "display_data"
    }
   ],
   "source": [
    "input_dt = pd.crosstab(data.gender,data.status_lending)\n",
    "input_dt.div(input_dt.sum(1).astype(float), axis=0).plot(kind='bar', stacked=True)\n",
    "plt.title('Gender vs Status_lending')\n",
    "plt.xlabel('Gender')\n",
    "plt.ylabel('Proportion of users')\n",
    "plt.savefig('Gender vs Status_lending')"
   ]
  },
  {
   "cell_type": "code",
   "execution_count": 82,
   "metadata": {},
   "outputs": [
    {
     "data": {
      "text/plain": [
       "status_lending  gender\n",
       "1               1         17\n",
       "                2         12\n",
       "2               1         21\n",
       "                2         13\n",
       "Name: gender, dtype: int64"
      ]
     },
     "execution_count": 82,
     "metadata": {},
     "output_type": "execute_result"
    }
   ],
   "source": [
    "data.groupby(['status_lending', 'gender'])['gender'].count()"
   ]
  },
  {
   "cell_type": "markdown",
   "metadata": {},
   "source": [
    "Conclusion : Gender might not be a good predictor"
   ]
  },
  {
   "cell_type": "code",
   "execution_count": null,
   "metadata": {},
   "outputs": [],
   "source": []
  },
  {
   "cell_type": "markdown",
   "metadata": {},
   "source": [
    "### age vs status_lending"
   ]
  },
  {
   "cell_type": "code",
   "execution_count": 83,
   "metadata": {},
   "outputs": [
    {
     "data": {
      "image/png": "[encoded data removed]",
      "text/plain": [
       "<Figure size 432x288 with 1 Axes>"
      ]
     },
     "metadata": {},
     "output_type": "display_data"
    }
   ],
   "source": [
    "data.age.hist()\n",
    "plt.title('Histogram of Age')\n",
    "plt.xlabel('Age')\n",
    "plt.ylabel('Frequency')\n",
    "plt.savefig('hist_age')"
   ]
  },
  {
   "cell_type": "code",
   "execution_count": 84,
   "metadata": {},
   "outputs": [
    {
     "data": {
      "text/html": [
       "<div>\n",
       "<style scoped>\n",
       "    .dataframe tbody tr th:only-of-type {\n",
       "        vertical-align: middle;\n",
       "    }\n",
       "\n",
       "    .dataframe tbody tr th {\n",
       "        vertical-align: top;\n",
       "    }\n",
       "\n",
       "    .dataframe thead th {\n",
       "        text-align: right;\n",
       "    }\n",
       "</style>\n",
       "<table border=\"1\" class=\"dataframe\">\n",
       "  <thead>\n",
       "    <tr style=\"text-align: right;\">\n",
       "      <th></th>\n",
       "      <th>count</th>\n",
       "      <th>mean</th>\n",
       "      <th>std</th>\n",
       "      <th>min</th>\n",
       "      <th>25%</th>\n",
       "      <th>50%</th>\n",
       "      <th>75%</th>\n",
       "      <th>max</th>\n",
       "    </tr>\n",
       "    <tr>\n",
       "      <th>status_lending</th>\n",
       "      <th></th>\n",
       "      <th></th>\n",
       "      <th></th>\n",
       "      <th></th>\n",
       "      <th></th>\n",
       "      <th></th>\n",
       "      <th></th>\n",
       "      <th></th>\n",
       "    </tr>\n",
       "  </thead>\n",
       "  <tbody>\n",
       "    <tr>\n",
       "      <th>1</th>\n",
       "      <td>29.0</td>\n",
       "      <td>29.931034</td>\n",
       "      <td>4.682269</td>\n",
       "      <td>22.0</td>\n",
       "      <td>26.00</td>\n",
       "      <td>30.0</td>\n",
       "      <td>33.0</td>\n",
       "      <td>40.0</td>\n",
       "    </tr>\n",
       "    <tr>\n",
       "      <th>2</th>\n",
       "      <td>34.0</td>\n",
       "      <td>32.558824</td>\n",
       "      <td>7.762346</td>\n",
       "      <td>21.0</td>\n",
       "      <td>26.25</td>\n",
       "      <td>32.5</td>\n",
       "      <td>36.0</td>\n",
       "      <td>56.0</td>\n",
       "    </tr>\n",
       "  </tbody>\n",
       "</table>\n",
       "</div>"
      ],
      "text/plain": [
       "                count       mean       std   min    25%   50%   75%   max\n",
       "status_lending                                                           \n",
       "1                29.0  29.931034  4.682269  22.0  26.00  30.0  33.0  40.0\n",
       "2                34.0  32.558824  7.762346  21.0  26.25  32.5  36.0  56.0"
      ]
     },
     "execution_count": 84,
     "metadata": {},
     "output_type": "execute_result"
    }
   ],
   "source": [
    "data.groupby(['status_lending'])['age'].describe()"
   ]
  },
  {
   "cell_type": "code",
   "execution_count": 85,
   "metadata": {},
   "outputs": [
    {
     "data": {
      "image/png": "[encoded data removed]",
      "text/plain": [
       "<Figure size 720x360 with 1 Axes>"
      ]
     },
     "metadata": {},
     "output_type": "display_data"
    }
   ],
   "source": [
    "plt.figure(figsize=(10,5))\n",
    "ax = sns.kdeplot(data[\"age\"][data.status_lending == 1], color=\"darkturquoise\", shade=True)\n",
    "sns.kdeplot(data[\"age\"][data.status_lending == 2], color=\"lightcoral\", shade=True)\n",
    "plt.legend(['Loan_Yes', 'Loan_No'])\n",
    "plt.title('Density Plot of Age for Loan Status')\n",
    "ax.set(xlabel='Age')\n",
    "plt.xlim(0,80)\n",
    "plt.show()"
   ]
  },
  {
   "cell_type": "markdown",
   "metadata": {},
   "source": [
    " Add another categorical variable in dataset: \"good_age\""
   ]
  },
  {
   "cell_type": "code",
   "execution_count": 86,
   "metadata": {},
   "outputs": [],
   "source": [
    "data['is_good_age']=np.where((data['age']>=23) & (data['age']<=35), 1, 0)"
   ]
  },
  {
   "cell_type": "markdown",
   "metadata": {},
   "source": [
    "### partner_name vs status_lending"
   ]
  },
  {
   "cell_type": "code",
   "execution_count": 236,
   "metadata": {},
   "outputs": [],
   "source": [
    "#sns.countplot(x=\"status_lending\", hue=\"partner_name\", data=data)"
   ]
  },
  {
   "cell_type": "code",
   "execution_count": 87,
   "metadata": {},
   "outputs": [
    {
     "data": {
      "image/png": "[encoded data removed]",
      "text/plain": [
       "<Figure size 432x288 with 1 Axes>"
      ]
     },
     "metadata": {},
     "output_type": "display_data"
    }
   ],
   "source": [
    "input_dt=pd.crosstab(data.partner_name,data.status_lending)\n",
    "input_dt.div(input_dt.sum(1).astype(float), axis=0).plot(kind='bar', stacked=True)\n",
    "plt.title('partner_name vs status_lending')\n",
    "plt.xlabel('partner_name')\n",
    "plt.ylabel('Proportion of users')\n",
    "plt.savefig('partner_name vs Status_lending')"
   ]
  },
  {
   "cell_type": "code",
   "execution_count": null,
   "metadata": {},
   "outputs": [],
   "source": []
  },
  {
   "cell_type": "markdown",
   "metadata": {},
   "source": [
    "### status_outlet vs status_lending"
   ]
  },
  {
   "cell_type": "code",
   "execution_count": 88,
   "metadata": {},
   "outputs": [
    {
     "data": {
      "text/plain": [
       "array(['Active', 'Not Active'], dtype=object)"
      ]
     },
     "execution_count": 88,
     "metadata": {},
     "output_type": "execute_result"
    }
   ],
   "source": [
    "data['status_outlet'].unique()"
   ]
  },
  {
   "cell_type": "code",
   "execution_count": 239,
   "metadata": {},
   "outputs": [],
   "source": [
    "#sns.countplot(x=\"status_lending\", hue=\"status_outlet\", data=data)"
   ]
  },
  {
   "cell_type": "code",
   "execution_count": 89,
   "metadata": {},
   "outputs": [
    {
     "data": {
      "image/png": "[encoded data removed]",
      "text/plain": [
       "<Figure size 432x288 with 1 Axes>"
      ]
     },
     "metadata": {},
     "output_type": "display_data"
    }
   ],
   "source": [
    "input_dt=pd.crosstab(data.status_outlet,data.status_lending)\n",
    "input_dt.div(input_dt.sum(1).astype(float), axis=0).plot(kind='bar', stacked=True)\n",
    "plt.title('status_outlet vs status_lending')\n",
    "plt.xlabel('status_outlet')\n",
    "plt.ylabel('Proportion of users')\n",
    "plt.savefig('status_outlet vs Status_lending')"
   ]
  },
  {
   "cell_type": "markdown",
   "metadata": {},
   "source": [
    "Conclusion : Not good predictor"
   ]
  },
  {
   "cell_type": "code",
   "execution_count": null,
   "metadata": {},
   "outputs": [],
   "source": []
  },
  {
   "cell_type": "markdown",
   "metadata": {},
   "source": [
    "### is_complete vs status_lending"
   ]
  },
  {
   "cell_type": "code",
   "execution_count": 241,
   "metadata": {},
   "outputs": [],
   "source": [
    "#sns.countplot(x=\"status_lending\", hue=\"is_complete\", data=data)"
   ]
  },
  {
   "cell_type": "code",
   "execution_count": 90,
   "metadata": {},
   "outputs": [
    {
     "data": {
      "image/png": "[encoded data removed]",
      "text/plain": [
       "<Figure size 432x288 with 1 Axes>"
      ]
     },
     "metadata": {},
     "output_type": "display_data"
    }
   ],
   "source": [
    "input_dt=pd.crosstab(data.is_complete,data.status_lending)\n",
    "input_dt.div(input_dt.sum(1).astype(float), axis=0).plot(kind='bar', stacked=True)\n",
    "plt.title('is_complete vs status_lending')\n",
    "plt.xlabel('is_complete')\n",
    "plt.ylabel('Proportion of users')\n",
    "plt.savefig('is_complete vs Status_lending')"
   ]
  },
  {
   "cell_type": "markdown",
   "metadata": {},
   "source": [
    "Conclusion : 'is_complete' might be good predictor"
   ]
  },
  {
   "cell_type": "code",
   "execution_count": null,
   "metadata": {},
   "outputs": [],
   "source": []
  },
  {
   "cell_type": "markdown",
   "metadata": {},
   "source": [
    "### in_six_months vs status_lending"
   ]
  },
  {
   "cell_type": "code",
   "execution_count": 91,
   "metadata": {},
   "outputs": [
    {
     "data": {
      "image/png": "[encoded data removed]",
      "text/plain": [
       "<Figure size 432x288 with 1 Axes>"
      ]
     },
     "metadata": {},
     "output_type": "display_data"
    }
   ],
   "source": [
    "input_dt=pd.crosstab(data.in_six_months,data.status_lending)\n",
    "input_dt.div(input_dt.sum(1).astype(float), axis=0).plot(kind='bar', stacked=True)\n",
    "plt.title('in_six_months vs status_lending')\n",
    "plt.xlabel('in_six_months')\n",
    "plt.ylabel('Proportion of users')\n",
    "plt.savefig('in_six_months vs Status_lending')"
   ]
  },
  {
   "cell_type": "code",
   "execution_count": null,
   "metadata": {},
   "outputs": [],
   "source": []
  },
  {
   "cell_type": "markdown",
   "metadata": {},
   "source": [
    "### active_months vs status_lending"
   ]
  },
  {
   "cell_type": "code",
   "execution_count": 92,
   "metadata": {},
   "outputs": [
    {
     "data": {
      "text/html": [
       "<div>\n",
       "<style scoped>\n",
       "    .dataframe tbody tr th:only-of-type {\n",
       "        vertical-align: middle;\n",
       "    }\n",
       "\n",
       "    .dataframe tbody tr th {\n",
       "        vertical-align: top;\n",
       "    }\n",
       "\n",
       "    .dataframe thead th {\n",
       "        text-align: right;\n",
       "    }\n",
       "</style>\n",
       "<table border=\"1\" class=\"dataframe\">\n",
       "  <thead>\n",
       "    <tr style=\"text-align: right;\">\n",
       "      <th></th>\n",
       "      <th>count</th>\n",
       "      <th>mean</th>\n",
       "      <th>std</th>\n",
       "      <th>min</th>\n",
       "      <th>25%</th>\n",
       "      <th>50%</th>\n",
       "      <th>75%</th>\n",
       "      <th>max</th>\n",
       "    </tr>\n",
       "    <tr>\n",
       "      <th>status_lending</th>\n",
       "      <th></th>\n",
       "      <th></th>\n",
       "      <th></th>\n",
       "      <th></th>\n",
       "      <th></th>\n",
       "      <th></th>\n",
       "      <th></th>\n",
       "      <th></th>\n",
       "    </tr>\n",
       "  </thead>\n",
       "  <tbody>\n",
       "    <tr>\n",
       "      <th>1</th>\n",
       "      <td>29.0</td>\n",
       "      <td>13.862069</td>\n",
       "      <td>5.724160</td>\n",
       "      <td>4.0</td>\n",
       "      <td>10.0</td>\n",
       "      <td>12.0</td>\n",
       "      <td>20.0</td>\n",
       "      <td>23.0</td>\n",
       "    </tr>\n",
       "    <tr>\n",
       "      <th>2</th>\n",
       "      <td>34.0</td>\n",
       "      <td>12.352941</td>\n",
       "      <td>6.183469</td>\n",
       "      <td>2.0</td>\n",
       "      <td>8.0</td>\n",
       "      <td>10.0</td>\n",
       "      <td>17.0</td>\n",
       "      <td>23.0</td>\n",
       "    </tr>\n",
       "  </tbody>\n",
       "</table>\n",
       "</div>"
      ],
      "text/plain": [
       "                count       mean       std  min   25%   50%   75%   max\n",
       "status_lending                                                         \n",
       "1                29.0  13.862069  5.724160  4.0  10.0  12.0  20.0  23.0\n",
       "2                34.0  12.352941  6.183469  2.0   8.0  10.0  17.0  23.0"
      ]
     },
     "execution_count": 92,
     "metadata": {},
     "output_type": "execute_result"
    }
   ],
   "source": [
    "data.groupby(['status_lending'])['active_months'].describe()"
   ]
  },
  {
   "cell_type": "code",
   "execution_count": 93,
   "metadata": {},
   "outputs": [
    {
     "data": {
      "image/png": "[encoded data removed]",
      "text/plain": [
       "<Figure size 720x360 with 1 Axes>"
      ]
     },
     "metadata": {},
     "output_type": "display_data"
    }
   ],
   "source": [
    "plt.figure(figsize=(10,5))\n",
    "ax = sns.kdeplot(data[\"active_months\"][data.status_lending == 1], color=\"darkturquoise\", shade=True)\n",
    "sns.kdeplot(data[\"active_months\"][data.status_lending == 2], color=\"lightcoral\", shade=True)\n",
    "plt.legend(['Loan_Yes', 'Loan_No'])\n",
    "plt.title('Density Plot of active_months for Loan Status')\n",
    "ax.set(xlabel='active_months')\n",
    "plt.xlim(0,40)\n",
    "plt.show()"
   ]
  },
  {
   "cell_type": "code",
   "execution_count": 94,
   "metadata": {},
   "outputs": [],
   "source": [
    "data['is_loyal_member']=np.where((data['active_months']>=10), 1, 0)"
   ]
  },
  {
   "cell_type": "markdown",
   "metadata": {},
   "source": [
    "### total_gmv vs status_lending"
   ]
  },
  {
   "cell_type": "code",
   "execution_count": 95,
   "metadata": {},
   "outputs": [
    {
     "data": {
      "text/html": [
       "<div>\n",
       "<style scoped>\n",
       "    .dataframe tbody tr th:only-of-type {\n",
       "        vertical-align: middle;\n",
       "    }\n",
       "\n",
       "    .dataframe tbody tr th {\n",
       "        vertical-align: top;\n",
       "    }\n",
       "\n",
       "    .dataframe thead th {\n",
       "        text-align: right;\n",
       "    }\n",
       "</style>\n",
       "<table border=\"1\" class=\"dataframe\">\n",
       "  <thead>\n",
       "    <tr style=\"text-align: right;\">\n",
       "      <th></th>\n",
       "      <th>count</th>\n",
       "      <th>mean</th>\n",
       "      <th>std</th>\n",
       "      <th>min</th>\n",
       "      <th>25%</th>\n",
       "      <th>50%</th>\n",
       "      <th>75%</th>\n",
       "      <th>max</th>\n",
       "    </tr>\n",
       "    <tr>\n",
       "      <th>status_lending</th>\n",
       "      <th></th>\n",
       "      <th></th>\n",
       "      <th></th>\n",
       "      <th></th>\n",
       "      <th></th>\n",
       "      <th></th>\n",
       "      <th></th>\n",
       "      <th></th>\n",
       "    </tr>\n",
       "  </thead>\n",
       "  <tbody>\n",
       "    <tr>\n",
       "      <th>1</th>\n",
       "      <td>29.0</td>\n",
       "      <td>5.330571e+07</td>\n",
       "      <td>6.145994e+07</td>\n",
       "      <td>5834300.0</td>\n",
       "      <td>20746222.0</td>\n",
       "      <td>38246689.0</td>\n",
       "      <td>61209199.00</td>\n",
       "      <td>313818037.0</td>\n",
       "    </tr>\n",
       "    <tr>\n",
       "      <th>2</th>\n",
       "      <td>34.0</td>\n",
       "      <td>5.543118e+07</td>\n",
       "      <td>6.969907e+07</td>\n",
       "      <td>1139755.0</td>\n",
       "      <td>13314741.5</td>\n",
       "      <td>26568122.5</td>\n",
       "      <td>67630760.25</td>\n",
       "      <td>354361015.0</td>\n",
       "    </tr>\n",
       "  </tbody>\n",
       "</table>\n",
       "</div>"
      ],
      "text/plain": [
       "                count          mean           std        min         25%  \\\n",
       "status_lending                                                             \n",
       "1                29.0  5.330571e+07  6.145994e+07  5834300.0  20746222.0   \n",
       "2                34.0  5.543118e+07  6.969907e+07  1139755.0  13314741.5   \n",
       "\n",
       "                       50%          75%          max  \n",
       "status_lending                                        \n",
       "1               38246689.0  61209199.00  313818037.0  \n",
       "2               26568122.5  67630760.25  354361015.0  "
      ]
     },
     "execution_count": 95,
     "metadata": {},
     "output_type": "execute_result"
    }
   ],
   "source": [
    "data.groupby(['status_lending'])['total_gmv'].describe()"
   ]
  },
  {
   "cell_type": "code",
   "execution_count": 39,
   "metadata": {},
   "outputs": [
    {
     "data": {
      "image/png": "[encoded data removed]",
      "text/plain": [
       "<Figure size 720x360 with 1 Axes>"
      ]
     },
     "metadata": {},
     "output_type": "display_data"
    }
   ],
   "source": [
    "plt.figure(figsize=(10,5))\n",
    "ax = sns.kdeplot(data[\"total_gmv\"][data.status_lending == 1], color=\"darkturquoise\", shade=True)\n",
    "sns.kdeplot(data[\"total_gmv\"][data.status_lending == 2], color=\"lightcoral\", shade=True)\n",
    "plt.legend(['Loan_Yes', 'Loan_No'])\n",
    "plt.title('Density Plot of active_months for Loan Status')\n",
    "ax.set(xlabel='total_gmv')\n",
    "plt.xlim(0,40)\n",
    "plt.show()"
   ]
  },
  {
   "cell_type": "code",
   "execution_count": 96,
   "metadata": {},
   "outputs": [
    {
     "data": {
      "text/plain": [
       "1139755.0"
      ]
     },
     "execution_count": 96,
     "metadata": {},
     "output_type": "execute_result"
    }
   ],
   "source": [
    "#data.loc[data['total_gmv'].idxmax()]\n",
    "data['total_gmv'].max()\n",
    "data['total_gmv'].min()"
   ]
  },
  {
   "cell_type": "code",
   "execution_count": null,
   "metadata": {},
   "outputs": [],
   "source": []
  },
  {
   "cell_type": "markdown",
   "metadata": {},
   "source": [
    "### total_trx vs status_lending"
   ]
  },
  {
   "cell_type": "code",
   "execution_count": 97,
   "metadata": {},
   "outputs": [
    {
     "data": {
      "text/html": [
       "<div>\n",
       "<style scoped>\n",
       "    .dataframe tbody tr th:only-of-type {\n",
       "        vertical-align: middle;\n",
       "    }\n",
       "\n",
       "    .dataframe tbody tr th {\n",
       "        vertical-align: top;\n",
       "    }\n",
       "\n",
       "    .dataframe thead th {\n",
       "        text-align: right;\n",
       "    }\n",
       "</style>\n",
       "<table border=\"1\" class=\"dataframe\">\n",
       "  <thead>\n",
       "    <tr style=\"text-align: right;\">\n",
       "      <th></th>\n",
       "      <th>count</th>\n",
       "      <th>mean</th>\n",
       "      <th>std</th>\n",
       "      <th>min</th>\n",
       "      <th>25%</th>\n",
       "      <th>50%</th>\n",
       "      <th>75%</th>\n",
       "      <th>max</th>\n",
       "    </tr>\n",
       "    <tr>\n",
       "      <th>status_lending</th>\n",
       "      <th></th>\n",
       "      <th></th>\n",
       "      <th></th>\n",
       "      <th></th>\n",
       "      <th></th>\n",
       "      <th></th>\n",
       "      <th></th>\n",
       "      <th></th>\n",
       "    </tr>\n",
       "  </thead>\n",
       "  <tbody>\n",
       "    <tr>\n",
       "      <th>1</th>\n",
       "      <td>29.0</td>\n",
       "      <td>1961.724138</td>\n",
       "      <td>2501.483930</td>\n",
       "      <td>113.0</td>\n",
       "      <td>774.00</td>\n",
       "      <td>1396.0</td>\n",
       "      <td>2067.00</td>\n",
       "      <td>13513.0</td>\n",
       "    </tr>\n",
       "    <tr>\n",
       "      <th>2</th>\n",
       "      <td>34.0</td>\n",
       "      <td>2207.852941</td>\n",
       "      <td>3476.847833</td>\n",
       "      <td>62.0</td>\n",
       "      <td>513.75</td>\n",
       "      <td>1031.0</td>\n",
       "      <td>2218.25</td>\n",
       "      <td>19202.0</td>\n",
       "    </tr>\n",
       "  </tbody>\n",
       "</table>\n",
       "</div>"
      ],
      "text/plain": [
       "                count         mean          std    min     25%     50%  \\\n",
       "status_lending                                                           \n",
       "1                29.0  1961.724138  2501.483930  113.0  774.00  1396.0   \n",
       "2                34.0  2207.852941  3476.847833   62.0  513.75  1031.0   \n",
       "\n",
       "                    75%      max  \n",
       "status_lending                    \n",
       "1               2067.00  13513.0  \n",
       "2               2218.25  19202.0  "
      ]
     },
     "execution_count": 97,
     "metadata": {},
     "output_type": "execute_result"
    }
   ],
   "source": [
    "data.groupby(['status_lending'])['total_trx'].describe()"
   ]
  },
  {
   "cell_type": "code",
   "execution_count": 98,
   "metadata": {},
   "outputs": [
    {
     "data": {
      "image/png": "[encoded data removed]",
      "text/plain": [
       "<Figure size 720x360 with 1 Axes>"
      ]
     },
     "metadata": {},
     "output_type": "display_data"
    }
   ],
   "source": [
    "plt.figure(figsize=(10,5))\n",
    "ax = sns.kdeplot(data[\"total_trx\"][data.status_lending == 1], color=\"darkturquoise\", shade=True)\n",
    "sns.kdeplot(data[\"total_trx\"][data.status_lending == 2], color=\"lightcoral\", shade=True)\n",
    "plt.legend(['Loan_Yes', 'Loan_No'])\n",
    "plt.title('Density Plot of total_trx for Loan Status')\n",
    "ax.set(xlabel='total_trx')\n",
    "plt.xlim(0,40)\n",
    "plt.show()"
   ]
  },
  {
   "cell_type": "code",
   "execution_count": null,
   "metadata": {},
   "outputs": [],
   "source": []
  },
  {
   "cell_type": "markdown",
   "metadata": {},
   "source": [
    "### source_trx vs status_lending"
   ]
  },
  {
   "cell_type": "code",
   "execution_count": 99,
   "metadata": {},
   "outputs": [
    {
     "data": {
      "text/plain": [
       "array(['Android 2.3.6', 'Others', 'Android 2.3.5', 'Android 2.3.4',\n",
       "       'Android 2.3.8', 'Android 2.3.7'], dtype=object)"
      ]
     },
     "execution_count": 99,
     "metadata": {},
     "output_type": "execute_result"
    }
   ],
   "source": [
    "data['source_trx'].unique()"
   ]
  },
  {
   "cell_type": "markdown",
   "metadata": {},
   "source": [
    "Change value 'Android 2.3.6', 'Android 2.3.5', 'Android 2.3.4', 'Android 2.3.8', 'Android 2.3.7' to 'Android'"
   ]
  },
  {
   "cell_type": "code",
   "execution_count": 100,
   "metadata": {},
   "outputs": [],
   "source": [
    "data['source_trx']=np.where(data['source_trx'] =='Android 2.3.6', 'Android', data['source_trx'])\n",
    "data['source_trx']=np.where(data['source_trx'] =='Android 2.3.5', 'Android', data['source_trx'])\n",
    "data['source_trx']=np.where(data['source_trx'] =='Android 2.3.4', 'Android', data['source_trx'])\n",
    "data['source_trx']=np.where(data['source_trx'] =='Android 2.3.8', 'Android', data['source_trx'])\n",
    "data['source_trx']=np.where(data['source_trx'] =='Android 2.3.7', 'Android', data['source_trx'])"
   ]
  },
  {
   "cell_type": "code",
   "execution_count": 101,
   "metadata": {},
   "outputs": [
    {
     "data": {
      "text/plain": [
       "array(['Android', 'Others'], dtype=object)"
      ]
     },
     "execution_count": 101,
     "metadata": {},
     "output_type": "execute_result"
    }
   ],
   "source": [
    "data['source_trx'].unique()"
   ]
  },
  {
   "cell_type": "code",
   "execution_count": 102,
   "metadata": {},
   "outputs": [
    {
     "data": {
      "text/plain": [
       "<matplotlib.axes._subplots.AxesSubplot at 0x10a3efbd0>"
      ]
     },
     "execution_count": 102,
     "metadata": {},
     "output_type": "execute_result"
    },
    {
     "data": {
      "image/png": "[encoded data removed]",
      "text/plain": [
       "<Figure size 432x288 with 1 Axes>"
      ]
     },
     "metadata": {},
     "output_type": "display_data"
    }
   ],
   "source": [
    "sns.countplot(x=\"status_lending\", hue=\"source_trx\", data=data)"
   ]
  },
  {
   "cell_type": "code",
   "execution_count": null,
   "metadata": {},
   "outputs": [],
   "source": []
  },
  {
   "cell_type": "markdown",
   "metadata": {},
   "source": [
    "## Create dummy variables"
   ]
  },
  {
   "cell_type": "markdown",
   "metadata": {},
   "source": [
    "Create categorical variables and drop some variables"
   ]
  },
  {
   "cell_type": "code",
   "execution_count": 103,
   "metadata": {},
   "outputs": [
    {
     "data": {
      "text/html": [
       "<div>\n",
       "<style scoped>\n",
       "    .dataframe tbody tr th:only-of-type {\n",
       "        vertical-align: middle;\n",
       "    }\n",
       "\n",
       "    .dataframe tbody tr th {\n",
       "        vertical-align: top;\n",
       "    }\n",
       "\n",
       "    .dataframe thead th {\n",
       "        text-align: right;\n",
       "    }\n",
       "</style>\n",
       "<table border=\"1\" class=\"dataframe\">\n",
       "  <thead>\n",
       "    <tr style=\"text-align: right;\">\n",
       "      <th></th>\n",
       "      <th>uid</th>\n",
       "      <th>gender</th>\n",
       "      <th>age</th>\n",
       "      <th>cluster_name</th>\n",
       "      <th>partner_name</th>\n",
       "      <th>status_outlet</th>\n",
       "      <th>is_complete</th>\n",
       "      <th>first_trx_date</th>\n",
       "      <th>last_trx_date</th>\n",
       "      <th>in_six_months</th>\n",
       "      <th>active_months</th>\n",
       "      <th>total_gmv</th>\n",
       "      <th>total_trx</th>\n",
       "      <th>source_trx</th>\n",
       "      <th>status_lending</th>\n",
       "      <th>is_good_age</th>\n",
       "      <th>is_loyal_member</th>\n",
       "    </tr>\n",
       "  </thead>\n",
       "  <tbody>\n",
       "    <tr>\n",
       "      <th>0</th>\n",
       "      <td>481</td>\n",
       "      <td>1</td>\n",
       "      <td>33</td>\n",
       "      <td>Indragiri</td>\n",
       "      <td>Lapak Kita</td>\n",
       "      <td>Active</td>\n",
       "      <td>1</td>\n",
       "      <td>2017-04-28</td>\n",
       "      <td>2018-08-01</td>\n",
       "      <td>YES</td>\n",
       "      <td>16.0</td>\n",
       "      <td>34632558.0</td>\n",
       "      <td>1035.0</td>\n",
       "      <td>Android</td>\n",
       "      <td>2</td>\n",
       "      <td>1</td>\n",
       "      <td>1</td>\n",
       "    </tr>\n",
       "    <tr>\n",
       "      <th>1</th>\n",
       "      <td>506</td>\n",
       "      <td>1</td>\n",
       "      <td>27</td>\n",
       "      <td>Indragiri</td>\n",
       "      <td>Lapak Kita</td>\n",
       "      <td>Active</td>\n",
       "      <td>0</td>\n",
       "      <td>2017-03-09</td>\n",
       "      <td>2018-08-01</td>\n",
       "      <td>YES</td>\n",
       "      <td>17.0</td>\n",
       "      <td>26438676.0</td>\n",
       "      <td>884.0</td>\n",
       "      <td>Android</td>\n",
       "      <td>2</td>\n",
       "      <td>1</td>\n",
       "      <td>1</td>\n",
       "    </tr>\n",
       "    <tr>\n",
       "      <th>2</th>\n",
       "      <td>679</td>\n",
       "      <td>2</td>\n",
       "      <td>27</td>\n",
       "      <td>Indragiri</td>\n",
       "      <td>Lapak Kita</td>\n",
       "      <td>Active</td>\n",
       "      <td>1</td>\n",
       "      <td>2017-08-03</td>\n",
       "      <td>2018-08-01</td>\n",
       "      <td>YES</td>\n",
       "      <td>12.0</td>\n",
       "      <td>34262450.0</td>\n",
       "      <td>1310.0</td>\n",
       "      <td>Android</td>\n",
       "      <td>1</td>\n",
       "      <td>1</td>\n",
       "      <td>1</td>\n",
       "    </tr>\n",
       "    <tr>\n",
       "      <th>3</th>\n",
       "      <td>921</td>\n",
       "      <td>2</td>\n",
       "      <td>29</td>\n",
       "      <td>Indragiri</td>\n",
       "      <td>Lapak Kita</td>\n",
       "      <td>Active</td>\n",
       "      <td>1</td>\n",
       "      <td>2016-09-07</td>\n",
       "      <td>2018-08-01</td>\n",
       "      <td>YES</td>\n",
       "      <td>23.0</td>\n",
       "      <td>90686330.0</td>\n",
       "      <td>3903.0</td>\n",
       "      <td>Android</td>\n",
       "      <td>1</td>\n",
       "      <td>1</td>\n",
       "      <td>1</td>\n",
       "    </tr>\n",
       "    <tr>\n",
       "      <th>4</th>\n",
       "      <td>970</td>\n",
       "      <td>1</td>\n",
       "      <td>34</td>\n",
       "      <td>Indragiri</td>\n",
       "      <td>Lapak Kita</td>\n",
       "      <td>Active</td>\n",
       "      <td>1</td>\n",
       "      <td>2017-08-18</td>\n",
       "      <td>2018-08-02</td>\n",
       "      <td>YES</td>\n",
       "      <td>12.0</td>\n",
       "      <td>61209199.0</td>\n",
       "      <td>3435.0</td>\n",
       "      <td>Android</td>\n",
       "      <td>1</td>\n",
       "      <td>1</td>\n",
       "      <td>1</td>\n",
       "    </tr>\n",
       "  </tbody>\n",
       "</table>\n",
       "</div>"
      ],
      "text/plain": [
       "   uid  gender  age cluster_name partner_name status_outlet  is_complete  \\\n",
       "0  481       1   33    Indragiri   Lapak Kita        Active            1   \n",
       "1  506       1   27    Indragiri   Lapak Kita        Active            0   \n",
       "2  679       2   27    Indragiri   Lapak Kita        Active            1   \n",
       "3  921       2   29    Indragiri   Lapak Kita        Active            1   \n",
       "4  970       1   34    Indragiri   Lapak Kita        Active            1   \n",
       "\n",
       "  first_trx_date last_trx_date in_six_months  active_months   total_gmv  \\\n",
       "0     2017-04-28    2018-08-01           YES           16.0  34632558.0   \n",
       "1     2017-03-09    2018-08-01           YES           17.0  26438676.0   \n",
       "2     2017-08-03    2018-08-01           YES           12.0  34262450.0   \n",
       "3     2016-09-07    2018-08-01           YES           23.0  90686330.0   \n",
       "4     2017-08-18    2018-08-02           YES           12.0  61209199.0   \n",
       "\n",
       "   total_trx source_trx  status_lending  is_good_age  is_loyal_member  \n",
       "0     1035.0    Android               2            1                1  \n",
       "1      884.0    Android               2            1                1  \n",
       "2     1310.0    Android               1            1                1  \n",
       "3     3903.0    Android               1            1                1  \n",
       "4     3435.0    Android               1            1                1  "
      ]
     },
     "execution_count": 103,
     "metadata": {},
     "output_type": "execute_result"
    }
   ],
   "source": [
    "data.head()"
   ]
  },
  {
   "cell_type": "code",
   "execution_count": 104,
   "metadata": {},
   "outputs": [],
   "source": [
    "dataframe1 = data.copy()"
   ]
  },
  {
   "cell_type": "markdown",
   "metadata": {},
   "source": [
    " Create categorical variables for 'gender','status_outlet','in_six_months','source_trx','status_lending'"
   ]
  },
  {
   "cell_type": "code",
   "execution_count": 105,
   "metadata": {},
   "outputs": [],
   "source": [
    "dataframe1 = pd.get_dummies(dataframe1, columns=['gender','status_outlet','in_six_months','source_trx', 'status_lending'])"
   ]
  },
  {
   "cell_type": "code",
   "execution_count": 106,
   "metadata": {},
   "outputs": [
    {
     "data": {
      "text/html": [
       "<div>\n",
       "<style scoped>\n",
       "    .dataframe tbody tr th:only-of-type {\n",
       "        vertical-align: middle;\n",
       "    }\n",
       "\n",
       "    .dataframe tbody tr th {\n",
       "        vertical-align: top;\n",
       "    }\n",
       "\n",
       "    .dataframe thead th {\n",
       "        text-align: right;\n",
       "    }\n",
       "</style>\n",
       "<table border=\"1\" class=\"dataframe\">\n",
       "  <thead>\n",
       "    <tr style=\"text-align: right;\">\n",
       "      <th></th>\n",
       "      <th>uid</th>\n",
       "      <th>age</th>\n",
       "      <th>cluster_name</th>\n",
       "      <th>partner_name</th>\n",
       "      <th>is_complete</th>\n",
       "      <th>first_trx_date</th>\n",
       "      <th>last_trx_date</th>\n",
       "      <th>active_months</th>\n",
       "      <th>total_gmv</th>\n",
       "      <th>total_trx</th>\n",
       "      <th>...</th>\n",
       "      <th>gender_1</th>\n",
       "      <th>gender_2</th>\n",
       "      <th>status_outlet_Active</th>\n",
       "      <th>status_outlet_Not Active</th>\n",
       "      <th>in_six_months_NO</th>\n",
       "      <th>in_six_months_YES</th>\n",
       "      <th>source_trx_Android</th>\n",
       "      <th>source_trx_Others</th>\n",
       "      <th>status_lending_1</th>\n",
       "      <th>status_lending_2</th>\n",
       "    </tr>\n",
       "  </thead>\n",
       "  <tbody>\n",
       "    <tr>\n",
       "      <th>0</th>\n",
       "      <td>481</td>\n",
       "      <td>33</td>\n",
       "      <td>Indragiri</td>\n",
       "      <td>Lapak Kita</td>\n",
       "      <td>1</td>\n",
       "      <td>2017-04-28</td>\n",
       "      <td>2018-08-01</td>\n",
       "      <td>16.0</td>\n",
       "      <td>34632558.0</td>\n",
       "      <td>1035.0</td>\n",
       "      <td>...</td>\n",
       "      <td>1</td>\n",
       "      <td>0</td>\n",
       "      <td>1</td>\n",
       "      <td>0</td>\n",
       "      <td>0</td>\n",
       "      <td>1</td>\n",
       "      <td>1</td>\n",
       "      <td>0</td>\n",
       "      <td>0</td>\n",
       "      <td>1</td>\n",
       "    </tr>\n",
       "    <tr>\n",
       "      <th>1</th>\n",
       "      <td>506</td>\n",
       "      <td>27</td>\n",
       "      <td>Indragiri</td>\n",
       "      <td>Lapak Kita</td>\n",
       "      <td>0</td>\n",
       "      <td>2017-03-09</td>\n",
       "      <td>2018-08-01</td>\n",
       "      <td>17.0</td>\n",
       "      <td>26438676.0</td>\n",
       "      <td>884.0</td>\n",
       "      <td>...</td>\n",
       "      <td>1</td>\n",
       "      <td>0</td>\n",
       "      <td>1</td>\n",
       "      <td>0</td>\n",
       "      <td>0</td>\n",
       "      <td>1</td>\n",
       "      <td>1</td>\n",
       "      <td>0</td>\n",
       "      <td>0</td>\n",
       "      <td>1</td>\n",
       "    </tr>\n",
       "    <tr>\n",
       "      <th>2</th>\n",
       "      <td>679</td>\n",
       "      <td>27</td>\n",
       "      <td>Indragiri</td>\n",
       "      <td>Lapak Kita</td>\n",
       "      <td>1</td>\n",
       "      <td>2017-08-03</td>\n",
       "      <td>2018-08-01</td>\n",
       "      <td>12.0</td>\n",
       "      <td>34262450.0</td>\n",
       "      <td>1310.0</td>\n",
       "      <td>...</td>\n",
       "      <td>0</td>\n",
       "      <td>1</td>\n",
       "      <td>1</td>\n",
       "      <td>0</td>\n",
       "      <td>0</td>\n",
       "      <td>1</td>\n",
       "      <td>1</td>\n",
       "      <td>0</td>\n",
       "      <td>1</td>\n",
       "      <td>0</td>\n",
       "    </tr>\n",
       "    <tr>\n",
       "      <th>3</th>\n",
       "      <td>921</td>\n",
       "      <td>29</td>\n",
       "      <td>Indragiri</td>\n",
       "      <td>Lapak Kita</td>\n",
       "      <td>1</td>\n",
       "      <td>2016-09-07</td>\n",
       "      <td>2018-08-01</td>\n",
       "      <td>23.0</td>\n",
       "      <td>90686330.0</td>\n",
       "      <td>3903.0</td>\n",
       "      <td>...</td>\n",
       "      <td>0</td>\n",
       "      <td>1</td>\n",
       "      <td>1</td>\n",
       "      <td>0</td>\n",
       "      <td>0</td>\n",
       "      <td>1</td>\n",
       "      <td>1</td>\n",
       "      <td>0</td>\n",
       "      <td>1</td>\n",
       "      <td>0</td>\n",
       "    </tr>\n",
       "    <tr>\n",
       "      <th>4</th>\n",
       "      <td>970</td>\n",
       "      <td>34</td>\n",
       "      <td>Indragiri</td>\n",
       "      <td>Lapak Kita</td>\n",
       "      <td>1</td>\n",
       "      <td>2017-08-18</td>\n",
       "      <td>2018-08-02</td>\n",
       "      <td>12.0</td>\n",
       "      <td>61209199.0</td>\n",
       "      <td>3435.0</td>\n",
       "      <td>...</td>\n",
       "      <td>1</td>\n",
       "      <td>0</td>\n",
       "      <td>1</td>\n",
       "      <td>0</td>\n",
       "      <td>0</td>\n",
       "      <td>1</td>\n",
       "      <td>1</td>\n",
       "      <td>0</td>\n",
       "      <td>1</td>\n",
       "      <td>0</td>\n",
       "    </tr>\n",
       "  </tbody>\n",
       "</table>\n",
       "<p>5 rows × 22 columns</p>\n",
       "</div>"
      ],
      "text/plain": [
       "   uid  age cluster_name partner_name  is_complete first_trx_date  \\\n",
       "0  481   33    Indragiri   Lapak Kita            1     2017-04-28   \n",
       "1  506   27    Indragiri   Lapak Kita            0     2017-03-09   \n",
       "2  679   27    Indragiri   Lapak Kita            1     2017-08-03   \n",
       "3  921   29    Indragiri   Lapak Kita            1     2016-09-07   \n",
       "4  970   34    Indragiri   Lapak Kita            1     2017-08-18   \n",
       "\n",
       "  last_trx_date  active_months   total_gmv  total_trx        ...         \\\n",
       "0    2018-08-01           16.0  34632558.0     1035.0        ...          \n",
       "1    2018-08-01           17.0  26438676.0      884.0        ...          \n",
       "2    2018-08-01           12.0  34262450.0     1310.0        ...          \n",
       "3    2018-08-01           23.0  90686330.0     3903.0        ...          \n",
       "4    2018-08-02           12.0  61209199.0     3435.0        ...          \n",
       "\n",
       "   gender_1  gender_2  status_outlet_Active  status_outlet_Not Active  \\\n",
       "0         1         0                     1                         0   \n",
       "1         1         0                     1                         0   \n",
       "2         0         1                     1                         0   \n",
       "3         0         1                     1                         0   \n",
       "4         1         0                     1                         0   \n",
       "\n",
       "   in_six_months_NO  in_six_months_YES  source_trx_Android  source_trx_Others  \\\n",
       "0                 0                  1                   1                  0   \n",
       "1                 0                  1                   1                  0   \n",
       "2                 0                  1                   1                  0   \n",
       "3                 0                  1                   1                  0   \n",
       "4                 0                  1                   1                  0   \n",
       "\n",
       "   status_lending_1  status_lending_2  \n",
       "0                 0                 1  \n",
       "1                 0                 1  \n",
       "2                 1                 0  \n",
       "3                 1                 0  \n",
       "4                 1                 0  \n",
       "\n",
       "[5 rows x 22 columns]"
      ]
     },
     "execution_count": 106,
     "metadata": {},
     "output_type": "execute_result"
    }
   ],
   "source": [
    "dataframe1.head()"
   ]
  },
  {
   "cell_type": "markdown",
   "metadata": {},
   "source": [
    "Drop unnecessary columns "
   ]
  },
  {
   "cell_type": "code",
   "execution_count": 107,
   "metadata": {},
   "outputs": [],
   "source": [
    "dataframe1 = dataframe1.drop(['uid','cluster_name','partner_name','first_trx_date', 'last_trx_date','gender_2', 'status_outlet_Not Active','in_six_months_NO', 'source_trx_Others','status_lending_2'] , 1)"
   ]
  },
  {
   "cell_type": "code",
   "execution_count": 108,
   "metadata": {},
   "outputs": [
    {
     "data": {
      "text/html": [
       "<div>\n",
       "<style scoped>\n",
       "    .dataframe tbody tr th:only-of-type {\n",
       "        vertical-align: middle;\n",
       "    }\n",
       "\n",
       "    .dataframe tbody tr th {\n",
       "        vertical-align: top;\n",
       "    }\n",
       "\n",
       "    .dataframe thead th {\n",
       "        text-align: right;\n",
       "    }\n",
       "</style>\n",
       "<table border=\"1\" class=\"dataframe\">\n",
       "  <thead>\n",
       "    <tr style=\"text-align: right;\">\n",
       "      <th></th>\n",
       "      <th>age</th>\n",
       "      <th>is_complete</th>\n",
       "      <th>active_months</th>\n",
       "      <th>total_gmv</th>\n",
       "      <th>total_trx</th>\n",
       "      <th>is_good_age</th>\n",
       "      <th>is_loyal_member</th>\n",
       "      <th>gender_1</th>\n",
       "      <th>status_outlet_Active</th>\n",
       "      <th>in_six_months_YES</th>\n",
       "      <th>source_trx_Android</th>\n",
       "      <th>status_lending_1</th>\n",
       "    </tr>\n",
       "  </thead>\n",
       "  <tbody>\n",
       "    <tr>\n",
       "      <th>0</th>\n",
       "      <td>33</td>\n",
       "      <td>1</td>\n",
       "      <td>16.0</td>\n",
       "      <td>34632558.0</td>\n",
       "      <td>1035.0</td>\n",
       "      <td>1</td>\n",
       "      <td>1</td>\n",
       "      <td>1</td>\n",
       "      <td>1</td>\n",
       "      <td>1</td>\n",
       "      <td>1</td>\n",
       "      <td>0</td>\n",
       "    </tr>\n",
       "    <tr>\n",
       "      <th>1</th>\n",
       "      <td>27</td>\n",
       "      <td>0</td>\n",
       "      <td>17.0</td>\n",
       "      <td>26438676.0</td>\n",
       "      <td>884.0</td>\n",
       "      <td>1</td>\n",
       "      <td>1</td>\n",
       "      <td>1</td>\n",
       "      <td>1</td>\n",
       "      <td>1</td>\n",
       "      <td>1</td>\n",
       "      <td>0</td>\n",
       "    </tr>\n",
       "    <tr>\n",
       "      <th>2</th>\n",
       "      <td>27</td>\n",
       "      <td>1</td>\n",
       "      <td>12.0</td>\n",
       "      <td>34262450.0</td>\n",
       "      <td>1310.0</td>\n",
       "      <td>1</td>\n",
       "      <td>1</td>\n",
       "      <td>0</td>\n",
       "      <td>1</td>\n",
       "      <td>1</td>\n",
       "      <td>1</td>\n",
       "      <td>1</td>\n",
       "    </tr>\n",
       "    <tr>\n",
       "      <th>3</th>\n",
       "      <td>29</td>\n",
       "      <td>1</td>\n",
       "      <td>23.0</td>\n",
       "      <td>90686330.0</td>\n",
       "      <td>3903.0</td>\n",
       "      <td>1</td>\n",
       "      <td>1</td>\n",
       "      <td>0</td>\n",
       "      <td>1</td>\n",
       "      <td>1</td>\n",
       "      <td>1</td>\n",
       "      <td>1</td>\n",
       "    </tr>\n",
       "    <tr>\n",
       "      <th>4</th>\n",
       "      <td>34</td>\n",
       "      <td>1</td>\n",
       "      <td>12.0</td>\n",
       "      <td>61209199.0</td>\n",
       "      <td>3435.0</td>\n",
       "      <td>1</td>\n",
       "      <td>1</td>\n",
       "      <td>1</td>\n",
       "      <td>1</td>\n",
       "      <td>1</td>\n",
       "      <td>1</td>\n",
       "      <td>1</td>\n",
       "    </tr>\n",
       "  </tbody>\n",
       "</table>\n",
       "</div>"
      ],
      "text/plain": [
       "   age  is_complete  active_months   total_gmv  total_trx  is_good_age  \\\n",
       "0   33            1           16.0  34632558.0     1035.0            1   \n",
       "1   27            0           17.0  26438676.0      884.0            1   \n",
       "2   27            1           12.0  34262450.0     1310.0            1   \n",
       "3   29            1           23.0  90686330.0     3903.0            1   \n",
       "4   34            1           12.0  61209199.0     3435.0            1   \n",
       "\n",
       "   is_loyal_member  gender_1  status_outlet_Active  in_six_months_YES  \\\n",
       "0                1         1                     1                  1   \n",
       "1                1         1                     1                  1   \n",
       "2                1         0                     1                  1   \n",
       "3                1         0                     1                  1   \n",
       "4                1         1                     1                  1   \n",
       "\n",
       "   source_trx_Android  status_lending_1  \n",
       "0                   1                 0  \n",
       "1                   1                 0  \n",
       "2                   1                 1  \n",
       "3                   1                 1  \n",
       "4                   1                 1  "
      ]
     },
     "execution_count": 108,
     "metadata": {},
     "output_type": "execute_result"
    }
   ],
   "source": [
    "dataframe1.head()"
   ]
  },
  {
   "cell_type": "markdown",
   "metadata": {},
   "source": [
    "Rename cols 'gender_1' to 'is_male' and 'status_lending_1' to 'status_lending'"
   ]
  },
  {
   "cell_type": "code",
   "execution_count": 109,
   "metadata": {},
   "outputs": [],
   "source": [
    "dataframe1=dataframe1.rename(columns = {'gender_1':'is_male', 'status_lending_1':'status_lending'})"
   ]
  },
  {
   "cell_type": "code",
   "execution_count": 110,
   "metadata": {},
   "outputs": [
    {
     "data": {
      "text/html": [
       "<div>\n",
       "<style scoped>\n",
       "    .dataframe tbody tr th:only-of-type {\n",
       "        vertical-align: middle;\n",
       "    }\n",
       "\n",
       "    .dataframe tbody tr th {\n",
       "        vertical-align: top;\n",
       "    }\n",
       "\n",
       "    .dataframe thead th {\n",
       "        text-align: right;\n",
       "    }\n",
       "</style>\n",
       "<table border=\"1\" class=\"dataframe\">\n",
       "  <thead>\n",
       "    <tr style=\"text-align: right;\">\n",
       "      <th></th>\n",
       "      <th>age</th>\n",
       "      <th>is_complete</th>\n",
       "      <th>active_months</th>\n",
       "      <th>total_gmv</th>\n",
       "      <th>total_trx</th>\n",
       "      <th>is_good_age</th>\n",
       "      <th>is_loyal_member</th>\n",
       "      <th>is_male</th>\n",
       "      <th>status_outlet_Active</th>\n",
       "      <th>in_six_months_YES</th>\n",
       "      <th>source_trx_Android</th>\n",
       "      <th>status_lending</th>\n",
       "    </tr>\n",
       "  </thead>\n",
       "  <tbody>\n",
       "    <tr>\n",
       "      <th>0</th>\n",
       "      <td>33</td>\n",
       "      <td>1</td>\n",
       "      <td>16.0</td>\n",
       "      <td>34632558.0</td>\n",
       "      <td>1035.0</td>\n",
       "      <td>1</td>\n",
       "      <td>1</td>\n",
       "      <td>1</td>\n",
       "      <td>1</td>\n",
       "      <td>1</td>\n",
       "      <td>1</td>\n",
       "      <td>0</td>\n",
       "    </tr>\n",
       "    <tr>\n",
       "      <th>1</th>\n",
       "      <td>27</td>\n",
       "      <td>0</td>\n",
       "      <td>17.0</td>\n",
       "      <td>26438676.0</td>\n",
       "      <td>884.0</td>\n",
       "      <td>1</td>\n",
       "      <td>1</td>\n",
       "      <td>1</td>\n",
       "      <td>1</td>\n",
       "      <td>1</td>\n",
       "      <td>1</td>\n",
       "      <td>0</td>\n",
       "    </tr>\n",
       "    <tr>\n",
       "      <th>2</th>\n",
       "      <td>27</td>\n",
       "      <td>1</td>\n",
       "      <td>12.0</td>\n",
       "      <td>34262450.0</td>\n",
       "      <td>1310.0</td>\n",
       "      <td>1</td>\n",
       "      <td>1</td>\n",
       "      <td>0</td>\n",
       "      <td>1</td>\n",
       "      <td>1</td>\n",
       "      <td>1</td>\n",
       "      <td>1</td>\n",
       "    </tr>\n",
       "    <tr>\n",
       "      <th>3</th>\n",
       "      <td>29</td>\n",
       "      <td>1</td>\n",
       "      <td>23.0</td>\n",
       "      <td>90686330.0</td>\n",
       "      <td>3903.0</td>\n",
       "      <td>1</td>\n",
       "      <td>1</td>\n",
       "      <td>0</td>\n",
       "      <td>1</td>\n",
       "      <td>1</td>\n",
       "      <td>1</td>\n",
       "      <td>1</td>\n",
       "    </tr>\n",
       "    <tr>\n",
       "      <th>4</th>\n",
       "      <td>34</td>\n",
       "      <td>1</td>\n",
       "      <td>12.0</td>\n",
       "      <td>61209199.0</td>\n",
       "      <td>3435.0</td>\n",
       "      <td>1</td>\n",
       "      <td>1</td>\n",
       "      <td>1</td>\n",
       "      <td>1</td>\n",
       "      <td>1</td>\n",
       "      <td>1</td>\n",
       "      <td>1</td>\n",
       "    </tr>\n",
       "  </tbody>\n",
       "</table>\n",
       "</div>"
      ],
      "text/plain": [
       "   age  is_complete  active_months   total_gmv  total_trx  is_good_age  \\\n",
       "0   33            1           16.0  34632558.0     1035.0            1   \n",
       "1   27            0           17.0  26438676.0      884.0            1   \n",
       "2   27            1           12.0  34262450.0     1310.0            1   \n",
       "3   29            1           23.0  90686330.0     3903.0            1   \n",
       "4   34            1           12.0  61209199.0     3435.0            1   \n",
       "\n",
       "   is_loyal_member  is_male  status_outlet_Active  in_six_months_YES  \\\n",
       "0                1        1                     1                  1   \n",
       "1                1        1                     1                  1   \n",
       "2                1        0                     1                  1   \n",
       "3                1        0                     1                  1   \n",
       "4                1        1                     1                  1   \n",
       "\n",
       "   source_trx_Android  status_lending  \n",
       "0                   1               0  \n",
       "1                   1               0  \n",
       "2                   1               1  \n",
       "3                   1               1  \n",
       "4                   1               1  "
      ]
     },
     "execution_count": 110,
     "metadata": {},
     "output_type": "execute_result"
    }
   ],
   "source": [
    "dataframe1.head()"
   ]
  },
  {
   "cell_type": "code",
   "execution_count": 111,
   "metadata": {},
   "outputs": [],
   "source": [
    "train_data = dataframe1.copy()"
   ]
  },
  {
   "cell_type": "markdown",
   "metadata": {},
   "source": [
    "# Logistic Regression "
   ]
  },
  {
   "cell_type": "markdown",
   "metadata": {},
   "source": [
    "## Feature Selection"
   ]
  },
  {
   "cell_type": "code",
   "execution_count": 112,
   "metadata": {},
   "outputs": [],
   "source": [
    "from sklearn.feature_selection import RFE"
   ]
  },
  {
   "cell_type": "code",
   "execution_count": 174,
   "metadata": {},
   "outputs": [],
   "source": [
    "cols = dataframe1.columns.values.tolist()\n",
    "y = ['status_lending']\n",
    "X=[i for i in cols if i not in y]"
   ]
  },
  {
   "cell_type": "code",
   "execution_count": 175,
   "metadata": {},
   "outputs": [
    {
     "name": "stdout",
     "output_type": "stream",
     "text": [
      "['age', 'is_complete', 'total_gmv', 'total_trx', 'is_good_age', 'is_loyal_member', 'in_six_months_YES', 'source_trx_Android']\n"
     ]
    },
    {
     "name": "stderr",
     "output_type": "stream",
     "text": [
      "/usr/local/lib/python2.7/site-packages/sklearn/utils/validation.py:578: DataConversionWarning: A column-vector y was passed when a 1d array was expected. Please change the shape of y to (n_samples, ), for example using ravel().\n",
      "  y = column_or_1d(y, warn=True)\n"
     ]
    }
   ],
   "source": [
    "# Build a model and select 8 attributes\n",
    "LR_model = LogisticRegression()\n",
    "rfe = RFE(LR_model, 8)\n",
    "rfe = rfe.fit(dataframe1[X], dataframe1[y])\n",
    "selected_features = list(dataframe1[X].columns[rfe.support_])\n",
    "\n",
    "print selected_features"
   ]
  },
  {
   "cell_type": "code",
   "execution_count": 65,
   "metadata": {},
   "outputs": [],
   "source": [
    "#!pip install statsmodels"
   ]
  },
  {
   "cell_type": "markdown",
   "metadata": {},
   "source": [
    "### Checking p-value"
   ]
  },
  {
   "cell_type": "markdown",
   "metadata": {},
   "source": [
    "Define X and y "
   ]
  },
  {
   "cell_type": "code",
   "execution_count": 176,
   "metadata": {},
   "outputs": [],
   "source": [
    "X = dataframe1[selected_features]\n",
    "y = dataframe1['status_lending']"
   ]
  },
  {
   "cell_type": "markdown",
   "metadata": {},
   "source": [
    "p-value : Below 0.05, significant. Over 0.05, not significant"
   ]
  },
  {
   "cell_type": "code",
   "execution_count": 177,
   "metadata": {},
   "outputs": [],
   "source": [
    "import statsmodels.api as sm"
   ]
  },
  {
   "cell_type": "code",
   "execution_count": 178,
   "metadata": {},
   "outputs": [
    {
     "name": "stdout",
     "output_type": "stream",
     "text": [
      "Optimization terminated successfully.\n",
      "         Current function value: inf\n",
      "         Iterations 7\n",
      "                           Logit Regression Results                           \n",
      "==============================================================================\n",
      "Dep. Variable:         status_lending   No. Observations:                   63\n",
      "Model:                          Logit   Df Residuals:                       56\n",
      "Method:                           MLE   Df Model:                            6\n",
      "Date:                Wed, 22 Aug 2018   Pseudo R-squ.:                     inf\n",
      "Time:                        17:31:06   Log-Likelihood:                   -inf\n",
      "converged:                       True   LL-Null:                        0.0000\n",
      "                                        LLR p-value:                     1.000\n",
      "======================================================================================\n",
      "                         coef    std err          z      P>|z|      [0.025      0.975]\n",
      "--------------------------------------------------------------------------------------\n",
      "age                   -0.1352      0.057     -2.376      0.018      -0.247      -0.024\n",
      "is_complete            4.4732      1.329      3.365      0.001       1.868       7.078\n",
      "total_gmv            2.25e-08   1.84e-08      1.223      0.221   -1.36e-08    5.86e-08\n",
      "total_trx             -0.0006      0.000     -1.408      0.159      -0.002       0.000\n",
      "is_good_age            1.2653      0.734      1.723      0.085      -0.174       2.705\n",
      "is_loyal_member        2.0053      0.854      2.347      0.019       0.331       3.680\n",
      "in_six_months_YES     -0.8793   1.53e+08  -5.73e-09      1.000   -3.01e+08    3.01e+08\n",
      "source_trx_Android    -0.8793   1.53e+08  -5.73e-09      1.000   -3.01e+08    3.01e+08\n",
      "======================================================================================\n"
     ]
    },
    {
     "name": "stderr",
     "output_type": "stream",
     "text": [
      "/usr/local/lib/python2.7/site-packages/statsmodels/base/model.py:488: HessianInversionWarning: Inverting hessian failed, no bse or cov_params available\n",
      "  'available', HessianInversionWarning)\n",
      "/usr/local/lib/python2.7/site-packages/statsmodels/base/model.py:488: HessianInversionWarning: Inverting hessian failed, no bse or cov_params available\n",
      "  'available', HessianInversionWarning)\n"
     ]
    }
   ],
   "source": [
    "logit_model=sm.Logit(y,X)\n",
    "result=logit_model.fit()\n",
    "print(result.summary())"
   ]
  },
  {
   "cell_type": "markdown",
   "metadata": {},
   "source": [
    "Conclusion : Bad data"
   ]
  },
  {
   "cell_type": "markdown",
   "metadata": {},
   "source": [
    "## Model Evaluation"
   ]
  },
  {
   "cell_type": "markdown",
   "metadata": {},
   "source": [
    "### Model Fitting"
   ]
  },
  {
   "cell_type": "code",
   "execution_count": 179,
   "metadata": {},
   "outputs": [],
   "source": [
    "from sklearn.model_selection import cross_validate\n",
    "from sklearn.model_selection import train_test_split, cross_val_score\n",
    "from sklearn.metrics import accuracy_score, classification_report, precision_score, recall_score "
   ]
  },
  {
   "cell_type": "code",
   "execution_count": 180,
   "metadata": {},
   "outputs": [
    {
     "name": "stdout",
     "output_type": "stream",
     "text": [
      "LogisticRegression accuracy is 0.385\n"
     ]
    }
   ],
   "source": [
    "X_train, X_test, y_train, y_test = train_test_split(X, y, test_size=0.2, random_state=2)\n",
    "\n",
    "logreg = LogisticRegression()\n",
    "logreg.fit(X_train, y_train)\n",
    "\n",
    "y_pred = logreg.predict(X_test)\n",
    "print(logreg.__class__.__name__+\" accuracy is %2.3f\" % accuracy_score(y_test, y_pred))"
   ]
  },
  {
   "cell_type": "code",
   "execution_count": 181,
   "metadata": {},
   "outputs": [
    {
     "name": "stdout",
     "output_type": "stream",
     "text": [
      "0.38461538461538464\n"
     ]
    }
   ],
   "source": [
    "logit_model = logreg.fit(X_train, y_train)  \n",
    "logreg.score(X_train, y_train)  \n",
    "\n",
    "predicted = pd.DataFrame(logit_model.predict(X_test))  \n",
    "\n",
    "probs = pd.DataFrame(logit_model.predict_proba(X_test))  \n",
    "print metrics.accuracy_score(y_test, predicted)   "
   ]
  },
  {
   "cell_type": "code",
   "execution_count": 182,
   "metadata": {},
   "outputs": [
    {
     "name": "stdout",
     "output_type": "stream",
     "text": [
      "Accuracy LR on test set: 0.38\n"
     ]
    }
   ],
   "source": [
    "print('Accuracy LR on test set: {:.2f}'.format(logreg.score(X_test, y_test)))"
   ]
  },
  {
   "cell_type": "code",
   "execution_count": 183,
   "metadata": {},
   "outputs": [
    {
     "name": "stdout",
     "output_type": "stream",
     "text": [
      "LogisticRegression average log_loss: 0.698 (+/-0.009)\n",
      "LogisticRegression average auc: 0.375 (+/-0.146)\n",
      "LogisticRegression average accuracy: 0.524 (+/-0.050)\n"
     ]
    }
   ],
   "source": [
    "scoring = {'accuracy': 'accuracy', 'log_loss': 'neg_log_loss', 'auc': 'roc_auc'}\n",
    "\n",
    "results = cross_validate(logreg, X, y, cv=10, scoring=list(scoring.values()), return_train_score=False)\n",
    "\n",
    "for sc in range(len(scoring)):\n",
    "    print(logreg.__class__.__name__+\" average %s: %.3f (+/-%.3f)\" % (list(scoring.keys())[sc], -results['test_%s' % list(scoring.values())[sc]].mean()\n",
    "                               if list(scoring.values())[sc]=='neg_log_loss' \n",
    "                               else results['test_%s' % list(scoring.values())[sc]].mean(), \n",
    "                               results['test_%s' % list(scoring.values())[sc]].std()))"
   ]
  },
  {
   "cell_type": "markdown",
   "metadata": {},
   "source": [
    "## Cross Validation"
   ]
  },
  {
   "cell_type": "code",
   "execution_count": 184,
   "metadata": {},
   "outputs": [
    {
     "name": "stdout",
     "output_type": "stream",
     "text": [
      "10-fold cross validation average accuracy: 0.483\n"
     ]
    }
   ],
   "source": [
    "from sklearn.model_selection import cross_val_score\n",
    "kfold = model_selection.KFold(n_splits=10, random_state=7)\n",
    "scoring = 'accuracy'\n",
    "results = model_selection.cross_val_score(logreg, X, y, cv=kfold, scoring=scoring)\n",
    "print(\"10-fold cross validation average accuracy: %.3f\" % (results.mean()))"
   ]
  },
  {
   "cell_type": "markdown",
   "metadata": {},
   "source": [
    "## Confusion Matrix"
   ]
  },
  {
   "cell_type": "code",
   "execution_count": 185,
   "metadata": {},
   "outputs": [],
   "source": [
    "from sklearn.metrics import confusion_matrix"
   ]
  },
  {
   "cell_type": "code",
   "execution_count": 186,
   "metadata": {},
   "outputs": [
    {
     "name": "stdout",
     "output_type": "stream",
     "text": [
      "[[0 8]\n",
      " [0 5]]\n"
     ]
    }
   ],
   "source": [
    "print confusion_matrix(y_test, y_pred)"
   ]
  },
  {
   "cell_type": "markdown",
   "metadata": {},
   "source": [
    "Result: 5 correct predictions and 8 incorrect predictions."
   ]
  },
  {
   "cell_type": "markdown",
   "metadata": {},
   "source": [
    "## Precision, Recall, F-measure "
   ]
  },
  {
   "cell_type": "code",
   "execution_count": 187,
   "metadata": {},
   "outputs": [
    {
     "name": "stdout",
     "output_type": "stream",
     "text": [
      "             precision    recall  f1-score   support\n",
      "\n",
      "          0       0.00      0.00      0.00         8\n",
      "          1       0.38      1.00      0.56         5\n",
      "\n",
      "avg / total       0.15      0.38      0.21        13\n",
      "\n"
     ]
    },
    {
     "name": "stderr",
     "output_type": "stream",
     "text": [
      "/usr/local/lib/python2.7/site-packages/sklearn/metrics/classification.py:1135: UndefinedMetricWarning: Precision and F-score are ill-defined and being set to 0.0 in labels with no predicted samples.\n",
      "  'precision', 'predicted', average, warn_for)\n"
     ]
    }
   ],
   "source": [
    "from sklearn.metrics import classification_report\n",
    "print(classification_report(y_test, y_pred))"
   ]
  },
  {
   "cell_type": "code",
   "execution_count": null,
   "metadata": {},
   "outputs": [],
   "source": []
  }
 ],
 "metadata": {
  "kernelspec": {
   "display_name": "Python 2",
   "language": "python",
   "name": "python2"
  },
  "language_info": {
   "codemirror_mode": {
    "name": "ipython",
    "version": 2
   },
   "file_extension": ".py",
   "mimetype": "text/x-python",
   "name": "python",
   "nbconvert_exporter": "python",
   "pygments_lexer": "ipython2",
   "version": "2.7.14"
  }
 },
 "nbformat": 4,
 "nbformat_minor": 2
}
