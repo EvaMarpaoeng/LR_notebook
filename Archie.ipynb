{
 "cells": [
  {
   "cell_type": "code",
   "execution_count": 1,
   "metadata": {},
   "outputs": [],
   "source": [
    "import pandas as pd\n",
    "import numpy as np\n",
    "import warnings\n",
    "warnings.filterwarnings('ignore')"
   ]
  },
  {
   "cell_type": "code",
   "execution_count": 18,
   "metadata": {},
   "outputs": [],
   "source": [
    "data_archie = pd.read_csv('data_archie_17-18.csv')"
   ]
  },
  {
   "cell_type": "code",
   "execution_count": 19,
   "metadata": {},
   "outputs": [
    {
     "name": "stdout",
     "output_type": "stream",
     "text": [
      "Total data = 755252\n"
     ]
    }
   ],
   "source": [
    "print 'Total data = {}'.format(len(data_archie))"
   ]
  },
  {
   "cell_type": "code",
   "execution_count": 20,
   "metadata": {},
   "outputs": [
    {
     "name": "stdout",
     "output_type": "stream",
     "text": [
      "<class 'pandas.core.frame.DataFrame'>\n",
      "RangeIndex: 755252 entries, 0 to 755251\n",
      "Data columns (total 18 columns):\n",
      "transaction_id        755252 non-null int64\n",
      "created_at            755252 non-null object\n",
      "updated_at            755252 non-null object\n",
      "user_id               755226 non-null float64\n",
      "cluster               755226 non-null object\n",
      "partner_name          755226 non-null object\n",
      "fullname              755223 non-null object\n",
      "customer_number       755252 non-null object\n",
      "longitude             31110 non-null float64\n",
      "latitude              31110 non-null float64\n",
      "operator              755252 non-null object\n",
      "product_id            755252 non-null int64\n",
      "product_name          755252 non-null object\n",
      "product_value         755252 non-null int64\n",
      "cur_purchase_price    755252 non-null float64\n",
      "cur_sell_price        755050 non-null float64\n",
      "status                755252 non-null object\n",
      "source                38109 non-null object\n",
      "dtypes: float64(5), int64(3), object(10)\n",
      "memory usage: 103.7+ MB\n"
     ]
    }
   ],
   "source": [
    "data_archie.info(verbose=True)"
   ]
  },
  {
   "cell_type": "markdown",
   "metadata": {},
   "source": [
    "## Data Cleaning"
   ]
  },
  {
   "cell_type": "code",
   "execution_count": 21,
   "metadata": {},
   "outputs": [
    {
     "data": {
      "text/plain": [
       "transaction_id             0\n",
       "created_at                 0\n",
       "updated_at                 0\n",
       "user_id                   26\n",
       "cluster                   26\n",
       "partner_name              26\n",
       "fullname                  29\n",
       "customer_number            0\n",
       "longitude             724142\n",
       "latitude              724142\n",
       "operator                   0\n",
       "product_id                 0\n",
       "product_name               0\n",
       "product_value              0\n",
       "cur_purchase_price         0\n",
       "cur_sell_price           202\n",
       "status                     0\n",
       "source                717143\n",
       "dtype: int64"
      ]
     },
     "execution_count": 21,
     "metadata": {},
     "output_type": "execute_result"
    }
   ],
   "source": [
    "data_archie.isnull().sum()"
   ]
  },
  {
   "cell_type": "code",
   "execution_count": 22,
   "metadata": {},
   "outputs": [],
   "source": [
    "# Drop unnecessary\n",
    "data_archie = data_archie.drop(['fullname','longitude','latitude','source'] , 1)"
   ]
  },
  {
   "cell_type": "code",
   "execution_count": 23,
   "metadata": {},
   "outputs": [
    {
     "data": {
      "text/html": [
       "<div>\n",
       "<style scoped>\n",
       "    .dataframe tbody tr th:only-of-type {\n",
       "        vertical-align: middle;\n",
       "    }\n",
       "\n",
       "    .dataframe tbody tr th {\n",
       "        vertical-align: top;\n",
       "    }\n",
       "\n",
       "    .dataframe thead th {\n",
       "        text-align: right;\n",
       "    }\n",
       "</style>\n",
       "<table border=\"1\" class=\"dataframe\">\n",
       "  <thead>\n",
       "    <tr style=\"text-align: right;\">\n",
       "      <th></th>\n",
       "      <th>transaction_id</th>\n",
       "      <th>created_at</th>\n",
       "      <th>updated_at</th>\n",
       "      <th>user_id</th>\n",
       "      <th>cluster</th>\n",
       "      <th>partner_name</th>\n",
       "      <th>customer_number</th>\n",
       "      <th>operator</th>\n",
       "      <th>product_id</th>\n",
       "      <th>product_name</th>\n",
       "      <th>product_value</th>\n",
       "      <th>cur_purchase_price</th>\n",
       "      <th>cur_sell_price</th>\n",
       "      <th>status</th>\n",
       "    </tr>\n",
       "  </thead>\n",
       "  <tbody>\n",
       "    <tr>\n",
       "      <th>0</th>\n",
       "      <td>1267873</td>\n",
       "      <td>2017-12-10 20:45:51.000000</td>\n",
       "      <td>2017-12-10 20:46:08.000000</td>\n",
       "      <td>24081.0</td>\n",
       "      <td>Banyumas</td>\n",
       "      <td>Lapak Kita</td>\n",
       "      <td>26452811385</td>\n",
       "      <td>Smartfren</td>\n",
       "      <td>34</td>\n",
       "      <td>Smartfren 10.000</td>\n",
       "      <td>10000</td>\n",
       "      <td>10175.0</td>\n",
       "      <td>10225.0</td>\n",
       "      <td>success</td>\n",
       "    </tr>\n",
       "    <tr>\n",
       "      <th>1</th>\n",
       "      <td>1267889</td>\n",
       "      <td>2017-12-10 20:45:57.000000</td>\n",
       "      <td>2017-12-10 20:55:06.000000</td>\n",
       "      <td>416.0</td>\n",
       "      <td>Indragiri</td>\n",
       "      <td>Lapak Kita</td>\n",
       "      <td>255814472019</td>\n",
       "      <td>Telkomsel</td>\n",
       "      <td>293</td>\n",
       "      <td>Telkomsel 10.000</td>\n",
       "      <td>10000</td>\n",
       "      <td>9850.0</td>\n",
       "      <td>9900.0</td>\n",
       "      <td>success</td>\n",
       "    </tr>\n",
       "    <tr>\n",
       "      <th>2</th>\n",
       "      <td>1267897</td>\n",
       "      <td>2017-12-10 20:46:04.000000</td>\n",
       "      <td>2017-12-10 20:55:13.000000</td>\n",
       "      <td>22658.0</td>\n",
       "      <td>Indragiri</td>\n",
       "      <td>Lapak Kita</td>\n",
       "      <td>256120681743</td>\n",
       "      <td>Telkomsel</td>\n",
       "      <td>294</td>\n",
       "      <td>Telkomsel 20.000</td>\n",
       "      <td>20000</td>\n",
       "      <td>19700.0</td>\n",
       "      <td>19800.0</td>\n",
       "      <td>success</td>\n",
       "    </tr>\n",
       "    <tr>\n",
       "      <th>3</th>\n",
       "      <td>1267919</td>\n",
       "      <td>2017-12-10 20:46:12.000000</td>\n",
       "      <td>2017-12-10 20:55:20.000000</td>\n",
       "      <td>24130.0</td>\n",
       "      <td>Indragiri</td>\n",
       "      <td>Lapak Kita</td>\n",
       "      <td>247159394775</td>\n",
       "      <td>Telkomsel</td>\n",
       "      <td>293</td>\n",
       "      <td>Telkomsel 10.000</td>\n",
       "      <td>10000</td>\n",
       "      <td>9850.0</td>\n",
       "      <td>9900.0</td>\n",
       "      <td>success</td>\n",
       "    </tr>\n",
       "    <tr>\n",
       "      <th>4</th>\n",
       "      <td>1267928</td>\n",
       "      <td>2017-12-10 20:46:24.000000</td>\n",
       "      <td>2017-12-10 20:55:27.000000</td>\n",
       "      <td>24111.0</td>\n",
       "      <td>Indragiri</td>\n",
       "      <td>Lapak Kita</td>\n",
       "      <td>247153630911</td>\n",
       "      <td>Telkomsel</td>\n",
       "      <td>295</td>\n",
       "      <td>Telkomsel 25.000</td>\n",
       "      <td>25000</td>\n",
       "      <td>24625.0</td>\n",
       "      <td>24750.0</td>\n",
       "      <td>success</td>\n",
       "    </tr>\n",
       "  </tbody>\n",
       "</table>\n",
       "</div>"
      ],
      "text/plain": [
       "   transaction_id                  created_at                  updated_at  \\\n",
       "0         1267873  2017-12-10 20:45:51.000000  2017-12-10 20:46:08.000000   \n",
       "1         1267889  2017-12-10 20:45:57.000000  2017-12-10 20:55:06.000000   \n",
       "2         1267897  2017-12-10 20:46:04.000000  2017-12-10 20:55:13.000000   \n",
       "3         1267919  2017-12-10 20:46:12.000000  2017-12-10 20:55:20.000000   \n",
       "4         1267928  2017-12-10 20:46:24.000000  2017-12-10 20:55:27.000000   \n",
       "\n",
       "   user_id    cluster partner_name customer_number   operator  product_id  \\\n",
       "0  24081.0   Banyumas   Lapak Kita     26452811385  Smartfren          34   \n",
       "1    416.0  Indragiri   Lapak Kita    255814472019  Telkomsel         293   \n",
       "2  22658.0  Indragiri   Lapak Kita    256120681743  Telkomsel         294   \n",
       "3  24130.0  Indragiri   Lapak Kita    247159394775  Telkomsel         293   \n",
       "4  24111.0  Indragiri   Lapak Kita    247153630911  Telkomsel         295   \n",
       "\n",
       "       product_name  product_value  cur_purchase_price  cur_sell_price  \\\n",
       "0  Smartfren 10.000          10000             10175.0         10225.0   \n",
       "1  Telkomsel 10.000          10000              9850.0          9900.0   \n",
       "2  Telkomsel 20.000          20000             19700.0         19800.0   \n",
       "3  Telkomsel 10.000          10000              9850.0          9900.0   \n",
       "4  Telkomsel 25.000          25000             24625.0         24750.0   \n",
       "\n",
       "    status  \n",
       "0  success  \n",
       "1  success  \n",
       "2  success  \n",
       "3  success  \n",
       "4  success  "
      ]
     },
     "execution_count": 23,
     "metadata": {},
     "output_type": "execute_result"
    }
   ],
   "source": [
    "data_archie.head(5)"
   ]
  },
  {
   "cell_type": "code",
   "execution_count": 24,
   "metadata": {},
   "outputs": [
    {
     "data": {
      "text/plain": [
       "transaction_id          0\n",
       "created_at              0\n",
       "updated_at              0\n",
       "user_id                26\n",
       "cluster                26\n",
       "partner_name           26\n",
       "customer_number         0\n",
       "operator                0\n",
       "product_id              0\n",
       "product_name            0\n",
       "product_value           0\n",
       "cur_purchase_price      0\n",
       "cur_sell_price        202\n",
       "status                  0\n",
       "dtype: int64"
      ]
     },
     "execution_count": 24,
     "metadata": {},
     "output_type": "execute_result"
    }
   ],
   "source": [
    "data_archie.isnull().sum()"
   ]
  },
  {
   "cell_type": "markdown",
   "metadata": {},
   "source": [
    "### user_id"
   ]
  },
  {
   "cell_type": "code",
   "execution_count": 25,
   "metadata": {},
   "outputs": [
    {
     "data": {
      "text/html": [
       "<div>\n",
       "<style scoped>\n",
       "    .dataframe tbody tr th:only-of-type {\n",
       "        vertical-align: middle;\n",
       "    }\n",
       "\n",
       "    .dataframe tbody tr th {\n",
       "        vertical-align: top;\n",
       "    }\n",
       "\n",
       "    .dataframe thead th {\n",
       "        text-align: right;\n",
       "    }\n",
       "</style>\n",
       "<table border=\"1\" class=\"dataframe\">\n",
       "  <thead>\n",
       "    <tr style=\"text-align: right;\">\n",
       "      <th></th>\n",
       "      <th>transaction_id</th>\n",
       "      <th>created_at</th>\n",
       "      <th>updated_at</th>\n",
       "      <th>user_id</th>\n",
       "      <th>cluster</th>\n",
       "      <th>partner_name</th>\n",
       "      <th>customer_number</th>\n",
       "      <th>operator</th>\n",
       "      <th>product_id</th>\n",
       "      <th>product_name</th>\n",
       "      <th>product_value</th>\n",
       "      <th>cur_purchase_price</th>\n",
       "      <th>cur_sell_price</th>\n",
       "      <th>status</th>\n",
       "    </tr>\n",
       "  </thead>\n",
       "  <tbody>\n",
       "    <tr>\n",
       "      <th>5495</th>\n",
       "      <td>7823</td>\n",
       "      <td>2017-10-19 21:14:30.000000</td>\n",
       "      <td>2017-10-19 21:14:30.000000</td>\n",
       "      <td>NaN</td>\n",
       "      <td>NaN</td>\n",
       "      <td>NaN</td>\n",
       "      <td>243834992280</td>\n",
       "      <td>T-Sel MKIOS</td>\n",
       "      <td>202</td>\n",
       "      <td>MKIOS Reguler 10000</td>\n",
       "      <td>10000</td>\n",
       "      <td>10000.0</td>\n",
       "      <td>10000.0</td>\n",
       "      <td>mkios_new</td>\n",
       "    </tr>\n",
       "    <tr>\n",
       "      <th>6087</th>\n",
       "      <td>9016</td>\n",
       "      <td>2017-10-23 19:13:43.000000</td>\n",
       "      <td>2017-10-23 19:14:09.000000</td>\n",
       "      <td>NaN</td>\n",
       "      <td>NaN</td>\n",
       "      <td>NaN</td>\n",
       "      <td>135031878969</td>\n",
       "      <td>PLN Prepaid</td>\n",
       "      <td>429</td>\n",
       "      <td>PLN Prepaid Rp 50,000</td>\n",
       "      <td>50000</td>\n",
       "      <td>0.0</td>\n",
       "      <td>0.0</td>\n",
       "      <td>success</td>\n",
       "    </tr>\n",
       "    <tr>\n",
       "      <th>26884</th>\n",
       "      <td>6085</td>\n",
       "      <td>2017-10-17 17:54:44.000000</td>\n",
       "      <td>2017-10-17 17:55:07.000000</td>\n",
       "      <td>NaN</td>\n",
       "      <td>NaN</td>\n",
       "      <td>NaN</td>\n",
       "      <td>135027052602</td>\n",
       "      <td>PLN Prepaid</td>\n",
       "      <td>430</td>\n",
       "      <td>PLN Prepaid Rp 100,000</td>\n",
       "      <td>100000</td>\n",
       "      <td>0.0</td>\n",
       "      <td>0.0</td>\n",
       "      <td>success</td>\n",
       "    </tr>\n",
       "    <tr>\n",
       "      <th>37172</th>\n",
       "      <td>9046</td>\n",
       "      <td>2017-10-23 20:36:10.000000</td>\n",
       "      <td>2017-10-23 20:37:08.000000</td>\n",
       "      <td>NaN</td>\n",
       "      <td>NaN</td>\n",
       "      <td>NaN</td>\n",
       "      <td>135097350216</td>\n",
       "      <td>PLN Prepaid</td>\n",
       "      <td>187</td>\n",
       "      <td>PLN Prepaid Rp 20,000</td>\n",
       "      <td>20000</td>\n",
       "      <td>0.0</td>\n",
       "      <td>0.0</td>\n",
       "      <td>success</td>\n",
       "    </tr>\n",
       "    <tr>\n",
       "      <th>41750</th>\n",
       "      <td>6701</td>\n",
       "      <td>2017-10-29 21:51:43.000000</td>\n",
       "      <td>2017-10-29 21:51:51.000000</td>\n",
       "      <td>NaN</td>\n",
       "      <td>NaN</td>\n",
       "      <td>NaN</td>\n",
       "      <td>243837310839</td>\n",
       "      <td>Telkomsel</td>\n",
       "      <td>425</td>\n",
       "      <td>Telkomsel Rp 20.000</td>\n",
       "      <td>20000</td>\n",
       "      <td>19900.0</td>\n",
       "      <td>19900.0</td>\n",
       "      <td>success</td>\n",
       "    </tr>\n",
       "  </tbody>\n",
       "</table>\n",
       "</div>"
      ],
      "text/plain": [
       "       transaction_id                  created_at                  updated_at  \\\n",
       "5495             7823  2017-10-19 21:14:30.000000  2017-10-19 21:14:30.000000   \n",
       "6087             9016  2017-10-23 19:13:43.000000  2017-10-23 19:14:09.000000   \n",
       "26884            6085  2017-10-17 17:54:44.000000  2017-10-17 17:55:07.000000   \n",
       "37172            9046  2017-10-23 20:36:10.000000  2017-10-23 20:37:08.000000   \n",
       "41750            6701  2017-10-29 21:51:43.000000  2017-10-29 21:51:51.000000   \n",
       "\n",
       "       user_id cluster partner_name customer_number     operator  product_id  \\\n",
       "5495       NaN     NaN          NaN    243834992280  T-Sel MKIOS         202   \n",
       "6087       NaN     NaN          NaN    135031878969  PLN Prepaid         429   \n",
       "26884      NaN     NaN          NaN    135027052602  PLN Prepaid         430   \n",
       "37172      NaN     NaN          NaN    135097350216  PLN Prepaid         187   \n",
       "41750      NaN     NaN          NaN    243837310839    Telkomsel         425   \n",
       "\n",
       "                 product_name  product_value  cur_purchase_price  \\\n",
       "5495      MKIOS Reguler 10000          10000             10000.0   \n",
       "6087    PLN Prepaid Rp 50,000          50000                 0.0   \n",
       "26884  PLN Prepaid Rp 100,000         100000                 0.0   \n",
       "37172   PLN Prepaid Rp 20,000          20000                 0.0   \n",
       "41750     Telkomsel Rp 20.000          20000             19900.0   \n",
       "\n",
       "       cur_sell_price     status  \n",
       "5495          10000.0  mkios_new  \n",
       "6087              0.0    success  \n",
       "26884             0.0    success  \n",
       "37172             0.0    success  \n",
       "41750         19900.0    success  "
      ]
     },
     "execution_count": 25,
     "metadata": {},
     "output_type": "execute_result"
    }
   ],
   "source": [
    "data_archie.loc[data_archie['user_id'].isnull()].head(5)\n",
    "#data_archie[data_archie['user_id'].isnull()].head(5)"
   ]
  },
  {
   "cell_type": "code",
   "execution_count": 26,
   "metadata": {},
   "outputs": [],
   "source": [
    "# Remove 'user_id = Null' from dataframe \n",
    "data_archie = data_archie[data_archie['user_id'].notnull()]\n",
    "#df = df.dropna(how='any',axis=0)"
   ]
  },
  {
   "cell_type": "code",
   "execution_count": 29,
   "metadata": {},
   "outputs": [],
   "source": [
    "data_archie.user_id = (data_archie['user_id']).astype(int)"
   ]
  },
  {
   "cell_type": "code",
   "execution_count": 28,
   "metadata": {},
   "outputs": [],
   "source": [
    "#data_archie.isnull().sum()"
   ]
  },
  {
   "cell_type": "markdown",
   "metadata": {},
   "source": [
    "### cur_sell_price"
   ]
  },
  {
   "cell_type": "code",
   "execution_count": 30,
   "metadata": {},
   "outputs": [
    {
     "data": {
      "text/html": [
       "<div>\n",
       "<style scoped>\n",
       "    .dataframe tbody tr th:only-of-type {\n",
       "        vertical-align: middle;\n",
       "    }\n",
       "\n",
       "    .dataframe tbody tr th {\n",
       "        vertical-align: top;\n",
       "    }\n",
       "\n",
       "    .dataframe thead th {\n",
       "        text-align: right;\n",
       "    }\n",
       "</style>\n",
       "<table border=\"1\" class=\"dataframe\">\n",
       "  <thead>\n",
       "    <tr style=\"text-align: right;\">\n",
       "      <th></th>\n",
       "      <th>transaction_id</th>\n",
       "      <th>created_at</th>\n",
       "      <th>updated_at</th>\n",
       "      <th>user_id</th>\n",
       "      <th>cluster</th>\n",
       "      <th>partner_name</th>\n",
       "      <th>customer_number</th>\n",
       "      <th>operator</th>\n",
       "      <th>product_id</th>\n",
       "      <th>product_name</th>\n",
       "      <th>product_value</th>\n",
       "      <th>cur_purchase_price</th>\n",
       "      <th>cur_sell_price</th>\n",
       "      <th>status</th>\n",
       "    </tr>\n",
       "  </thead>\n",
       "  <tbody>\n",
       "    <tr>\n",
       "      <th>11621</th>\n",
       "      <td>1281071</td>\n",
       "      <td>2017-12-12 08:59:00.000000</td>\n",
       "      <td>2017-12-12 08:59:05.000000</td>\n",
       "      <td>3513</td>\n",
       "      <td>Cilacap</td>\n",
       "      <td>Lapak Kita</td>\n",
       "      <td>251534541093</td>\n",
       "      <td>Axis</td>\n",
       "      <td>13</td>\n",
       "      <td>Axis 200.000</td>\n",
       "      <td>200000</td>\n",
       "      <td>0.0</td>\n",
       "      <td>NaN</td>\n",
       "      <td>success</td>\n",
       "    </tr>\n",
       "    <tr>\n",
       "      <th>58105</th>\n",
       "      <td>705052</td>\n",
       "      <td>2017-07-05 13:05:02.000000</td>\n",
       "      <td>2017-07-05 13:05:09.000000</td>\n",
       "      <td>2417</td>\n",
       "      <td>Tegal</td>\n",
       "      <td>Lapak Kita</td>\n",
       "      <td>251532607257</td>\n",
       "      <td>Axis</td>\n",
       "      <td>13</td>\n",
       "      <td>Axis 200.000</td>\n",
       "      <td>200000</td>\n",
       "      <td>0.0</td>\n",
       "      <td>NaN</td>\n",
       "      <td>success</td>\n",
       "    </tr>\n",
       "    <tr>\n",
       "      <th>61383</th>\n",
       "      <td>703201</td>\n",
       "      <td>2017-07-05 12:16:38.000000</td>\n",
       "      <td>2017-07-05 12:17:07.000000</td>\n",
       "      <td>2417</td>\n",
       "      <td>Tegal</td>\n",
       "      <td>Lapak Kita</td>\n",
       "      <td>251532607248</td>\n",
       "      <td>Axis</td>\n",
       "      <td>13</td>\n",
       "      <td>Axis 200.000</td>\n",
       "      <td>200000</td>\n",
       "      <td>0.0</td>\n",
       "      <td>NaN</td>\n",
       "      <td>success</td>\n",
       "    </tr>\n",
       "    <tr>\n",
       "      <th>62567</th>\n",
       "      <td>1339994</td>\n",
       "      <td>2017-12-23 12:13:36.000000</td>\n",
       "      <td>2017-12-23 12:14:08.000000</td>\n",
       "      <td>4179</td>\n",
       "      <td>Cilacap</td>\n",
       "      <td>Lapak Kita</td>\n",
       "      <td>251534325141</td>\n",
       "      <td>Axis</td>\n",
       "      <td>13</td>\n",
       "      <td>Axis 200.000</td>\n",
       "      <td>200000</td>\n",
       "      <td>0.0</td>\n",
       "      <td>NaN</td>\n",
       "      <td>success</td>\n",
       "    </tr>\n",
       "    <tr>\n",
       "      <th>63720</th>\n",
       "      <td>707163</td>\n",
       "      <td>2017-07-05 14:02:56.000000</td>\n",
       "      <td>2017-07-05 14:03:07.000000</td>\n",
       "      <td>2417</td>\n",
       "      <td>Tegal</td>\n",
       "      <td>Lapak Kita</td>\n",
       "      <td>251532607215</td>\n",
       "      <td>Axis</td>\n",
       "      <td>13</td>\n",
       "      <td>Axis 200.000</td>\n",
       "      <td>200000</td>\n",
       "      <td>0.0</td>\n",
       "      <td>NaN</td>\n",
       "      <td>success</td>\n",
       "    </tr>\n",
       "  </tbody>\n",
       "</table>\n",
       "</div>"
      ],
      "text/plain": [
       "       transaction_id                  created_at                  updated_at  \\\n",
       "11621         1281071  2017-12-12 08:59:00.000000  2017-12-12 08:59:05.000000   \n",
       "58105          705052  2017-07-05 13:05:02.000000  2017-07-05 13:05:09.000000   \n",
       "61383          703201  2017-07-05 12:16:38.000000  2017-07-05 12:17:07.000000   \n",
       "62567         1339994  2017-12-23 12:13:36.000000  2017-12-23 12:14:08.000000   \n",
       "63720          707163  2017-07-05 14:02:56.000000  2017-07-05 14:03:07.000000   \n",
       "\n",
       "       user_id  cluster partner_name customer_number operator  product_id  \\\n",
       "11621     3513  Cilacap   Lapak Kita    251534541093     Axis          13   \n",
       "58105     2417    Tegal   Lapak Kita    251532607257     Axis          13   \n",
       "61383     2417    Tegal   Lapak Kita    251532607248     Axis          13   \n",
       "62567     4179  Cilacap   Lapak Kita    251534325141     Axis          13   \n",
       "63720     2417    Tegal   Lapak Kita    251532607215     Axis          13   \n",
       "\n",
       "       product_name  product_value  cur_purchase_price  cur_sell_price  \\\n",
       "11621  Axis 200.000         200000                 0.0             NaN   \n",
       "58105  Axis 200.000         200000                 0.0             NaN   \n",
       "61383  Axis 200.000         200000                 0.0             NaN   \n",
       "62567  Axis 200.000         200000                 0.0             NaN   \n",
       "63720  Axis 200.000         200000                 0.0             NaN   \n",
       "\n",
       "        status  \n",
       "11621  success  \n",
       "58105  success  \n",
       "61383  success  \n",
       "62567  success  \n",
       "63720  success  "
      ]
     },
     "execution_count": 30,
     "metadata": {},
     "output_type": "execute_result"
    }
   ],
   "source": [
    "data_archie.loc[data_archie['cur_sell_price'].isnull()].head(5)"
   ]
  },
  {
   "cell_type": "code",
   "execution_count": 31,
   "metadata": {},
   "outputs": [],
   "source": [
    "data_archie = data_archie[data_archie['cur_sell_price'].notnull()]"
   ]
  },
  {
   "cell_type": "code",
   "execution_count": 32,
   "metadata": {},
   "outputs": [
    {
     "data": {
      "text/plain": [
       "transaction_id        0\n",
       "created_at            0\n",
       "updated_at            0\n",
       "user_id               0\n",
       "cluster               0\n",
       "partner_name          0\n",
       "customer_number       0\n",
       "operator              0\n",
       "product_id            0\n",
       "product_name          0\n",
       "product_value         0\n",
       "cur_purchase_price    0\n",
       "cur_sell_price        0\n",
       "status                0\n",
       "dtype: int64"
      ]
     },
     "execution_count": 32,
     "metadata": {},
     "output_type": "execute_result"
    }
   ],
   "source": [
    "data_archie.isnull().sum()"
   ]
  },
  {
   "cell_type": "code",
   "execution_count": 33,
   "metadata": {},
   "outputs": [
    {
     "data": {
      "text/plain": [
       "0.0"
      ]
     },
     "execution_count": 33,
     "metadata": {},
     "output_type": "execute_result"
    }
   ],
   "source": [
    "data_archie['cur_sell_price'].min()"
   ]
  },
  {
   "cell_type": "code",
   "execution_count": 34,
   "metadata": {},
   "outputs": [
    {
     "data": {
      "text/plain": [
       "11911"
      ]
     },
     "execution_count": 34,
     "metadata": {},
     "output_type": "execute_result"
    }
   ],
   "source": [
    "(data_archie['cur_sell_price'] == 0.0).sum()"
   ]
  },
  {
   "cell_type": "code",
   "execution_count": 35,
   "metadata": {},
   "outputs": [
    {
     "data": {
      "text/html": [
       "<div>\n",
       "<style scoped>\n",
       "    .dataframe tbody tr th:only-of-type {\n",
       "        vertical-align: middle;\n",
       "    }\n",
       "\n",
       "    .dataframe tbody tr th {\n",
       "        vertical-align: top;\n",
       "    }\n",
       "\n",
       "    .dataframe thead th {\n",
       "        text-align: right;\n",
       "    }\n",
       "</style>\n",
       "<table border=\"1\" class=\"dataframe\">\n",
       "  <thead>\n",
       "    <tr style=\"text-align: right;\">\n",
       "      <th></th>\n",
       "      <th>transaction_id</th>\n",
       "      <th>created_at</th>\n",
       "      <th>updated_at</th>\n",
       "      <th>user_id</th>\n",
       "      <th>cluster</th>\n",
       "      <th>partner_name</th>\n",
       "      <th>customer_number</th>\n",
       "      <th>operator</th>\n",
       "      <th>product_id</th>\n",
       "      <th>product_name</th>\n",
       "      <th>product_value</th>\n",
       "      <th>cur_purchase_price</th>\n",
       "      <th>cur_sell_price</th>\n",
       "      <th>status</th>\n",
       "    </tr>\n",
       "  </thead>\n",
       "  <tbody>\n",
       "    <tr>\n",
       "      <th>19</th>\n",
       "      <td>1268058</td>\n",
       "      <td>2017-12-10 20:48:32.000000</td>\n",
       "      <td>2017-12-10 20:48:32.000000</td>\n",
       "      <td>24128</td>\n",
       "      <td>Indragiri</td>\n",
       "      <td>Lapak Kita</td>\n",
       "      <td>255835076388</td>\n",
       "      <td>T-Sel MKIOS</td>\n",
       "      <td>202</td>\n",
       "      <td>MKIOS Reguler 10000</td>\n",
       "      <td>10000</td>\n",
       "      <td>0.0</td>\n",
       "      <td>0.0</td>\n",
       "      <td>mkios_new</td>\n",
       "    </tr>\n",
       "    <tr>\n",
       "      <th>241</th>\n",
       "      <td>10117</td>\n",
       "      <td>2017-11-01 00:23:45.000000</td>\n",
       "      <td>2017-11-01 00:23:45.000000</td>\n",
       "      <td>16565</td>\n",
       "      <td>Batam</td>\n",
       "      <td>Golden Technology</td>\n",
       "      <td>247161197601</td>\n",
       "      <td>T-Sel MKIOS</td>\n",
       "      <td>206</td>\n",
       "      <td>MKIOS Reguler 20000</td>\n",
       "      <td>20000</td>\n",
       "      <td>0.0</td>\n",
       "      <td>0.0</td>\n",
       "      <td>mkios_new</td>\n",
       "    </tr>\n",
       "    <tr>\n",
       "      <th>274</th>\n",
       "      <td>1268119</td>\n",
       "      <td>2017-12-10 18:57:38.000000</td>\n",
       "      <td>2017-12-10 18:57:38.000000</td>\n",
       "      <td>24240</td>\n",
       "      <td>Banyumas</td>\n",
       "      <td>Lapak Kita</td>\n",
       "      <td>243680107839</td>\n",
       "      <td>T-Sel MKIOS</td>\n",
       "      <td>206</td>\n",
       "      <td>MKIOS Reguler 20000</td>\n",
       "      <td>20000</td>\n",
       "      <td>0.0</td>\n",
       "      <td>0.0</td>\n",
       "      <td>mkios_new</td>\n",
       "    </tr>\n",
       "    <tr>\n",
       "      <th>283</th>\n",
       "      <td>10119</td>\n",
       "      <td>2017-11-01 00:25:18.000000</td>\n",
       "      <td>2017-11-01 00:25:18.000000</td>\n",
       "      <td>16429</td>\n",
       "      <td>Batam</td>\n",
       "      <td>Golden Technology</td>\n",
       "      <td>255816851505</td>\n",
       "      <td>T-Sel MKIOS</td>\n",
       "      <td>199</td>\n",
       "      <td>MKIOS Reguler 5000</td>\n",
       "      <td>5000</td>\n",
       "      <td>0.0</td>\n",
       "      <td>0.0</td>\n",
       "      <td>mkios_new</td>\n",
       "    </tr>\n",
       "    <tr>\n",
       "      <th>284</th>\n",
       "      <td>10121</td>\n",
       "      <td>2017-11-01 00:27:27.000000</td>\n",
       "      <td>2017-11-01 00:27:27.000000</td>\n",
       "      <td>16103</td>\n",
       "      <td>Batam</td>\n",
       "      <td>Golden Technology</td>\n",
       "      <td>244087850073</td>\n",
       "      <td>T-Sel MKIOS</td>\n",
       "      <td>217</td>\n",
       "      <td>MKIOS Data 100000</td>\n",
       "      <td>100000</td>\n",
       "      <td>0.0</td>\n",
       "      <td>0.0</td>\n",
       "      <td>mkios_new</td>\n",
       "    </tr>\n",
       "  </tbody>\n",
       "</table>\n",
       "</div>"
      ],
      "text/plain": [
       "     transaction_id                  created_at                  updated_at  \\\n",
       "19          1268058  2017-12-10 20:48:32.000000  2017-12-10 20:48:32.000000   \n",
       "241           10117  2017-11-01 00:23:45.000000  2017-11-01 00:23:45.000000   \n",
       "274         1268119  2017-12-10 18:57:38.000000  2017-12-10 18:57:38.000000   \n",
       "283           10119  2017-11-01 00:25:18.000000  2017-11-01 00:25:18.000000   \n",
       "284           10121  2017-11-01 00:27:27.000000  2017-11-01 00:27:27.000000   \n",
       "\n",
       "     user_id    cluster       partner_name customer_number     operator  \\\n",
       "19     24128  Indragiri         Lapak Kita    255835076388  T-Sel MKIOS   \n",
       "241    16565      Batam  Golden Technology    247161197601  T-Sel MKIOS   \n",
       "274    24240   Banyumas         Lapak Kita    243680107839  T-Sel MKIOS   \n",
       "283    16429      Batam  Golden Technology    255816851505  T-Sel MKIOS   \n",
       "284    16103      Batam  Golden Technology    244087850073  T-Sel MKIOS   \n",
       "\n",
       "     product_id         product_name  product_value  cur_purchase_price  \\\n",
       "19          202  MKIOS Reguler 10000          10000                 0.0   \n",
       "241         206  MKIOS Reguler 20000          20000                 0.0   \n",
       "274         206  MKIOS Reguler 20000          20000                 0.0   \n",
       "283         199   MKIOS Reguler 5000           5000                 0.0   \n",
       "284         217    MKIOS Data 100000         100000                 0.0   \n",
       "\n",
       "     cur_sell_price     status  \n",
       "19              0.0  mkios_new  \n",
       "241             0.0  mkios_new  \n",
       "274             0.0  mkios_new  \n",
       "283             0.0  mkios_new  \n",
       "284             0.0  mkios_new  "
      ]
     },
     "execution_count": 35,
     "metadata": {},
     "output_type": "execute_result"
    }
   ],
   "source": [
    "data_archie[data_archie['cur_sell_price'] == 0.0].head()"
   ]
  },
  {
   "cell_type": "code",
   "execution_count": 36,
   "metadata": {},
   "outputs": [],
   "source": [
    "data_archie = data_archie[data_archie.cur_sell_price != 0.0]"
   ]
  },
  {
   "cell_type": "code",
   "execution_count": 37,
   "metadata": {},
   "outputs": [
    {
     "data": {
      "text/plain": [
       "0"
      ]
     },
     "execution_count": 37,
     "metadata": {},
     "output_type": "execute_result"
    }
   ],
   "source": [
    "(data_archie['cur_sell_price'] == 0.0).sum()"
   ]
  },
  {
   "cell_type": "code",
   "execution_count": 38,
   "metadata": {},
   "outputs": [
    {
     "data": {
      "text/plain": [
       "32804"
      ]
     },
     "execution_count": 38,
     "metadata": {},
     "output_type": "execute_result"
    }
   ],
   "source": [
    "(data_archie['cur_purchase_price'] == 0.0).sum()"
   ]
  },
  {
   "cell_type": "code",
   "execution_count": 39,
   "metadata": {},
   "outputs": [],
   "source": [
    "data_archie = data_archie[data_archie.cur_purchase_price != 0.0]"
   ]
  },
  {
   "cell_type": "code",
   "execution_count": 40,
   "metadata": {},
   "outputs": [
    {
     "name": "stdout",
     "output_type": "stream",
     "text": [
      "Total new data = 710309\n"
     ]
    }
   ],
   "source": [
    "print 'Total new data = {}'.format(len(data_archie))"
   ]
  },
  {
   "cell_type": "markdown",
   "metadata": {},
   "source": [
    "## Exploratory Data"
   ]
  },
  {
   "cell_type": "code",
   "execution_count": 41,
   "metadata": {},
   "outputs": [
    {
     "data": {
      "text/plain": [
       "array(['transaction_id', 'created_at', 'updated_at', 'user_id', 'cluster',\n",
       "       'partner_name', 'customer_number', 'operator', 'product_id',\n",
       "       'product_name', 'product_value', 'cur_purchase_price',\n",
       "       'cur_sell_price', 'status'], dtype=object)"
      ]
     },
     "execution_count": 41,
     "metadata": {},
     "output_type": "execute_result"
    }
   ],
   "source": [
    "data_archie.columns.values"
   ]
  },
  {
   "cell_type": "code",
   "execution_count": 42,
   "metadata": {},
   "outputs": [
    {
     "data": {
      "text/plain": [
       "0    2017-12-10\n",
       "1    2017-12-10\n",
       "2    2017-12-10\n",
       "3    2017-12-10\n",
       "4    2017-12-10\n",
       "Name: created_at, dtype: object"
      ]
     },
     "execution_count": 42,
     "metadata": {},
     "output_type": "execute_result"
    }
   ],
   "source": [
    "data_archie.created_at = pd.to_datetime(data_archie['created_at']).dt.date\n",
    "data_archie.updated_at = pd.to_datetime(data_archie['updated_at']).dt.date\n",
    "data_archie.created_at.head(5)"
   ]
  },
  {
   "cell_type": "markdown",
   "metadata": {},
   "source": [
    "### Note: Harga cur_sell_price dari sebuah product_name  itu berbeda sesuai cluster dan partner "
   ]
  },
  {
   "cell_type": "code",
   "execution_count": 33,
   "metadata": {},
   "outputs": [],
   "source": [
    "#(data_archie.loc[data_archie['cur_sell_price'] == 0.0])['product_name'].unique()\n",
    "#(data_archie.loc[data_archie['cur_sell_price'].isnull()])['product_name'].unique()\n",
    "#data_archie.loc[(data_archie['product_name'] == 'Axis 200.000') & (data_archie['cur_sell_price'].notnull())]\n",
    "#(data_archie['product_name'] == 'XL 300.000') & (data_archie['cur_sell_price'].notnull())).sum()\n",
    "\n",
    "#((data_archie['product_name'] == 'XL 30.000') & (data_archie['cur_sell_price'].notnull())).sum()\n",
    "#(data_archie.loc[data_archie['cur_sell_price'].isnull()])['partner_name'].unique()\n",
    "#data_archie.loc[(data_archie['product_name'] == 'XL 30.000') & (data_archie['cur_sell_price'].isnull())].head()\n",
    "#data_archie.loc[(data_archie['cluster'] == 'Cilacap') & (data_archie['partner_name'] == 'Lapak Kita') & (data_archie['product_name'] == 'XL 30.000') & (data_archie['cur_sell_price'].notnull())]\n",
    "\n",
    "#data_archie['cur_sell_price'] = data_archie.groupby(['cluster', 'partner_name', 'product_name'], sort=False)['cur_sell_price'].apply(lambda x: x.ffill().bfill())\n",
    "#data_archie[''] = data_archie.set_index(['cluster', 'partner_name', 'product_name']).cur_sell_price.fillna(data_archie.set_index(['cluster', 'partner_name', 'product_name']).cur_sell_price).reset_index()"
   ]
  },
  {
   "cell_type": "code",
   "execution_count": 43,
   "metadata": {},
   "outputs": [],
   "source": [
    "# New dataframe\n",
    "df = data_archie.copy()"
   ]
  },
  {
   "cell_type": "code",
   "execution_count": 44,
   "metadata": {},
   "outputs": [
    {
     "data": {
      "text/plain": [
       "array(['success', 'failed', 'refunded', 'mkios_new', 'canceled', 'cancel',\n",
       "       'refund', 'failed_payment', 'new'], dtype=object)"
      ]
     },
     "execution_count": 44,
     "metadata": {},
     "output_type": "execute_result"
    }
   ],
   "source": [
    "# Checking transaction status\n",
    "df['status'].unique()"
   ]
  },
  {
   "cell_type": "code",
   "execution_count": 45,
   "metadata": {},
   "outputs": [],
   "source": [
    "#Remove failed transaction from dataframe \n",
    "status = ['failed', 'refunded', 'canceled', 'cancel', 'refund', 'failed_payment', 'new']\n",
    "\n",
    "for i in status:\n",
    "    df = df[df['status'] != i]"
   ]
  },
  {
   "cell_type": "code",
   "execution_count": 46,
   "metadata": {},
   "outputs": [
    {
     "data": {
      "text/plain": [
       "array(['success', 'mkios_new'], dtype=object)"
      ]
     },
     "execution_count": 46,
     "metadata": {},
     "output_type": "execute_result"
    }
   ],
   "source": [
    "df['status'].unique()"
   ]
  },
  {
   "cell_type": "code",
   "execution_count": 47,
   "metadata": {},
   "outputs": [],
   "source": [
    "# Count the profit for every transaction\n",
    "# Save the result to new column 'margin_val'\n",
    "df['margin_val'] =   df['cur_sell_price'] - df['cur_purchase_price']"
   ]
  },
  {
   "cell_type": "code",
   "execution_count": 48,
   "metadata": {},
   "outputs": [
    {
     "data": {
      "text/plain": [
       "-1500.0"
      ]
     },
     "execution_count": 48,
     "metadata": {},
     "output_type": "execute_result"
    }
   ],
   "source": [
    "df['margin_val'].min()"
   ]
  },
  {
   "cell_type": "code",
   "execution_count": 49,
   "metadata": {},
   "outputs": [
    {
     "data": {
      "text/html": [
       "<div>\n",
       "<style scoped>\n",
       "    .dataframe tbody tr th:only-of-type {\n",
       "        vertical-align: middle;\n",
       "    }\n",
       "\n",
       "    .dataframe tbody tr th {\n",
       "        vertical-align: top;\n",
       "    }\n",
       "\n",
       "    .dataframe thead th {\n",
       "        text-align: right;\n",
       "    }\n",
       "</style>\n",
       "<table border=\"1\" class=\"dataframe\">\n",
       "  <thead>\n",
       "    <tr style=\"text-align: right;\">\n",
       "      <th></th>\n",
       "      <th>transaction_id</th>\n",
       "      <th>created_at</th>\n",
       "      <th>updated_at</th>\n",
       "      <th>user_id</th>\n",
       "      <th>cluster</th>\n",
       "      <th>partner_name</th>\n",
       "      <th>customer_number</th>\n",
       "      <th>operator</th>\n",
       "      <th>product_id</th>\n",
       "      <th>product_name</th>\n",
       "      <th>product_value</th>\n",
       "      <th>cur_purchase_price</th>\n",
       "      <th>cur_sell_price</th>\n",
       "      <th>status</th>\n",
       "      <th>margin_val</th>\n",
       "    </tr>\n",
       "  </thead>\n",
       "  <tbody>\n",
       "    <tr>\n",
       "      <th>141</th>\n",
       "      <td>33395</td>\n",
       "      <td>2017-12-10</td>\n",
       "      <td>2017-12-10</td>\n",
       "      <td>4660</td>\n",
       "      <td>Lampung</td>\n",
       "      <td>Golden Technology</td>\n",
       "      <td>264803994807</td>\n",
       "      <td>Smartfren</td>\n",
       "      <td>38</td>\n",
       "      <td>Smartfren 60.000</td>\n",
       "      <td>60000</td>\n",
       "      <td>60000.0</td>\n",
       "      <td>59500.0</td>\n",
       "      <td>success</td>\n",
       "      <td>-500.0</td>\n",
       "    </tr>\n",
       "    <tr>\n",
       "      <th>912</th>\n",
       "      <td>33732</td>\n",
       "      <td>2017-12-11</td>\n",
       "      <td>2017-12-11</td>\n",
       "      <td>15746</td>\n",
       "      <td>Batam</td>\n",
       "      <td>Golden Technology</td>\n",
       "      <td>257933428338</td>\n",
       "      <td>XL</td>\n",
       "      <td>178</td>\n",
       "      <td>XL 100.000</td>\n",
       "      <td>100000</td>\n",
       "      <td>100000.0</td>\n",
       "      <td>99000.0</td>\n",
       "      <td>success</td>\n",
       "      <td>-1000.0</td>\n",
       "    </tr>\n",
       "    <tr>\n",
       "      <th>4842</th>\n",
       "      <td>33658</td>\n",
       "      <td>2017-12-11</td>\n",
       "      <td>2017-12-11</td>\n",
       "      <td>15746</td>\n",
       "      <td>Batam</td>\n",
       "      <td>Golden Technology</td>\n",
       "      <td>257924208384</td>\n",
       "      <td>XL</td>\n",
       "      <td>178</td>\n",
       "      <td>XL 100.000</td>\n",
       "      <td>100000</td>\n",
       "      <td>100000.0</td>\n",
       "      <td>99000.0</td>\n",
       "      <td>success</td>\n",
       "      <td>-1000.0</td>\n",
       "    </tr>\n",
       "    <tr>\n",
       "      <th>5128</th>\n",
       "      <td>33659</td>\n",
       "      <td>2017-12-11</td>\n",
       "      <td>2017-12-11</td>\n",
       "      <td>15746</td>\n",
       "      <td>Batam</td>\n",
       "      <td>Golden Technology</td>\n",
       "      <td>257924208384</td>\n",
       "      <td>XL</td>\n",
       "      <td>176</td>\n",
       "      <td>XL 50.000</td>\n",
       "      <td>50000</td>\n",
       "      <td>50000.0</td>\n",
       "      <td>49700.0</td>\n",
       "      <td>success</td>\n",
       "      <td>-300.0</td>\n",
       "    </tr>\n",
       "    <tr>\n",
       "      <th>5966</th>\n",
       "      <td>34229</td>\n",
       "      <td>2017-12-11</td>\n",
       "      <td>2017-12-11</td>\n",
       "      <td>16362</td>\n",
       "      <td>Batam</td>\n",
       "      <td>Golden Technology</td>\n",
       "      <td>2686099197564</td>\n",
       "      <td>3</td>\n",
       "      <td>165</td>\n",
       "      <td>Tri 50.000</td>\n",
       "      <td>50000</td>\n",
       "      <td>50000.0</td>\n",
       "      <td>49875.0</td>\n",
       "      <td>success</td>\n",
       "      <td>-125.0</td>\n",
       "    </tr>\n",
       "  </tbody>\n",
       "</table>\n",
       "</div>"
      ],
      "text/plain": [
       "      transaction_id  created_at  updated_at  user_id  cluster  \\\n",
       "141            33395  2017-12-10  2017-12-10     4660  Lampung   \n",
       "912            33732  2017-12-11  2017-12-11    15746    Batam   \n",
       "4842           33658  2017-12-11  2017-12-11    15746    Batam   \n",
       "5128           33659  2017-12-11  2017-12-11    15746    Batam   \n",
       "5966           34229  2017-12-11  2017-12-11    16362    Batam   \n",
       "\n",
       "           partner_name customer_number   operator  product_id  \\\n",
       "141   Golden Technology    264803994807  Smartfren          38   \n",
       "912   Golden Technology    257933428338         XL         178   \n",
       "4842  Golden Technology    257924208384         XL         178   \n",
       "5128  Golden Technology    257924208384         XL         176   \n",
       "5966  Golden Technology   2686099197564          3         165   \n",
       "\n",
       "          product_name  product_value  cur_purchase_price  cur_sell_price  \\\n",
       "141   Smartfren 60.000          60000             60000.0         59500.0   \n",
       "912         XL 100.000         100000            100000.0         99000.0   \n",
       "4842        XL 100.000         100000            100000.0         99000.0   \n",
       "5128         XL 50.000          50000             50000.0         49700.0   \n",
       "5966        Tri 50.000          50000             50000.0         49875.0   \n",
       "\n",
       "       status  margin_val  \n",
       "141   success      -500.0  \n",
       "912   success     -1000.0  \n",
       "4842  success     -1000.0  \n",
       "5128  success      -300.0  \n",
       "5966  success      -125.0  "
      ]
     },
     "execution_count": 49,
     "metadata": {},
     "output_type": "execute_result"
    }
   ],
   "source": [
    "(df.loc[df['margin_val'] < 0]).head()"
   ]
  },
  {
   "cell_type": "code",
   "execution_count": 50,
   "metadata": {},
   "outputs": [],
   "source": [
    "df2 = df.copy()"
   ]
  },
  {
   "cell_type": "code",
   "execution_count": 51,
   "metadata": {},
   "outputs": [
    {
     "data": {
      "text/plain": [
       "305"
      ]
     },
     "execution_count": 51,
     "metadata": {},
     "output_type": "execute_result"
    }
   ],
   "source": [
    "(df['margin_val'] < 0).sum()"
   ]
  },
  {
   "cell_type": "code",
   "execution_count": 52,
   "metadata": {},
   "outputs": [],
   "source": [
    "df = df[df['margin_val'] > 0]"
   ]
  },
  {
   "cell_type": "code",
   "execution_count": 53,
   "metadata": {},
   "outputs": [
    {
     "data": {
      "text/plain": [
       "0"
      ]
     },
     "execution_count": 53,
     "metadata": {},
     "output_type": "execute_result"
    }
   ],
   "source": [
    "(df['margin_val'] < 0).sum()"
   ]
  },
  {
   "cell_type": "code",
   "execution_count": 54,
   "metadata": {
    "scrolled": true
   },
   "outputs": [
    {
     "data": {
      "text/html": [
       "<div>\n",
       "<style scoped>\n",
       "    .dataframe tbody tr th:only-of-type {\n",
       "        vertical-align: middle;\n",
       "    }\n",
       "\n",
       "    .dataframe tbody tr th {\n",
       "        vertical-align: top;\n",
       "    }\n",
       "\n",
       "    .dataframe thead th {\n",
       "        text-align: right;\n",
       "    }\n",
       "</style>\n",
       "<table border=\"1\" class=\"dataframe\">\n",
       "  <thead>\n",
       "    <tr style=\"text-align: right;\">\n",
       "      <th></th>\n",
       "      <th>transaction_id</th>\n",
       "      <th>created_at</th>\n",
       "      <th>updated_at</th>\n",
       "      <th>user_id</th>\n",
       "      <th>cluster</th>\n",
       "      <th>partner_name</th>\n",
       "      <th>customer_number</th>\n",
       "      <th>operator</th>\n",
       "      <th>product_id</th>\n",
       "      <th>product_name</th>\n",
       "      <th>product_value</th>\n",
       "      <th>cur_purchase_price</th>\n",
       "      <th>cur_sell_price</th>\n",
       "      <th>status</th>\n",
       "      <th>margin_val</th>\n",
       "    </tr>\n",
       "  </thead>\n",
       "  <tbody>\n",
       "    <tr>\n",
       "      <th>0</th>\n",
       "      <td>1267873</td>\n",
       "      <td>2017-12-10</td>\n",
       "      <td>2017-12-10</td>\n",
       "      <td>24081</td>\n",
       "      <td>Banyumas</td>\n",
       "      <td>Lapak Kita</td>\n",
       "      <td>26452811385</td>\n",
       "      <td>Smartfren</td>\n",
       "      <td>34</td>\n",
       "      <td>Smartfren 10.000</td>\n",
       "      <td>10000</td>\n",
       "      <td>10175.0</td>\n",
       "      <td>10225.0</td>\n",
       "      <td>success</td>\n",
       "      <td>50.0</td>\n",
       "    </tr>\n",
       "    <tr>\n",
       "      <th>1</th>\n",
       "      <td>1267889</td>\n",
       "      <td>2017-12-10</td>\n",
       "      <td>2017-12-10</td>\n",
       "      <td>416</td>\n",
       "      <td>Indragiri</td>\n",
       "      <td>Lapak Kita</td>\n",
       "      <td>255814472019</td>\n",
       "      <td>Telkomsel</td>\n",
       "      <td>293</td>\n",
       "      <td>Telkomsel 10.000</td>\n",
       "      <td>10000</td>\n",
       "      <td>9850.0</td>\n",
       "      <td>9900.0</td>\n",
       "      <td>success</td>\n",
       "      <td>50.0</td>\n",
       "    </tr>\n",
       "    <tr>\n",
       "      <th>2</th>\n",
       "      <td>1267897</td>\n",
       "      <td>2017-12-10</td>\n",
       "      <td>2017-12-10</td>\n",
       "      <td>22658</td>\n",
       "      <td>Indragiri</td>\n",
       "      <td>Lapak Kita</td>\n",
       "      <td>256120681743</td>\n",
       "      <td>Telkomsel</td>\n",
       "      <td>294</td>\n",
       "      <td>Telkomsel 20.000</td>\n",
       "      <td>20000</td>\n",
       "      <td>19700.0</td>\n",
       "      <td>19800.0</td>\n",
       "      <td>success</td>\n",
       "      <td>100.0</td>\n",
       "    </tr>\n",
       "    <tr>\n",
       "      <th>3</th>\n",
       "      <td>1267919</td>\n",
       "      <td>2017-12-10</td>\n",
       "      <td>2017-12-10</td>\n",
       "      <td>24130</td>\n",
       "      <td>Indragiri</td>\n",
       "      <td>Lapak Kita</td>\n",
       "      <td>247159394775</td>\n",
       "      <td>Telkomsel</td>\n",
       "      <td>293</td>\n",
       "      <td>Telkomsel 10.000</td>\n",
       "      <td>10000</td>\n",
       "      <td>9850.0</td>\n",
       "      <td>9900.0</td>\n",
       "      <td>success</td>\n",
       "      <td>50.0</td>\n",
       "    </tr>\n",
       "    <tr>\n",
       "      <th>4</th>\n",
       "      <td>1267928</td>\n",
       "      <td>2017-12-10</td>\n",
       "      <td>2017-12-10</td>\n",
       "      <td>24111</td>\n",
       "      <td>Indragiri</td>\n",
       "      <td>Lapak Kita</td>\n",
       "      <td>247153630911</td>\n",
       "      <td>Telkomsel</td>\n",
       "      <td>295</td>\n",
       "      <td>Telkomsel 25.000</td>\n",
       "      <td>25000</td>\n",
       "      <td>24625.0</td>\n",
       "      <td>24750.0</td>\n",
       "      <td>success</td>\n",
       "      <td>125.0</td>\n",
       "    </tr>\n",
       "  </tbody>\n",
       "</table>\n",
       "</div>"
      ],
      "text/plain": [
       "   transaction_id  created_at  updated_at  user_id    cluster partner_name  \\\n",
       "0         1267873  2017-12-10  2017-12-10    24081   Banyumas   Lapak Kita   \n",
       "1         1267889  2017-12-10  2017-12-10      416  Indragiri   Lapak Kita   \n",
       "2         1267897  2017-12-10  2017-12-10    22658  Indragiri   Lapak Kita   \n",
       "3         1267919  2017-12-10  2017-12-10    24130  Indragiri   Lapak Kita   \n",
       "4         1267928  2017-12-10  2017-12-10    24111  Indragiri   Lapak Kita   \n",
       "\n",
       "  customer_number   operator  product_id      product_name  product_value  \\\n",
       "0     26452811385  Smartfren          34  Smartfren 10.000          10000   \n",
       "1    255814472019  Telkomsel         293  Telkomsel 10.000          10000   \n",
       "2    256120681743  Telkomsel         294  Telkomsel 20.000          20000   \n",
       "3    247159394775  Telkomsel         293  Telkomsel 10.000          10000   \n",
       "4    247153630911  Telkomsel         295  Telkomsel 25.000          25000   \n",
       "\n",
       "   cur_purchase_price  cur_sell_price   status  margin_val  \n",
       "0             10175.0         10225.0  success        50.0  \n",
       "1              9850.0          9900.0  success        50.0  \n",
       "2             19700.0         19800.0  success       100.0  \n",
       "3              9850.0          9900.0  success        50.0  \n",
       "4             24625.0         24750.0  success       125.0  "
      ]
     },
     "execution_count": 54,
     "metadata": {},
     "output_type": "execute_result"
    }
   ],
   "source": [
    "df.head()"
   ]
  },
  {
   "cell_type": "code",
   "execution_count": 55,
   "metadata": {},
   "outputs": [
    {
     "name": "stdout",
     "output_type": "stream",
     "text": [
      "{'partner_name': <function <lambda> at 0x114177488>, 'created_at': ['min', 'max'], 'margin_val': 'sum', 'cur_sell_price': 'sum', 'cluster': <function <lambda> at 0x114177410>, 'transaction_id': 'count'}\n"
     ]
    }
   ],
   "source": [
    "# Group the dataframe by user_id\n",
    "aggs = {}\n",
    "aggs['transaction_id'] = 'count'\n",
    "aggs['created_at'] = ['min', 'max']\n",
    "aggs['cluster'] = lambda x:x.iloc[0]\n",
    "aggs['partner_name'] = lambda x:x.iloc[0]\n",
    "aggs['cur_sell_price'] = 'sum'\n",
    "aggs['margin_val'] = 'sum'\n",
    "\n",
    "df_final = df.groupby('user_id', as_index=False).agg(aggs)\n",
    "\n",
    "print aggs"
   ]
  },
  {
   "cell_type": "code",
   "execution_count": 56,
   "metadata": {},
   "outputs": [],
   "source": [
    "#New columns' name\n",
    "df_final.columns = ['user_id','partner_name', 'first_trx', 'last_trx', 'total_profit', 'monetary', 'cluster', 'frequency']"
   ]
  },
  {
   "cell_type": "code",
   "execution_count": 57,
   "metadata": {},
   "outputs": [
    {
     "data": {
      "text/html": [
       "<div>\n",
       "<style scoped>\n",
       "    .dataframe tbody tr th:only-of-type {\n",
       "        vertical-align: middle;\n",
       "    }\n",
       "\n",
       "    .dataframe tbody tr th {\n",
       "        vertical-align: top;\n",
       "    }\n",
       "\n",
       "    .dataframe thead th {\n",
       "        text-align: right;\n",
       "    }\n",
       "</style>\n",
       "<table border=\"1\" class=\"dataframe\">\n",
       "  <thead>\n",
       "    <tr style=\"text-align: right;\">\n",
       "      <th></th>\n",
       "      <th>user_id</th>\n",
       "      <th>partner_name</th>\n",
       "      <th>first_trx</th>\n",
       "      <th>last_trx</th>\n",
       "      <th>total_profit</th>\n",
       "      <th>monetary</th>\n",
       "      <th>cluster</th>\n",
       "      <th>frequency</th>\n",
       "    </tr>\n",
       "  </thead>\n",
       "  <tbody>\n",
       "    <tr>\n",
       "      <th>0</th>\n",
       "      <td>17</td>\n",
       "      <td>Lapak Kita</td>\n",
       "      <td>2017-08-14</td>\n",
       "      <td>2017-11-22</td>\n",
       "      <td>3045.0</td>\n",
       "      <td>760508.0</td>\n",
       "      <td>Indragiri</td>\n",
       "      <td>52</td>\n",
       "    </tr>\n",
       "    <tr>\n",
       "      <th>1</th>\n",
       "      <td>59</td>\n",
       "      <td>Lapak Kita</td>\n",
       "      <td>2017-07-01</td>\n",
       "      <td>2017-07-01</td>\n",
       "      <td>50.0</td>\n",
       "      <td>9900.0</td>\n",
       "      <td>Indragiri</td>\n",
       "      <td>1</td>\n",
       "    </tr>\n",
       "    <tr>\n",
       "      <th>2</th>\n",
       "      <td>60</td>\n",
       "      <td>Lapak Kita</td>\n",
       "      <td>2017-07-01</td>\n",
       "      <td>2017-07-15</td>\n",
       "      <td>4250.0</td>\n",
       "      <td>840500.0</td>\n",
       "      <td>Indragiri</td>\n",
       "      <td>70</td>\n",
       "    </tr>\n",
       "    <tr>\n",
       "      <th>3</th>\n",
       "      <td>61</td>\n",
       "      <td>Lapak Kita</td>\n",
       "      <td>2017-07-12</td>\n",
       "      <td>2017-12-20</td>\n",
       "      <td>10875.0</td>\n",
       "      <td>6524400.0</td>\n",
       "      <td>Indragiri</td>\n",
       "      <td>98</td>\n",
       "    </tr>\n",
       "    <tr>\n",
       "      <th>4</th>\n",
       "      <td>63</td>\n",
       "      <td>Jawa Pos</td>\n",
       "      <td>2017-08-11</td>\n",
       "      <td>2017-11-02</td>\n",
       "      <td>250.0</td>\n",
       "      <td>51650.0</td>\n",
       "      <td>Cirebon</td>\n",
       "      <td>4</td>\n",
       "    </tr>\n",
       "  </tbody>\n",
       "</table>\n",
       "</div>"
      ],
      "text/plain": [
       "   user_id partner_name   first_trx    last_trx  total_profit   monetary  \\\n",
       "0       17   Lapak Kita  2017-08-14  2017-11-22        3045.0   760508.0   \n",
       "1       59   Lapak Kita  2017-07-01  2017-07-01          50.0     9900.0   \n",
       "2       60   Lapak Kita  2017-07-01  2017-07-15        4250.0   840500.0   \n",
       "3       61   Lapak Kita  2017-07-12  2017-12-20       10875.0  6524400.0   \n",
       "4       63     Jawa Pos  2017-08-11  2017-11-02         250.0    51650.0   \n",
       "\n",
       "     cluster  frequency  \n",
       "0  Indragiri         52  \n",
       "1  Indragiri          1  \n",
       "2  Indragiri         70  \n",
       "3  Indragiri         98  \n",
       "4    Cirebon          4  "
      ]
     },
     "execution_count": 57,
     "metadata": {},
     "output_type": "execute_result"
    }
   ],
   "source": [
    "df_final.head(5)"
   ]
  },
  {
   "cell_type": "code",
   "execution_count": 58,
   "metadata": {},
   "outputs": [
    {
     "data": {
      "text/html": [
       "<div>\n",
       "<style scoped>\n",
       "    .dataframe tbody tr th:only-of-type {\n",
       "        vertical-align: middle;\n",
       "    }\n",
       "\n",
       "    .dataframe tbody tr th {\n",
       "        vertical-align: top;\n",
       "    }\n",
       "\n",
       "    .dataframe thead th {\n",
       "        text-align: right;\n",
       "    }\n",
       "</style>\n",
       "<table border=\"1\" class=\"dataframe\">\n",
       "  <thead>\n",
       "    <tr style=\"text-align: right;\">\n",
       "      <th></th>\n",
       "      <th>transaction_id</th>\n",
       "      <th>created_at</th>\n",
       "      <th>updated_at</th>\n",
       "      <th>user_id</th>\n",
       "      <th>cluster</th>\n",
       "      <th>partner_name</th>\n",
       "      <th>customer_number</th>\n",
       "      <th>operator</th>\n",
       "      <th>product_id</th>\n",
       "      <th>product_name</th>\n",
       "      <th>product_value</th>\n",
       "      <th>cur_purchase_price</th>\n",
       "      <th>cur_sell_price</th>\n",
       "      <th>status</th>\n",
       "      <th>margin_val</th>\n",
       "    </tr>\n",
       "  </thead>\n",
       "  <tbody>\n",
       "    <tr>\n",
       "      <th>3313</th>\n",
       "      <td>1079845</td>\n",
       "      <td>2017-11-01</td>\n",
       "      <td>2017-11-01</td>\n",
       "      <td>63</td>\n",
       "      <td>Cirebon</td>\n",
       "      <td>Jawa Pos</td>\n",
       "      <td>263355140451</td>\n",
       "      <td>XL</td>\n",
       "      <td>170</td>\n",
       "      <td>XL 5.000</td>\n",
       "      <td>5000</td>\n",
       "      <td>5650.0</td>\n",
       "      <td>5675.0</td>\n",
       "      <td>success</td>\n",
       "      <td>25.0</td>\n",
       "    </tr>\n",
       "    <tr>\n",
       "      <th>24128</th>\n",
       "      <td>1083548</td>\n",
       "      <td>2017-11-02</td>\n",
       "      <td>2017-11-02</td>\n",
       "      <td>63</td>\n",
       "      <td>Cirebon</td>\n",
       "      <td>Jawa Pos</td>\n",
       "      <td>3342518331</td>\n",
       "      <td>PLN Prepaid</td>\n",
       "      <td>187</td>\n",
       "      <td>PLN Prepaid Rp 20,000</td>\n",
       "      <td>20000</td>\n",
       "      <td>20050.0</td>\n",
       "      <td>20150.0</td>\n",
       "      <td>success</td>\n",
       "      <td>100.0</td>\n",
       "    </tr>\n",
       "    <tr>\n",
       "      <th>47952</th>\n",
       "      <td>1087137</td>\n",
       "      <td>2017-11-02</td>\n",
       "      <td>2017-11-02</td>\n",
       "      <td>63</td>\n",
       "      <td>Cirebon</td>\n",
       "      <td>Jawa Pos</td>\n",
       "      <td>263355140451</td>\n",
       "      <td>XL</td>\n",
       "      <td>170</td>\n",
       "      <td>XL 5.000</td>\n",
       "      <td>5000</td>\n",
       "      <td>5650.0</td>\n",
       "      <td>5675.0</td>\n",
       "      <td>success</td>\n",
       "      <td>25.0</td>\n",
       "    </tr>\n",
       "    <tr>\n",
       "      <th>412021</th>\n",
       "      <td>35266</td>\n",
       "      <td>2017-08-11</td>\n",
       "      <td>2017-09-25</td>\n",
       "      <td>63</td>\n",
       "      <td>Cirebon</td>\n",
       "      <td>Jawa Pos</td>\n",
       "      <td>3342518331</td>\n",
       "      <td>PLN Prepaid</td>\n",
       "      <td>187</td>\n",
       "      <td>PLN Prepaid Rp 20,000</td>\n",
       "      <td>20000</td>\n",
       "      <td>20050.0</td>\n",
       "      <td>20150.0</td>\n",
       "      <td>success</td>\n",
       "      <td>100.0</td>\n",
       "    </tr>\n",
       "  </tbody>\n",
       "</table>\n",
       "</div>"
      ],
      "text/plain": [
       "        transaction_id  created_at  updated_at  user_id  cluster partner_name  \\\n",
       "3313           1079845  2017-11-01  2017-11-01       63  Cirebon     Jawa Pos   \n",
       "24128          1083548  2017-11-02  2017-11-02       63  Cirebon     Jawa Pos   \n",
       "47952          1087137  2017-11-02  2017-11-02       63  Cirebon     Jawa Pos   \n",
       "412021           35266  2017-08-11  2017-09-25       63  Cirebon     Jawa Pos   \n",
       "\n",
       "       customer_number     operator  product_id           product_name  \\\n",
       "3313      263355140451           XL         170               XL 5.000   \n",
       "24128       3342518331  PLN Prepaid         187  PLN Prepaid Rp 20,000   \n",
       "47952     263355140451           XL         170               XL 5.000   \n",
       "412021      3342518331  PLN Prepaid         187  PLN Prepaid Rp 20,000   \n",
       "\n",
       "        product_value  cur_purchase_price  cur_sell_price   status  margin_val  \n",
       "3313             5000              5650.0          5675.0  success        25.0  \n",
       "24128           20000             20050.0         20150.0  success       100.0  \n",
       "47952            5000              5650.0          5675.0  success        25.0  \n",
       "412021          20000             20050.0         20150.0  success       100.0  "
      ]
     },
     "execution_count": 58,
     "metadata": {},
     "output_type": "execute_result"
    }
   ],
   "source": [
    "# Checking the result\n",
    "df.loc[df['user_id'] == 63]"
   ]
  },
  {
   "cell_type": "code",
   "execution_count": 59,
   "metadata": {},
   "outputs": [],
   "source": [
    "# Count the total custumer for every user_id\n",
    "df_final['total_cust'] = df.groupby('user_id', as_index=False)['customer_number'].nunique()"
   ]
  },
  {
   "cell_type": "code",
   "execution_count": 60,
   "metadata": {},
   "outputs": [
    {
     "data": {
      "text/html": [
       "<div>\n",
       "<style scoped>\n",
       "    .dataframe tbody tr th:only-of-type {\n",
       "        vertical-align: middle;\n",
       "    }\n",
       "\n",
       "    .dataframe tbody tr th {\n",
       "        vertical-align: top;\n",
       "    }\n",
       "\n",
       "    .dataframe thead th {\n",
       "        text-align: right;\n",
       "    }\n",
       "</style>\n",
       "<table border=\"1\" class=\"dataframe\">\n",
       "  <thead>\n",
       "    <tr style=\"text-align: right;\">\n",
       "      <th></th>\n",
       "      <th>user_id</th>\n",
       "      <th>partner_name</th>\n",
       "      <th>first_trx</th>\n",
       "      <th>last_trx</th>\n",
       "      <th>total_profit</th>\n",
       "      <th>monetary</th>\n",
       "      <th>cluster</th>\n",
       "      <th>frequency</th>\n",
       "      <th>total_cust</th>\n",
       "    </tr>\n",
       "  </thead>\n",
       "  <tbody>\n",
       "    <tr>\n",
       "      <th>0</th>\n",
       "      <td>17</td>\n",
       "      <td>Lapak Kita</td>\n",
       "      <td>2017-08-14</td>\n",
       "      <td>2017-11-22</td>\n",
       "      <td>3045.0</td>\n",
       "      <td>760508.0</td>\n",
       "      <td>Indragiri</td>\n",
       "      <td>52</td>\n",
       "      <td>22</td>\n",
       "    </tr>\n",
       "    <tr>\n",
       "      <th>1</th>\n",
       "      <td>59</td>\n",
       "      <td>Lapak Kita</td>\n",
       "      <td>2017-07-01</td>\n",
       "      <td>2017-07-01</td>\n",
       "      <td>50.0</td>\n",
       "      <td>9900.0</td>\n",
       "      <td>Indragiri</td>\n",
       "      <td>1</td>\n",
       "      <td>1</td>\n",
       "    </tr>\n",
       "    <tr>\n",
       "      <th>2</th>\n",
       "      <td>60</td>\n",
       "      <td>Lapak Kita</td>\n",
       "      <td>2017-07-01</td>\n",
       "      <td>2017-07-15</td>\n",
       "      <td>4250.0</td>\n",
       "      <td>840500.0</td>\n",
       "      <td>Indragiri</td>\n",
       "      <td>70</td>\n",
       "      <td>57</td>\n",
       "    </tr>\n",
       "    <tr>\n",
       "      <th>3</th>\n",
       "      <td>61</td>\n",
       "      <td>Lapak Kita</td>\n",
       "      <td>2017-07-12</td>\n",
       "      <td>2017-12-20</td>\n",
       "      <td>10875.0</td>\n",
       "      <td>6524400.0</td>\n",
       "      <td>Indragiri</td>\n",
       "      <td>98</td>\n",
       "      <td>79</td>\n",
       "    </tr>\n",
       "    <tr>\n",
       "      <th>4</th>\n",
       "      <td>63</td>\n",
       "      <td>Jawa Pos</td>\n",
       "      <td>2017-08-11</td>\n",
       "      <td>2017-11-02</td>\n",
       "      <td>250.0</td>\n",
       "      <td>51650.0</td>\n",
       "      <td>Cirebon</td>\n",
       "      <td>4</td>\n",
       "      <td>3</td>\n",
       "    </tr>\n",
       "  </tbody>\n",
       "</table>\n",
       "</div>"
      ],
      "text/plain": [
       "   user_id partner_name   first_trx    last_trx  total_profit   monetary  \\\n",
       "0       17   Lapak Kita  2017-08-14  2017-11-22        3045.0   760508.0   \n",
       "1       59   Lapak Kita  2017-07-01  2017-07-01          50.0     9900.0   \n",
       "2       60   Lapak Kita  2017-07-01  2017-07-15        4250.0   840500.0   \n",
       "3       61   Lapak Kita  2017-07-12  2017-12-20       10875.0  6524400.0   \n",
       "4       63     Jawa Pos  2017-08-11  2017-11-02         250.0    51650.0   \n",
       "\n",
       "     cluster  frequency  total_cust  \n",
       "0  Indragiri         52          22  \n",
       "1  Indragiri          1           1  \n",
       "2  Indragiri         70          57  \n",
       "3  Indragiri         98          79  \n",
       "4    Cirebon          4           3  "
      ]
     },
     "execution_count": 60,
     "metadata": {},
     "output_type": "execute_result"
    }
   ],
   "source": [
    "df_final.head(5)"
   ]
  },
  {
   "cell_type": "code",
   "execution_count": 61,
   "metadata": {},
   "outputs": [
    {
     "data": {
      "text/plain": [
       "array(['255816437877', '243826585098', '135055504704', 245800992372,\n",
       "       243826585098, 268539353682, 255816437877, 135055504704,\n",
       "       244136155311, 256090901664, '243785205606', '249563237841',\n",
       "       '246517463607', '255814515225', '247160888238', '244136155311',\n",
       "       '256090901664', '255789580632', '256130344341', '268539353682',\n",
       "       258107030301, '244096602156'], dtype=object)"
      ]
     },
     "execution_count": 61,
     "metadata": {},
     "output_type": "execute_result"
    }
   ],
   "source": [
    "(df.loc[df['user_id']== 17])['customer_number'].unique()"
   ]
  },
  {
   "cell_type": "code",
   "execution_count": 62,
   "metadata": {},
   "outputs": [
    {
     "data": {
      "text/plain": [
       "array(['Smartfren', 'Telkomsel', 'PLN Prepaid', 'XL', 'Indosat', '3',\n",
       "       'BPJS', 'Axis', 'PLN Postpaid', 'Telkom', 'PDAM'], dtype=object)"
      ]
     },
     "execution_count": 62,
     "metadata": {},
     "output_type": "execute_result"
    }
   ],
   "source": [
    "df['operator'].unique()"
   ]
  },
  {
   "cell_type": "code",
   "execution_count": 63,
   "metadata": {},
   "outputs": [
    {
     "data": {
      "text/plain": [
       "datetime.date(2017, 12, 31)"
      ]
     },
     "execution_count": 63,
     "metadata": {},
     "output_type": "execute_result"
    }
   ],
   "source": [
    "df_final.last_trx.max()"
   ]
  },
  {
   "cell_type": "code",
   "execution_count": 64,
   "metadata": {},
   "outputs": [],
   "source": [
    "import datetime as dt\n",
    "\n",
    "now = dt.date(2018,1,1)"
   ]
  },
  {
   "cell_type": "code",
   "execution_count": 65,
   "metadata": {},
   "outputs": [],
   "source": [
    "# Checking the recency for every user\n",
    "# recency is measurement of the time elapsed since the last purchase was made by a customer\n",
    "df_final['recency'] = (now - df_final['last_trx']).dt.days"
   ]
  },
  {
   "cell_type": "code",
   "execution_count": 66,
   "metadata": {},
   "outputs": [],
   "source": [
    "# How long the costumer using our system\n",
    "# {now - first puchase}\n",
    "df_final['join_days'] = (now - df_final['first_trx']).dt.days"
   ]
  },
  {
   "cell_type": "code",
   "execution_count": 67,
   "metadata": {},
   "outputs": [
    {
     "data": {
      "text/html": [
       "<div>\n",
       "<style scoped>\n",
       "    .dataframe tbody tr th:only-of-type {\n",
       "        vertical-align: middle;\n",
       "    }\n",
       "\n",
       "    .dataframe tbody tr th {\n",
       "        vertical-align: top;\n",
       "    }\n",
       "\n",
       "    .dataframe thead th {\n",
       "        text-align: right;\n",
       "    }\n",
       "</style>\n",
       "<table border=\"1\" class=\"dataframe\">\n",
       "  <thead>\n",
       "    <tr style=\"text-align: right;\">\n",
       "      <th></th>\n",
       "      <th>user_id</th>\n",
       "      <th>partner_name</th>\n",
       "      <th>first_trx</th>\n",
       "      <th>last_trx</th>\n",
       "      <th>total_profit</th>\n",
       "      <th>monetary</th>\n",
       "      <th>cluster</th>\n",
       "      <th>frequency</th>\n",
       "      <th>total_cust</th>\n",
       "      <th>recency</th>\n",
       "      <th>join_days</th>\n",
       "    </tr>\n",
       "  </thead>\n",
       "  <tbody>\n",
       "    <tr>\n",
       "      <th>0</th>\n",
       "      <td>17</td>\n",
       "      <td>Lapak Kita</td>\n",
       "      <td>2017-08-14</td>\n",
       "      <td>2017-11-22</td>\n",
       "      <td>3045.0</td>\n",
       "      <td>760508.0</td>\n",
       "      <td>Indragiri</td>\n",
       "      <td>52</td>\n",
       "      <td>22</td>\n",
       "      <td>40</td>\n",
       "      <td>140</td>\n",
       "    </tr>\n",
       "    <tr>\n",
       "      <th>1</th>\n",
       "      <td>59</td>\n",
       "      <td>Lapak Kita</td>\n",
       "      <td>2017-07-01</td>\n",
       "      <td>2017-07-01</td>\n",
       "      <td>50.0</td>\n",
       "      <td>9900.0</td>\n",
       "      <td>Indragiri</td>\n",
       "      <td>1</td>\n",
       "      <td>1</td>\n",
       "      <td>184</td>\n",
       "      <td>184</td>\n",
       "    </tr>\n",
       "    <tr>\n",
       "      <th>2</th>\n",
       "      <td>60</td>\n",
       "      <td>Lapak Kita</td>\n",
       "      <td>2017-07-01</td>\n",
       "      <td>2017-07-15</td>\n",
       "      <td>4250.0</td>\n",
       "      <td>840500.0</td>\n",
       "      <td>Indragiri</td>\n",
       "      <td>70</td>\n",
       "      <td>57</td>\n",
       "      <td>170</td>\n",
       "      <td>184</td>\n",
       "    </tr>\n",
       "    <tr>\n",
       "      <th>3</th>\n",
       "      <td>61</td>\n",
       "      <td>Lapak Kita</td>\n",
       "      <td>2017-07-12</td>\n",
       "      <td>2017-12-20</td>\n",
       "      <td>10875.0</td>\n",
       "      <td>6524400.0</td>\n",
       "      <td>Indragiri</td>\n",
       "      <td>98</td>\n",
       "      <td>79</td>\n",
       "      <td>12</td>\n",
       "      <td>173</td>\n",
       "    </tr>\n",
       "    <tr>\n",
       "      <th>4</th>\n",
       "      <td>63</td>\n",
       "      <td>Jawa Pos</td>\n",
       "      <td>2017-08-11</td>\n",
       "      <td>2017-11-02</td>\n",
       "      <td>250.0</td>\n",
       "      <td>51650.0</td>\n",
       "      <td>Cirebon</td>\n",
       "      <td>4</td>\n",
       "      <td>3</td>\n",
       "      <td>60</td>\n",
       "      <td>143</td>\n",
       "    </tr>\n",
       "  </tbody>\n",
       "</table>\n",
       "</div>"
      ],
      "text/plain": [
       "   user_id partner_name   first_trx    last_trx  total_profit   monetary  \\\n",
       "0       17   Lapak Kita  2017-08-14  2017-11-22        3045.0   760508.0   \n",
       "1       59   Lapak Kita  2017-07-01  2017-07-01          50.0     9900.0   \n",
       "2       60   Lapak Kita  2017-07-01  2017-07-15        4250.0   840500.0   \n",
       "3       61   Lapak Kita  2017-07-12  2017-12-20       10875.0  6524400.0   \n",
       "4       63     Jawa Pos  2017-08-11  2017-11-02         250.0    51650.0   \n",
       "\n",
       "     cluster  frequency  total_cust  recency  join_days  \n",
       "0  Indragiri         52          22       40        140  \n",
       "1  Indragiri          1           1      184        184  \n",
       "2  Indragiri         70          57      170        184  \n",
       "3  Indragiri         98          79       12        173  \n",
       "4    Cirebon          4           3       60        143  "
      ]
     },
     "execution_count": 67,
     "metadata": {},
     "output_type": "execute_result"
    }
   ],
   "source": [
    "df_final.head()"
   ]
  },
  {
   "cell_type": "code",
   "execution_count": 68,
   "metadata": {},
   "outputs": [],
   "source": [
    "import matplotlib.pyplot as plt\n",
    "import seaborn as sns"
   ]
  },
  {
   "cell_type": "code",
   "execution_count": 69,
   "metadata": {},
   "outputs": [
    {
     "data": {
      "text/html": [
       "<div>\n",
       "<style scoped>\n",
       "    .dataframe tbody tr th:only-of-type {\n",
       "        vertical-align: middle;\n",
       "    }\n",
       "\n",
       "    .dataframe tbody tr th {\n",
       "        vertical-align: top;\n",
       "    }\n",
       "\n",
       "    .dataframe thead th {\n",
       "        text-align: right;\n",
       "    }\n",
       "</style>\n",
       "<table border=\"1\" class=\"dataframe\">\n",
       "  <thead>\n",
       "    <tr style=\"text-align: right;\">\n",
       "      <th></th>\n",
       "      <th>monetary</th>\n",
       "      <th>frequency</th>\n",
       "      <th>recency</th>\n",
       "      <th>total_cust</th>\n",
       "      <th>join_days</th>\n",
       "      <th>total_profit</th>\n",
       "    </tr>\n",
       "  </thead>\n",
       "  <tbody>\n",
       "    <tr>\n",
       "      <th>0</th>\n",
       "      <td>760508.0</td>\n",
       "      <td>52</td>\n",
       "      <td>40</td>\n",
       "      <td>22</td>\n",
       "      <td>140</td>\n",
       "      <td>3045.0</td>\n",
       "    </tr>\n",
       "    <tr>\n",
       "      <th>1</th>\n",
       "      <td>9900.0</td>\n",
       "      <td>1</td>\n",
       "      <td>184</td>\n",
       "      <td>1</td>\n",
       "      <td>184</td>\n",
       "      <td>50.0</td>\n",
       "    </tr>\n",
       "    <tr>\n",
       "      <th>2</th>\n",
       "      <td>840500.0</td>\n",
       "      <td>70</td>\n",
       "      <td>170</td>\n",
       "      <td>57</td>\n",
       "      <td>184</td>\n",
       "      <td>4250.0</td>\n",
       "    </tr>\n",
       "    <tr>\n",
       "      <th>3</th>\n",
       "      <td>6524400.0</td>\n",
       "      <td>98</td>\n",
       "      <td>12</td>\n",
       "      <td>79</td>\n",
       "      <td>173</td>\n",
       "      <td>10875.0</td>\n",
       "    </tr>\n",
       "    <tr>\n",
       "      <th>4</th>\n",
       "      <td>51650.0</td>\n",
       "      <td>4</td>\n",
       "      <td>60</td>\n",
       "      <td>3</td>\n",
       "      <td>143</td>\n",
       "      <td>250.0</td>\n",
       "    </tr>\n",
       "  </tbody>\n",
       "</table>\n",
       "</div>"
      ],
      "text/plain": [
       "    monetary  frequency  recency  total_cust  join_days  total_profit\n",
       "0   760508.0         52       40          22        140        3045.0\n",
       "1     9900.0          1      184           1        184          50.0\n",
       "2   840500.0         70      170          57        184        4250.0\n",
       "3  6524400.0         98       12          79        173       10875.0\n",
       "4    51650.0          4       60           3        143         250.0"
      ]
     },
     "execution_count": 69,
     "metadata": {},
     "output_type": "execute_result"
    }
   ],
   "source": [
    "x = ['monetary', 'frequency', 'recency','total_cust', 'join_days', 'total_profit']\n",
    "data = df_final[x]\n",
    "data.head()"
   ]
  },
  {
   "cell_type": "code",
   "execution_count": 70,
   "metadata": {},
   "outputs": [
    {
     "data": {
      "text/plain": [
       "<matplotlib.axes._subplots.AxesSubplot at 0x11b5b8f90>"
      ]
     },
     "execution_count": 70,
     "metadata": {},
     "output_type": "execute_result"
    },
    {
     "data": {
      "image/png": "[encoded data removed]",
      "text/plain": [
       "<Figure size 720x504 with 2 Axes>"
      ]
     },
     "metadata": {},
     "output_type": "display_data"
    }
   ],
   "source": [
    "# Correlation heatmap in dataset\n",
    "# Positive correlation (+1.00): If one variable increases the other also increases and when one variable decreases the other also decreases\n",
    "# Negative correlation (-1.00) : If one variable increases as the other decreases, and vice versa.\n",
    "# 0.00 indicates no correlation between two variables \n",
    "\n",
    "x = ['monetary', 'frequency', 'recency','total_cust', 'join_days', 'total_profit']\n",
    "data = df_final[x]\n",
    "correlation = data.corr()  \n",
    "plt.figure(figsize=(10, 7))  \n",
    "sns.heatmap(correlation, vmax=1, square=True, annot=True, cmap='cubehelix')"
   ]
  },
  {
   "cell_type": "code",
   "execution_count": 71,
   "metadata": {},
   "outputs": [],
   "source": [
    "# Findings:\n",
    "# - monetary has positive corr with total_profit, total_cust and frequency, means that we don't need to keep/ use both of features\n",
    "# - also have same corr value toward others variable \n",
    "# - recency has good corr towards others"
   ]
  },
  {
   "cell_type": "markdown",
   "metadata": {},
   "source": [
    "## Predictions"
   ]
  },
  {
   "cell_type": "markdown",
   "metadata": {},
   "source": [
    "### 1. Scoreboard"
   ]
  },
  {
   "cell_type": "code",
   "execution_count": 72,
   "metadata": {},
   "outputs": [],
   "source": [
    "features = ['recency', 'monetary', 'total_profit', 'frequency', 'join_days']"
   ]
  },
  {
   "cell_type": "code",
   "execution_count": 73,
   "metadata": {},
   "outputs": [
    {
     "data": {
      "text/plain": [
       "{'frequency': {0.25: 8.0, 0.5: 34.5, 0.75: 134.0},\n",
       " 'join_days': {0.25: 48.0, 0.5: 77.0, 0.75: 178.0},\n",
       " 'monetary': {0.25: 145206.25, 0.5: 747800.0, 0.75: 3173771.75},\n",
       " 'recency': {0.25: 1.0, 0.5: 10.0, 0.75: 54.0},\n",
       " 'total_profit': {0.25: 775.0, 0.5: 3296.0, 0.75: 11607.5}}"
      ]
     },
     "execution_count": 73,
     "metadata": {},
     "output_type": "execute_result"
    }
   ],
   "source": [
    "quantiles = df_final[features].quantile(q=[0.25,0.5,0.75])\n",
    "quantiles = quantiles.to_dict()\n",
    "quantiles"
   ]
  },
  {
   "cell_type": "code",
   "execution_count": 74,
   "metadata": {},
   "outputs": [
    {
     "data": {
      "text/html": [
       "<div>\n",
       "<style scoped>\n",
       "    .dataframe tbody tr th:only-of-type {\n",
       "        vertical-align: middle;\n",
       "    }\n",
       "\n",
       "    .dataframe tbody tr th {\n",
       "        vertical-align: top;\n",
       "    }\n",
       "\n",
       "    .dataframe thead th {\n",
       "        text-align: right;\n",
       "    }\n",
       "</style>\n",
       "<table border=\"1\" class=\"dataframe\">\n",
       "  <thead>\n",
       "    <tr style=\"text-align: right;\">\n",
       "      <th></th>\n",
       "      <th>recency</th>\n",
       "      <th>monetary</th>\n",
       "      <th>total_profit</th>\n",
       "      <th>frequency</th>\n",
       "      <th>join_days</th>\n",
       "    </tr>\n",
       "  </thead>\n",
       "  <tbody>\n",
       "    <tr>\n",
       "      <th>count</th>\n",
       "      <td>4322.000000</td>\n",
       "      <td>4.322000e+03</td>\n",
       "      <td>4322.000000</td>\n",
       "      <td>4322.000000</td>\n",
       "      <td>4322.000000</td>\n",
       "    </tr>\n",
       "    <tr>\n",
       "      <th>mean</th>\n",
       "      <td>37.898195</td>\n",
       "      <td>3.853665e+06</td>\n",
       "      <td>13290.460435</td>\n",
       "      <td>150.335724</td>\n",
       "      <td>100.882693</td>\n",
       "    </tr>\n",
       "    <tr>\n",
       "      <th>std</th>\n",
       "      <td>50.627406</td>\n",
       "      <td>9.998619e+06</td>\n",
       "      <td>32806.369644</td>\n",
       "      <td>385.287110</td>\n",
       "      <td>63.738276</td>\n",
       "    </tr>\n",
       "    <tr>\n",
       "      <th>min</th>\n",
       "      <td>1.000000</td>\n",
       "      <td>2.110000e+03</td>\n",
       "      <td>10.000000</td>\n",
       "      <td>1.000000</td>\n",
       "      <td>1.000000</td>\n",
       "    </tr>\n",
       "    <tr>\n",
       "      <th>25%</th>\n",
       "      <td>1.000000</td>\n",
       "      <td>1.452062e+05</td>\n",
       "      <td>775.000000</td>\n",
       "      <td>8.000000</td>\n",
       "      <td>48.000000</td>\n",
       "    </tr>\n",
       "    <tr>\n",
       "      <th>50%</th>\n",
       "      <td>10.000000</td>\n",
       "      <td>7.478000e+05</td>\n",
       "      <td>3296.000000</td>\n",
       "      <td>34.500000</td>\n",
       "      <td>77.000000</td>\n",
       "    </tr>\n",
       "    <tr>\n",
       "      <th>75%</th>\n",
       "      <td>54.000000</td>\n",
       "      <td>3.173772e+06</td>\n",
       "      <td>11607.500000</td>\n",
       "      <td>134.000000</td>\n",
       "      <td>178.000000</td>\n",
       "    </tr>\n",
       "    <tr>\n",
       "      <th>max</th>\n",
       "      <td>184.000000</td>\n",
       "      <td>1.698541e+08</td>\n",
       "      <td>565707.000000</td>\n",
       "      <td>7259.000000</td>\n",
       "      <td>184.000000</td>\n",
       "    </tr>\n",
       "  </tbody>\n",
       "</table>\n",
       "</div>"
      ],
      "text/plain": [
       "           recency      monetary   total_profit    frequency    join_days\n",
       "count  4322.000000  4.322000e+03    4322.000000  4322.000000  4322.000000\n",
       "mean     37.898195  3.853665e+06   13290.460435   150.335724   100.882693\n",
       "std      50.627406  9.998619e+06   32806.369644   385.287110    63.738276\n",
       "min       1.000000  2.110000e+03      10.000000     1.000000     1.000000\n",
       "25%       1.000000  1.452062e+05     775.000000     8.000000    48.000000\n",
       "50%      10.000000  7.478000e+05    3296.000000    34.500000    77.000000\n",
       "75%      54.000000  3.173772e+06   11607.500000   134.000000   178.000000\n",
       "max     184.000000  1.698541e+08  565707.000000  7259.000000   184.000000"
      ]
     },
     "execution_count": 74,
     "metadata": {},
     "output_type": "execute_result"
    }
   ],
   "source": [
    "df_final[features].describe()"
   ]
  },
  {
   "cell_type": "code",
   "execution_count": 75,
   "metadata": {},
   "outputs": [],
   "source": [
    "# Assign points to variables\n",
    "# Recency = Good user has lesser recency\n",
    "def LowValue(x,p,quantiles):\n",
    "    if x <= quantiles[p][0.25]:\n",
    "        return 40\n",
    "    elif x <= quantiles[p][0.50]:\n",
    "        return 30\n",
    "    elif x <= quantiles[p][0.75]: \n",
    "        return 20\n",
    "    else:\n",
    "        return 10"
   ]
  },
  {
   "cell_type": "code",
   "execution_count": 76,
   "metadata": {},
   "outputs": [],
   "source": [
    "# Good user has higher frequency, monetary, total_profit, total_cust\n",
    "def HighValue(x,p,quantiles):\n",
    "    if x <= quantiles[p][0.25]:\n",
    "        return 10\n",
    "    elif x <= quantiles[p][0.50]:\n",
    "        return 20\n",
    "    elif x <= quantiles[p][0.75]: \n",
    "        return 30\n",
    "    else:\n",
    "        return 40"
   ]
  },
  {
   "cell_type": "code",
   "execution_count": 77,
   "metadata": {},
   "outputs": [],
   "source": [
    "df_final['R'] = df_final['recency'].apply(LowValue, args=('recency',quantiles,))\n",
    "df_final['F'] = df_final['frequency'].apply(HighValue, args=('frequency',quantiles,))\n",
    "df_final['M'] = df_final['monetary'].apply(HighValue, args=('monetary',quantiles,))\n",
    "df_final['P'] = df_final['total_profit'].apply(HighValue, args=('total_profit',quantiles,))\n",
    "#df_final['C'] = df_final['total_cust'].apply(HighValue, args=('total_cust',quantiles,))\n",
    "df_final['J'] = df_final['join_days'].apply(HighValue, args=('join_days',quantiles,))"
   ]
  },
  {
   "cell_type": "code",
   "execution_count": 78,
   "metadata": {},
   "outputs": [],
   "source": [
    "df_final['Scorepoints'] = df_final.R + df_final.F + df_final.M + df_final.P + df_final.J"
   ]
  },
  {
   "cell_type": "code",
   "execution_count": 79,
   "metadata": {},
   "outputs": [
    {
     "data": {
      "text/html": [
       "<div>\n",
       "<style scoped>\n",
       "    .dataframe tbody tr th:only-of-type {\n",
       "        vertical-align: middle;\n",
       "    }\n",
       "\n",
       "    .dataframe tbody tr th {\n",
       "        vertical-align: top;\n",
       "    }\n",
       "\n",
       "    .dataframe thead th {\n",
       "        text-align: right;\n",
       "    }\n",
       "</style>\n",
       "<table border=\"1\" class=\"dataframe\">\n",
       "  <thead>\n",
       "    <tr style=\"text-align: right;\">\n",
       "      <th></th>\n",
       "      <th>user_id</th>\n",
       "      <th>partner_name</th>\n",
       "      <th>first_trx</th>\n",
       "      <th>last_trx</th>\n",
       "      <th>total_profit</th>\n",
       "      <th>monetary</th>\n",
       "      <th>cluster</th>\n",
       "      <th>frequency</th>\n",
       "      <th>total_cust</th>\n",
       "      <th>recency</th>\n",
       "      <th>join_days</th>\n",
       "      <th>R</th>\n",
       "      <th>F</th>\n",
       "      <th>M</th>\n",
       "      <th>P</th>\n",
       "      <th>J</th>\n",
       "      <th>Scorepoints</th>\n",
       "    </tr>\n",
       "  </thead>\n",
       "  <tbody>\n",
       "    <tr>\n",
       "      <th>0</th>\n",
       "      <td>17</td>\n",
       "      <td>Lapak Kita</td>\n",
       "      <td>2017-08-14</td>\n",
       "      <td>2017-11-22</td>\n",
       "      <td>3045.0</td>\n",
       "      <td>760508.0</td>\n",
       "      <td>Indragiri</td>\n",
       "      <td>52</td>\n",
       "      <td>22</td>\n",
       "      <td>40</td>\n",
       "      <td>140</td>\n",
       "      <td>20</td>\n",
       "      <td>30</td>\n",
       "      <td>30</td>\n",
       "      <td>20</td>\n",
       "      <td>30</td>\n",
       "      <td>130</td>\n",
       "    </tr>\n",
       "    <tr>\n",
       "      <th>1</th>\n",
       "      <td>59</td>\n",
       "      <td>Lapak Kita</td>\n",
       "      <td>2017-07-01</td>\n",
       "      <td>2017-07-01</td>\n",
       "      <td>50.0</td>\n",
       "      <td>9900.0</td>\n",
       "      <td>Indragiri</td>\n",
       "      <td>1</td>\n",
       "      <td>1</td>\n",
       "      <td>184</td>\n",
       "      <td>184</td>\n",
       "      <td>10</td>\n",
       "      <td>10</td>\n",
       "      <td>10</td>\n",
       "      <td>10</td>\n",
       "      <td>40</td>\n",
       "      <td>80</td>\n",
       "    </tr>\n",
       "    <tr>\n",
       "      <th>2</th>\n",
       "      <td>60</td>\n",
       "      <td>Lapak Kita</td>\n",
       "      <td>2017-07-01</td>\n",
       "      <td>2017-07-15</td>\n",
       "      <td>4250.0</td>\n",
       "      <td>840500.0</td>\n",
       "      <td>Indragiri</td>\n",
       "      <td>70</td>\n",
       "      <td>57</td>\n",
       "      <td>170</td>\n",
       "      <td>184</td>\n",
       "      <td>10</td>\n",
       "      <td>30</td>\n",
       "      <td>30</td>\n",
       "      <td>30</td>\n",
       "      <td>40</td>\n",
       "      <td>140</td>\n",
       "    </tr>\n",
       "    <tr>\n",
       "      <th>3</th>\n",
       "      <td>61</td>\n",
       "      <td>Lapak Kita</td>\n",
       "      <td>2017-07-12</td>\n",
       "      <td>2017-12-20</td>\n",
       "      <td>10875.0</td>\n",
       "      <td>6524400.0</td>\n",
       "      <td>Indragiri</td>\n",
       "      <td>98</td>\n",
       "      <td>79</td>\n",
       "      <td>12</td>\n",
       "      <td>173</td>\n",
       "      <td>20</td>\n",
       "      <td>30</td>\n",
       "      <td>40</td>\n",
       "      <td>30</td>\n",
       "      <td>30</td>\n",
       "      <td>150</td>\n",
       "    </tr>\n",
       "    <tr>\n",
       "      <th>4</th>\n",
       "      <td>63</td>\n",
       "      <td>Jawa Pos</td>\n",
       "      <td>2017-08-11</td>\n",
       "      <td>2017-11-02</td>\n",
       "      <td>250.0</td>\n",
       "      <td>51650.0</td>\n",
       "      <td>Cirebon</td>\n",
       "      <td>4</td>\n",
       "      <td>3</td>\n",
       "      <td>60</td>\n",
       "      <td>143</td>\n",
       "      <td>10</td>\n",
       "      <td>10</td>\n",
       "      <td>10</td>\n",
       "      <td>10</td>\n",
       "      <td>30</td>\n",
       "      <td>70</td>\n",
       "    </tr>\n",
       "  </tbody>\n",
       "</table>\n",
       "</div>"
      ],
      "text/plain": [
       "   user_id partner_name   first_trx    last_trx  total_profit   monetary  \\\n",
       "0       17   Lapak Kita  2017-08-14  2017-11-22        3045.0   760508.0   \n",
       "1       59   Lapak Kita  2017-07-01  2017-07-01          50.0     9900.0   \n",
       "2       60   Lapak Kita  2017-07-01  2017-07-15        4250.0   840500.0   \n",
       "3       61   Lapak Kita  2017-07-12  2017-12-20       10875.0  6524400.0   \n",
       "4       63     Jawa Pos  2017-08-11  2017-11-02         250.0    51650.0   \n",
       "\n",
       "     cluster  frequency  total_cust  recency  join_days   R   F   M   P   J  \\\n",
       "0  Indragiri         52          22       40        140  20  30  30  20  30   \n",
       "1  Indragiri          1           1      184        184  10  10  10  10  40   \n",
       "2  Indragiri         70          57      170        184  10  30  30  30  40   \n",
       "3  Indragiri         98          79       12        173  20  30  40  30  30   \n",
       "4    Cirebon          4           3       60        143  10  10  10  10  30   \n",
       "\n",
       "   Scorepoints  \n",
       "0          130  \n",
       "1           80  \n",
       "2          140  \n",
       "3          150  \n",
       "4           70  "
      ]
     },
     "execution_count": 79,
     "metadata": {},
     "output_type": "execute_result"
    }
   ],
   "source": [
    "df_final.head()"
   ]
  },
  {
   "cell_type": "code",
   "execution_count": 80,
   "metadata": {},
   "outputs": [
    {
     "data": {
      "text/html": [
       "<div>\n",
       "<style scoped>\n",
       "    .dataframe tbody tr th:only-of-type {\n",
       "        vertical-align: middle;\n",
       "    }\n",
       "\n",
       "    .dataframe tbody tr th {\n",
       "        vertical-align: top;\n",
       "    }\n",
       "\n",
       "    .dataframe thead th {\n",
       "        text-align: right;\n",
       "    }\n",
       "</style>\n",
       "<table border=\"1\" class=\"dataframe\">\n",
       "  <thead>\n",
       "    <tr style=\"text-align: right;\">\n",
       "      <th></th>\n",
       "      <th>user_id</th>\n",
       "      <th>partner_name</th>\n",
       "      <th>first_trx</th>\n",
       "      <th>last_trx</th>\n",
       "      <th>total_profit</th>\n",
       "      <th>monetary</th>\n",
       "      <th>cluster</th>\n",
       "      <th>frequency</th>\n",
       "      <th>total_cust</th>\n",
       "      <th>recency</th>\n",
       "      <th>join_days</th>\n",
       "      <th>R</th>\n",
       "      <th>F</th>\n",
       "      <th>M</th>\n",
       "      <th>P</th>\n",
       "      <th>J</th>\n",
       "      <th>Scorepoints</th>\n",
       "    </tr>\n",
       "  </thead>\n",
       "  <tbody>\n",
       "    <tr>\n",
       "      <th>54</th>\n",
       "      <td>241</td>\n",
       "      <td>Lapak Kita</td>\n",
       "      <td>2017-07-05</td>\n",
       "      <td>2017-12-31</td>\n",
       "      <td>14200.0</td>\n",
       "      <td>3804850.0</td>\n",
       "      <td>Indragiri</td>\n",
       "      <td>176</td>\n",
       "      <td>85</td>\n",
       "      <td>1</td>\n",
       "      <td>180</td>\n",
       "      <td>40</td>\n",
       "      <td>40</td>\n",
       "      <td>40</td>\n",
       "      <td>40</td>\n",
       "      <td>40</td>\n",
       "      <td>200</td>\n",
       "    </tr>\n",
       "    <tr>\n",
       "      <th>61</th>\n",
       "      <td>251</td>\n",
       "      <td>Lapak Kita</td>\n",
       "      <td>2017-07-06</td>\n",
       "      <td>2017-12-31</td>\n",
       "      <td>13275.0</td>\n",
       "      <td>3651850.0</td>\n",
       "      <td>Indragiri</td>\n",
       "      <td>142</td>\n",
       "      <td>95</td>\n",
       "      <td>1</td>\n",
       "      <td>179</td>\n",
       "      <td>40</td>\n",
       "      <td>40</td>\n",
       "      <td>40</td>\n",
       "      <td>40</td>\n",
       "      <td>40</td>\n",
       "      <td>200</td>\n",
       "    </tr>\n",
       "    <tr>\n",
       "      <th>70</th>\n",
       "      <td>276</td>\n",
       "      <td>Lapak Kita</td>\n",
       "      <td>2017-07-02</td>\n",
       "      <td>2017-12-31</td>\n",
       "      <td>19275.0</td>\n",
       "      <td>7553450.0</td>\n",
       "      <td>Indragiri</td>\n",
       "      <td>178</td>\n",
       "      <td>129</td>\n",
       "      <td>1</td>\n",
       "      <td>183</td>\n",
       "      <td>40</td>\n",
       "      <td>40</td>\n",
       "      <td>40</td>\n",
       "      <td>40</td>\n",
       "      <td>40</td>\n",
       "      <td>200</td>\n",
       "    </tr>\n",
       "    <tr>\n",
       "      <th>120</th>\n",
       "      <td>369</td>\n",
       "      <td>Lapak Kita</td>\n",
       "      <td>2017-07-01</td>\n",
       "      <td>2017-12-31</td>\n",
       "      <td>170600.0</td>\n",
       "      <td>57229168.0</td>\n",
       "      <td>Indragiri</td>\n",
       "      <td>1790</td>\n",
       "      <td>851</td>\n",
       "      <td>1</td>\n",
       "      <td>184</td>\n",
       "      <td>40</td>\n",
       "      <td>40</td>\n",
       "      <td>40</td>\n",
       "      <td>40</td>\n",
       "      <td>40</td>\n",
       "      <td>200</td>\n",
       "    </tr>\n",
       "    <tr>\n",
       "      <th>124</th>\n",
       "      <td>381</td>\n",
       "      <td>Lapak Kita</td>\n",
       "      <td>2017-07-02</td>\n",
       "      <td>2017-12-31</td>\n",
       "      <td>88285.0</td>\n",
       "      <td>25395676.0</td>\n",
       "      <td>Indragiri</td>\n",
       "      <td>644</td>\n",
       "      <td>363</td>\n",
       "      <td>1</td>\n",
       "      <td>183</td>\n",
       "      <td>40</td>\n",
       "      <td>40</td>\n",
       "      <td>40</td>\n",
       "      <td>40</td>\n",
       "      <td>40</td>\n",
       "      <td>200</td>\n",
       "    </tr>\n",
       "  </tbody>\n",
       "</table>\n",
       "</div>"
      ],
      "text/plain": [
       "     user_id partner_name   first_trx    last_trx  total_profit    monetary  \\\n",
       "54       241   Lapak Kita  2017-07-05  2017-12-31       14200.0   3804850.0   \n",
       "61       251   Lapak Kita  2017-07-06  2017-12-31       13275.0   3651850.0   \n",
       "70       276   Lapak Kita  2017-07-02  2017-12-31       19275.0   7553450.0   \n",
       "120      369   Lapak Kita  2017-07-01  2017-12-31      170600.0  57229168.0   \n",
       "124      381   Lapak Kita  2017-07-02  2017-12-31       88285.0  25395676.0   \n",
       "\n",
       "       cluster  frequency  total_cust  recency  join_days   R   F   M   P   J  \\\n",
       "54   Indragiri        176          85        1        180  40  40  40  40  40   \n",
       "61   Indragiri        142          95        1        179  40  40  40  40  40   \n",
       "70   Indragiri        178         129        1        183  40  40  40  40  40   \n",
       "120  Indragiri       1790         851        1        184  40  40  40  40  40   \n",
       "124  Indragiri        644         363        1        183  40  40  40  40  40   \n",
       "\n",
       "     Scorepoints  \n",
       "54           200  \n",
       "61           200  \n",
       "70           200  \n",
       "120          200  \n",
       "124          200  "
      ]
     },
     "execution_count": 80,
     "metadata": {},
     "output_type": "execute_result"
    }
   ],
   "source": [
    "# Scorepoints range is fro 4 - 200 points \n",
    "(df_final[df_final['Scorepoints'] == 200]).head()"
   ]
  },
  {
   "cell_type": "code",
   "execution_count": 81,
   "metadata": {},
   "outputs": [
    {
     "data": {
      "text/html": [
       "<div>\n",
       "<style scoped>\n",
       "    .dataframe tbody tr th:only-of-type {\n",
       "        vertical-align: middle;\n",
       "    }\n",
       "\n",
       "    .dataframe tbody tr th {\n",
       "        vertical-align: top;\n",
       "    }\n",
       "\n",
       "    .dataframe thead th {\n",
       "        text-align: right;\n",
       "    }\n",
       "</style>\n",
       "<table border=\"1\" class=\"dataframe\">\n",
       "  <thead>\n",
       "    <tr style=\"text-align: right;\">\n",
       "      <th></th>\n",
       "      <th>user_id</th>\n",
       "      <th>partner_name</th>\n",
       "      <th>first_trx</th>\n",
       "      <th>last_trx</th>\n",
       "      <th>total_profit</th>\n",
       "      <th>monetary</th>\n",
       "      <th>cluster</th>\n",
       "      <th>frequency</th>\n",
       "      <th>total_cust</th>\n",
       "      <th>recency</th>\n",
       "      <th>join_days</th>\n",
       "      <th>R</th>\n",
       "      <th>F</th>\n",
       "      <th>M</th>\n",
       "      <th>P</th>\n",
       "      <th>J</th>\n",
       "      <th>Scorepoints</th>\n",
       "    </tr>\n",
       "  </thead>\n",
       "  <tbody>\n",
       "    <tr>\n",
       "      <th>13</th>\n",
       "      <td>85</td>\n",
       "      <td>Lapak Kita</td>\n",
       "      <td>2017-07-02</td>\n",
       "      <td>2017-12-28</td>\n",
       "      <td>3875.0</td>\n",
       "      <td>1360150.0</td>\n",
       "      <td>Indragiri</td>\n",
       "      <td>40</td>\n",
       "      <td>13</td>\n",
       "      <td>4</td>\n",
       "      <td>183</td>\n",
       "      <td>30</td>\n",
       "      <td>30</td>\n",
       "      <td>30</td>\n",
       "      <td>30</td>\n",
       "      <td>40</td>\n",
       "      <td>160</td>\n",
       "    </tr>\n",
       "    <tr>\n",
       "      <th>15</th>\n",
       "      <td>87</td>\n",
       "      <td>Lapak Kita</td>\n",
       "      <td>2017-11-08</td>\n",
       "      <td>2017-12-30</td>\n",
       "      <td>11634.0</td>\n",
       "      <td>4451870.0</td>\n",
       "      <td>Indragiri</td>\n",
       "      <td>98</td>\n",
       "      <td>80</td>\n",
       "      <td>2</td>\n",
       "      <td>54</td>\n",
       "      <td>30</td>\n",
       "      <td>30</td>\n",
       "      <td>40</td>\n",
       "      <td>40</td>\n",
       "      <td>20</td>\n",
       "      <td>160</td>\n",
       "    </tr>\n",
       "    <tr>\n",
       "      <th>38</th>\n",
       "      <td>189</td>\n",
       "      <td>Lapak Kita</td>\n",
       "      <td>2017-07-01</td>\n",
       "      <td>2017-08-28</td>\n",
       "      <td>11800.0</td>\n",
       "      <td>3879300.0</td>\n",
       "      <td>Indragiri</td>\n",
       "      <td>98</td>\n",
       "      <td>78</td>\n",
       "      <td>126</td>\n",
       "      <td>184</td>\n",
       "      <td>10</td>\n",
       "      <td>30</td>\n",
       "      <td>40</td>\n",
       "      <td>40</td>\n",
       "      <td>40</td>\n",
       "      <td>160</td>\n",
       "    </tr>\n",
       "    <tr>\n",
       "      <th>42</th>\n",
       "      <td>199</td>\n",
       "      <td>Lapak Kita</td>\n",
       "      <td>2017-10-23</td>\n",
       "      <td>2017-11-13</td>\n",
       "      <td>19264.0</td>\n",
       "      <td>4498875.0</td>\n",
       "      <td>Indragiri</td>\n",
       "      <td>207</td>\n",
       "      <td>144</td>\n",
       "      <td>49</td>\n",
       "      <td>70</td>\n",
       "      <td>20</td>\n",
       "      <td>40</td>\n",
       "      <td>40</td>\n",
       "      <td>40</td>\n",
       "      <td>20</td>\n",
       "      <td>160</td>\n",
       "    </tr>\n",
       "    <tr>\n",
       "      <th>45</th>\n",
       "      <td>205</td>\n",
       "      <td>Lapak Kita</td>\n",
       "      <td>2017-07-01</td>\n",
       "      <td>2017-08-19</td>\n",
       "      <td>13300.0</td>\n",
       "      <td>2632900.0</td>\n",
       "      <td>Indragiri</td>\n",
       "      <td>237</td>\n",
       "      <td>96</td>\n",
       "      <td>135</td>\n",
       "      <td>184</td>\n",
       "      <td>10</td>\n",
       "      <td>40</td>\n",
       "      <td>30</td>\n",
       "      <td>40</td>\n",
       "      <td>40</td>\n",
       "      <td>160</td>\n",
       "    </tr>\n",
       "  </tbody>\n",
       "</table>\n",
       "</div>"
      ],
      "text/plain": [
       "    user_id partner_name   first_trx    last_trx  total_profit   monetary  \\\n",
       "13       85   Lapak Kita  2017-07-02  2017-12-28        3875.0  1360150.0   \n",
       "15       87   Lapak Kita  2017-11-08  2017-12-30       11634.0  4451870.0   \n",
       "38      189   Lapak Kita  2017-07-01  2017-08-28       11800.0  3879300.0   \n",
       "42      199   Lapak Kita  2017-10-23  2017-11-13       19264.0  4498875.0   \n",
       "45      205   Lapak Kita  2017-07-01  2017-08-19       13300.0  2632900.0   \n",
       "\n",
       "      cluster  frequency  total_cust  recency  join_days   R   F   M   P   J  \\\n",
       "13  Indragiri         40          13        4        183  30  30  30  30  40   \n",
       "15  Indragiri         98          80        2         54  30  30  40  40  20   \n",
       "38  Indragiri         98          78      126        184  10  30  40  40  40   \n",
       "42  Indragiri        207         144       49         70  20  40  40  40  20   \n",
       "45  Indragiri        237          96      135        184  10  40  30  40  40   \n",
       "\n",
       "    Scorepoints  \n",
       "13          160  \n",
       "15          160  \n",
       "38          160  \n",
       "42          160  \n",
       "45          160  "
      ]
     },
     "execution_count": 81,
     "metadata": {},
     "output_type": "execute_result"
    }
   ],
   "source": [
    "(df_final[df_final['Scorepoints'] == 160]).head()"
   ]
  },
  {
   "cell_type": "code",
   "execution_count": 82,
   "metadata": {},
   "outputs": [
    {
     "data": {
      "text/html": [
       "<div>\n",
       "<style scoped>\n",
       "    .dataframe tbody tr th:only-of-type {\n",
       "        vertical-align: middle;\n",
       "    }\n",
       "\n",
       "    .dataframe tbody tr th {\n",
       "        vertical-align: top;\n",
       "    }\n",
       "\n",
       "    .dataframe thead th {\n",
       "        text-align: right;\n",
       "    }\n",
       "</style>\n",
       "<table border=\"1\" class=\"dataframe\">\n",
       "  <thead>\n",
       "    <tr style=\"text-align: right;\">\n",
       "      <th></th>\n",
       "      <th>user_id</th>\n",
       "      <th>partner_name</th>\n",
       "      <th>first_trx</th>\n",
       "      <th>last_trx</th>\n",
       "      <th>total_profit</th>\n",
       "      <th>monetary</th>\n",
       "      <th>cluster</th>\n",
       "      <th>frequency</th>\n",
       "      <th>total_cust</th>\n",
       "      <th>recency</th>\n",
       "      <th>join_days</th>\n",
       "      <th>R</th>\n",
       "      <th>F</th>\n",
       "      <th>M</th>\n",
       "      <th>P</th>\n",
       "      <th>J</th>\n",
       "      <th>Scorepoints</th>\n",
       "    </tr>\n",
       "  </thead>\n",
       "  <tbody>\n",
       "    <tr>\n",
       "      <th>1</th>\n",
       "      <td>59</td>\n",
       "      <td>Lapak Kita</td>\n",
       "      <td>2017-07-01</td>\n",
       "      <td>2017-07-01</td>\n",
       "      <td>50.0</td>\n",
       "      <td>9900.0</td>\n",
       "      <td>Indragiri</td>\n",
       "      <td>1</td>\n",
       "      <td>1</td>\n",
       "      <td>184</td>\n",
       "      <td>184</td>\n",
       "      <td>10</td>\n",
       "      <td>10</td>\n",
       "      <td>10</td>\n",
       "      <td>10</td>\n",
       "      <td>40</td>\n",
       "      <td>80</td>\n",
       "    </tr>\n",
       "    <tr>\n",
       "      <th>2</th>\n",
       "      <td>60</td>\n",
       "      <td>Lapak Kita</td>\n",
       "      <td>2017-07-01</td>\n",
       "      <td>2017-07-15</td>\n",
       "      <td>4250.0</td>\n",
       "      <td>840500.0</td>\n",
       "      <td>Indragiri</td>\n",
       "      <td>70</td>\n",
       "      <td>57</td>\n",
       "      <td>170</td>\n",
       "      <td>184</td>\n",
       "      <td>10</td>\n",
       "      <td>30</td>\n",
       "      <td>30</td>\n",
       "      <td>30</td>\n",
       "      <td>40</td>\n",
       "      <td>140</td>\n",
       "    </tr>\n",
       "    <tr>\n",
       "      <th>4</th>\n",
       "      <td>63</td>\n",
       "      <td>Jawa Pos</td>\n",
       "      <td>2017-08-11</td>\n",
       "      <td>2017-11-02</td>\n",
       "      <td>250.0</td>\n",
       "      <td>51650.0</td>\n",
       "      <td>Cirebon</td>\n",
       "      <td>4</td>\n",
       "      <td>3</td>\n",
       "      <td>60</td>\n",
       "      <td>143</td>\n",
       "      <td>10</td>\n",
       "      <td>10</td>\n",
       "      <td>10</td>\n",
       "      <td>10</td>\n",
       "      <td>30</td>\n",
       "      <td>70</td>\n",
       "    </tr>\n",
       "    <tr>\n",
       "      <th>5</th>\n",
       "      <td>65</td>\n",
       "      <td>Lapak Kita</td>\n",
       "      <td>2017-07-01</td>\n",
       "      <td>2017-07-31</td>\n",
       "      <td>8800.0</td>\n",
       "      <td>2592200.0</td>\n",
       "      <td>Indragiri</td>\n",
       "      <td>64</td>\n",
       "      <td>55</td>\n",
       "      <td>154</td>\n",
       "      <td>184</td>\n",
       "      <td>10</td>\n",
       "      <td>30</td>\n",
       "      <td>30</td>\n",
       "      <td>30</td>\n",
       "      <td>40</td>\n",
       "      <td>140</td>\n",
       "    </tr>\n",
       "    <tr>\n",
       "      <th>6</th>\n",
       "      <td>66</td>\n",
       "      <td>Lapak Kita</td>\n",
       "      <td>2017-07-16</td>\n",
       "      <td>2017-08-05</td>\n",
       "      <td>2050.0</td>\n",
       "      <td>439050.0</td>\n",
       "      <td>Indragiri</td>\n",
       "      <td>26</td>\n",
       "      <td>23</td>\n",
       "      <td>149</td>\n",
       "      <td>169</td>\n",
       "      <td>10</td>\n",
       "      <td>20</td>\n",
       "      <td>20</td>\n",
       "      <td>20</td>\n",
       "      <td>30</td>\n",
       "      <td>100</td>\n",
       "    </tr>\n",
       "  </tbody>\n",
       "</table>\n",
       "</div>"
      ],
      "text/plain": [
       "   user_id partner_name   first_trx    last_trx  total_profit   monetary  \\\n",
       "1       59   Lapak Kita  2017-07-01  2017-07-01          50.0     9900.0   \n",
       "2       60   Lapak Kita  2017-07-01  2017-07-15        4250.0   840500.0   \n",
       "4       63     Jawa Pos  2017-08-11  2017-11-02         250.0    51650.0   \n",
       "5       65   Lapak Kita  2017-07-01  2017-07-31        8800.0  2592200.0   \n",
       "6       66   Lapak Kita  2017-07-16  2017-08-05        2050.0   439050.0   \n",
       "\n",
       "     cluster  frequency  total_cust  recency  join_days   R   F   M   P   J  \\\n",
       "1  Indragiri          1           1      184        184  10  10  10  10  40   \n",
       "2  Indragiri         70          57      170        184  10  30  30  30  40   \n",
       "4    Cirebon          4           3       60        143  10  10  10  10  30   \n",
       "5  Indragiri         64          55      154        184  10  30  30  30  40   \n",
       "6  Indragiri         26          23      149        169  10  20  20  20  30   \n",
       "\n",
       "   Scorepoints  \n",
       "1           80  \n",
       "2          140  \n",
       "4           70  \n",
       "5          140  \n",
       "6          100  "
      ]
     },
     "execution_count": 82,
     "metadata": {},
     "output_type": "execute_result"
    }
   ],
   "source": [
    "(df_final[df_final['R'] == 10]).head()"
   ]
  },
  {
   "cell_type": "code",
   "execution_count": 83,
   "metadata": {},
   "outputs": [
    {
     "data": {
      "text/html": [
       "<div>\n",
       "<style scoped>\n",
       "    .dataframe tbody tr th:only-of-type {\n",
       "        vertical-align: middle;\n",
       "    }\n",
       "\n",
       "    .dataframe tbody tr th {\n",
       "        vertical-align: top;\n",
       "    }\n",
       "\n",
       "    .dataframe thead th {\n",
       "        text-align: right;\n",
       "    }\n",
       "</style>\n",
       "<table border=\"1\" class=\"dataframe\">\n",
       "  <thead>\n",
       "    <tr style=\"text-align: right;\">\n",
       "      <th></th>\n",
       "      <th>user_id</th>\n",
       "      <th>partner_name</th>\n",
       "      <th>first_trx</th>\n",
       "      <th>last_trx</th>\n",
       "      <th>total_profit</th>\n",
       "      <th>monetary</th>\n",
       "      <th>cluster</th>\n",
       "      <th>frequency</th>\n",
       "      <th>total_cust</th>\n",
       "      <th>recency</th>\n",
       "      <th>join_days</th>\n",
       "      <th>R</th>\n",
       "      <th>F</th>\n",
       "      <th>M</th>\n",
       "      <th>P</th>\n",
       "      <th>J</th>\n",
       "      <th>Scorepoints</th>\n",
       "    </tr>\n",
       "  </thead>\n",
       "  <tbody>\n",
       "    <tr>\n",
       "      <th>3</th>\n",
       "      <td>61</td>\n",
       "      <td>Lapak Kita</td>\n",
       "      <td>2017-07-12</td>\n",
       "      <td>2017-12-20</td>\n",
       "      <td>10875.0</td>\n",
       "      <td>6524400.0</td>\n",
       "      <td>Indragiri</td>\n",
       "      <td>98</td>\n",
       "      <td>79</td>\n",
       "      <td>12</td>\n",
       "      <td>173</td>\n",
       "      <td>20</td>\n",
       "      <td>30</td>\n",
       "      <td>40</td>\n",
       "      <td>30</td>\n",
       "      <td>30</td>\n",
       "      <td>150</td>\n",
       "    </tr>\n",
       "    <tr>\n",
       "      <th>16</th>\n",
       "      <td>91</td>\n",
       "      <td>Lapak Kita</td>\n",
       "      <td>2017-07-01</td>\n",
       "      <td>2017-09-17</td>\n",
       "      <td>9250.0</td>\n",
       "      <td>1826500.0</td>\n",
       "      <td>Indragiri</td>\n",
       "      <td>185</td>\n",
       "      <td>118</td>\n",
       "      <td>106</td>\n",
       "      <td>184</td>\n",
       "      <td>10</td>\n",
       "      <td>40</td>\n",
       "      <td>30</td>\n",
       "      <td>30</td>\n",
       "      <td>40</td>\n",
       "      <td>150</td>\n",
       "    </tr>\n",
       "    <tr>\n",
       "      <th>22</th>\n",
       "      <td>112</td>\n",
       "      <td>Lapak Kita</td>\n",
       "      <td>2017-07-01</td>\n",
       "      <td>2017-08-22</td>\n",
       "      <td>6675.0</td>\n",
       "      <td>1321650.0</td>\n",
       "      <td>Indragiri</td>\n",
       "      <td>164</td>\n",
       "      <td>67</td>\n",
       "      <td>132</td>\n",
       "      <td>184</td>\n",
       "      <td>10</td>\n",
       "      <td>40</td>\n",
       "      <td>30</td>\n",
       "      <td>30</td>\n",
       "      <td>40</td>\n",
       "      <td>150</td>\n",
       "    </tr>\n",
       "    <tr>\n",
       "      <th>33</th>\n",
       "      <td>172</td>\n",
       "      <td>Lapak Kita</td>\n",
       "      <td>2017-07-01</td>\n",
       "      <td>2017-08-19</td>\n",
       "      <td>7950.0</td>\n",
       "      <td>4351050.0</td>\n",
       "      <td>Indragiri</td>\n",
       "      <td>79</td>\n",
       "      <td>53</td>\n",
       "      <td>135</td>\n",
       "      <td>184</td>\n",
       "      <td>10</td>\n",
       "      <td>30</td>\n",
       "      <td>40</td>\n",
       "      <td>30</td>\n",
       "      <td>40</td>\n",
       "      <td>150</td>\n",
       "    </tr>\n",
       "    <tr>\n",
       "      <th>39</th>\n",
       "      <td>191</td>\n",
       "      <td>Lapak Kita</td>\n",
       "      <td>2017-07-08</td>\n",
       "      <td>2017-12-28</td>\n",
       "      <td>9700.0</td>\n",
       "      <td>2132400.0</td>\n",
       "      <td>Indragiri</td>\n",
       "      <td>75</td>\n",
       "      <td>55</td>\n",
       "      <td>4</td>\n",
       "      <td>177</td>\n",
       "      <td>30</td>\n",
       "      <td>30</td>\n",
       "      <td>30</td>\n",
       "      <td>30</td>\n",
       "      <td>30</td>\n",
       "      <td>150</td>\n",
       "    </tr>\n",
       "  </tbody>\n",
       "</table>\n",
       "</div>"
      ],
      "text/plain": [
       "    user_id partner_name   first_trx    last_trx  total_profit   monetary  \\\n",
       "3        61   Lapak Kita  2017-07-12  2017-12-20       10875.0  6524400.0   \n",
       "16       91   Lapak Kita  2017-07-01  2017-09-17        9250.0  1826500.0   \n",
       "22      112   Lapak Kita  2017-07-01  2017-08-22        6675.0  1321650.0   \n",
       "33      172   Lapak Kita  2017-07-01  2017-08-19        7950.0  4351050.0   \n",
       "39      191   Lapak Kita  2017-07-08  2017-12-28        9700.0  2132400.0   \n",
       "\n",
       "      cluster  frequency  total_cust  recency  join_days   R   F   M   P   J  \\\n",
       "3   Indragiri         98          79       12        173  20  30  40  30  30   \n",
       "16  Indragiri        185         118      106        184  10  40  30  30  40   \n",
       "22  Indragiri        164          67      132        184  10  40  30  30  40   \n",
       "33  Indragiri         79          53      135        184  10  30  40  30  40   \n",
       "39  Indragiri         75          55        4        177  30  30  30  30  30   \n",
       "\n",
       "    Scorepoints  \n",
       "3           150  \n",
       "16          150  \n",
       "22          150  \n",
       "33          150  \n",
       "39          150  "
      ]
     },
     "execution_count": 83,
     "metadata": {},
     "output_type": "execute_result"
    }
   ],
   "source": [
    "(df_final[df_final['Scorepoints'] == 150]).head()"
   ]
  },
  {
   "cell_type": "code",
   "execution_count": 84,
   "metadata": {},
   "outputs": [],
   "source": [
    "# Labelling the user\n",
    "def label_cust(row):\n",
    "    if row['Scorepoints'] > 150:\n",
    "        label = 'Good'\n",
    "    elif row['Scorepoints'] == 150 and row['recency'] <= 90:\n",
    "        label = 'Good'\n",
    "    else:\n",
    "        label = 'Bad'\n",
    "    return label\n",
    "\n",
    "df_final['Qclass'] = df_final.apply(label_cust, axis=1)"
   ]
  },
  {
   "cell_type": "code",
   "execution_count": 85,
   "metadata": {},
   "outputs": [
    {
     "data": {
      "text/html": [
       "<div>\n",
       "<style scoped>\n",
       "    .dataframe tbody tr th:only-of-type {\n",
       "        vertical-align: middle;\n",
       "    }\n",
       "\n",
       "    .dataframe tbody tr th {\n",
       "        vertical-align: top;\n",
       "    }\n",
       "\n",
       "    .dataframe thead th {\n",
       "        text-align: right;\n",
       "    }\n",
       "</style>\n",
       "<table border=\"1\" class=\"dataframe\">\n",
       "  <thead>\n",
       "    <tr style=\"text-align: right;\">\n",
       "      <th></th>\n",
       "      <th>user_id</th>\n",
       "      <th>partner_name</th>\n",
       "      <th>first_trx</th>\n",
       "      <th>last_trx</th>\n",
       "      <th>total_profit</th>\n",
       "      <th>monetary</th>\n",
       "      <th>cluster</th>\n",
       "      <th>frequency</th>\n",
       "      <th>total_cust</th>\n",
       "      <th>recency</th>\n",
       "      <th>join_days</th>\n",
       "      <th>R</th>\n",
       "      <th>F</th>\n",
       "      <th>M</th>\n",
       "      <th>P</th>\n",
       "      <th>J</th>\n",
       "      <th>Scorepoints</th>\n",
       "      <th>Qclass</th>\n",
       "    </tr>\n",
       "  </thead>\n",
       "  <tbody>\n",
       "    <tr>\n",
       "      <th>0</th>\n",
       "      <td>17</td>\n",
       "      <td>Lapak Kita</td>\n",
       "      <td>2017-08-14</td>\n",
       "      <td>2017-11-22</td>\n",
       "      <td>3045.0</td>\n",
       "      <td>760508.0</td>\n",
       "      <td>Indragiri</td>\n",
       "      <td>52</td>\n",
       "      <td>22</td>\n",
       "      <td>40</td>\n",
       "      <td>140</td>\n",
       "      <td>20</td>\n",
       "      <td>30</td>\n",
       "      <td>30</td>\n",
       "      <td>20</td>\n",
       "      <td>30</td>\n",
       "      <td>130</td>\n",
       "      <td>Bad</td>\n",
       "    </tr>\n",
       "    <tr>\n",
       "      <th>1</th>\n",
       "      <td>59</td>\n",
       "      <td>Lapak Kita</td>\n",
       "      <td>2017-07-01</td>\n",
       "      <td>2017-07-01</td>\n",
       "      <td>50.0</td>\n",
       "      <td>9900.0</td>\n",
       "      <td>Indragiri</td>\n",
       "      <td>1</td>\n",
       "      <td>1</td>\n",
       "      <td>184</td>\n",
       "      <td>184</td>\n",
       "      <td>10</td>\n",
       "      <td>10</td>\n",
       "      <td>10</td>\n",
       "      <td>10</td>\n",
       "      <td>40</td>\n",
       "      <td>80</td>\n",
       "      <td>Bad</td>\n",
       "    </tr>\n",
       "    <tr>\n",
       "      <th>2</th>\n",
       "      <td>60</td>\n",
       "      <td>Lapak Kita</td>\n",
       "      <td>2017-07-01</td>\n",
       "      <td>2017-07-15</td>\n",
       "      <td>4250.0</td>\n",
       "      <td>840500.0</td>\n",
       "      <td>Indragiri</td>\n",
       "      <td>70</td>\n",
       "      <td>57</td>\n",
       "      <td>170</td>\n",
       "      <td>184</td>\n",
       "      <td>10</td>\n",
       "      <td>30</td>\n",
       "      <td>30</td>\n",
       "      <td>30</td>\n",
       "      <td>40</td>\n",
       "      <td>140</td>\n",
       "      <td>Bad</td>\n",
       "    </tr>\n",
       "    <tr>\n",
       "      <th>3</th>\n",
       "      <td>61</td>\n",
       "      <td>Lapak Kita</td>\n",
       "      <td>2017-07-12</td>\n",
       "      <td>2017-12-20</td>\n",
       "      <td>10875.0</td>\n",
       "      <td>6524400.0</td>\n",
       "      <td>Indragiri</td>\n",
       "      <td>98</td>\n",
       "      <td>79</td>\n",
       "      <td>12</td>\n",
       "      <td>173</td>\n",
       "      <td>20</td>\n",
       "      <td>30</td>\n",
       "      <td>40</td>\n",
       "      <td>30</td>\n",
       "      <td>30</td>\n",
       "      <td>150</td>\n",
       "      <td>Good</td>\n",
       "    </tr>\n",
       "    <tr>\n",
       "      <th>4</th>\n",
       "      <td>63</td>\n",
       "      <td>Jawa Pos</td>\n",
       "      <td>2017-08-11</td>\n",
       "      <td>2017-11-02</td>\n",
       "      <td>250.0</td>\n",
       "      <td>51650.0</td>\n",
       "      <td>Cirebon</td>\n",
       "      <td>4</td>\n",
       "      <td>3</td>\n",
       "      <td>60</td>\n",
       "      <td>143</td>\n",
       "      <td>10</td>\n",
       "      <td>10</td>\n",
       "      <td>10</td>\n",
       "      <td>10</td>\n",
       "      <td>30</td>\n",
       "      <td>70</td>\n",
       "      <td>Bad</td>\n",
       "    </tr>\n",
       "  </tbody>\n",
       "</table>\n",
       "</div>"
      ],
      "text/plain": [
       "   user_id partner_name   first_trx    last_trx  total_profit   monetary  \\\n",
       "0       17   Lapak Kita  2017-08-14  2017-11-22        3045.0   760508.0   \n",
       "1       59   Lapak Kita  2017-07-01  2017-07-01          50.0     9900.0   \n",
       "2       60   Lapak Kita  2017-07-01  2017-07-15        4250.0   840500.0   \n",
       "3       61   Lapak Kita  2017-07-12  2017-12-20       10875.0  6524400.0   \n",
       "4       63     Jawa Pos  2017-08-11  2017-11-02         250.0    51650.0   \n",
       "\n",
       "     cluster  frequency  total_cust  recency  join_days   R   F   M   P   J  \\\n",
       "0  Indragiri         52          22       40        140  20  30  30  20  30   \n",
       "1  Indragiri          1           1      184        184  10  10  10  10  40   \n",
       "2  Indragiri         70          57      170        184  10  30  30  30  40   \n",
       "3  Indragiri         98          79       12        173  20  30  40  30  30   \n",
       "4    Cirebon          4           3       60        143  10  10  10  10  30   \n",
       "\n",
       "   Scorepoints Qclass  \n",
       "0          130    Bad  \n",
       "1           80    Bad  \n",
       "2          140    Bad  \n",
       "3          150   Good  \n",
       "4           70    Bad  "
      ]
     },
     "execution_count": 85,
     "metadata": {},
     "output_type": "execute_result"
    }
   ],
   "source": [
    "df_final.head()"
   ]
  },
  {
   "cell_type": "markdown",
   "metadata": {},
   "source": [
    "## 2. K-Means & RFM"
   ]
  },
  {
   "cell_type": "code",
   "execution_count": 86,
   "metadata": {},
   "outputs": [],
   "source": [
    "features2 = ['monetary', 'frequency', 'recency']"
   ]
  },
  {
   "cell_type": "code",
   "execution_count": 87,
   "metadata": {},
   "outputs": [
    {
     "data": {
      "text/html": [
       "<div>\n",
       "<style scoped>\n",
       "    .dataframe tbody tr th:only-of-type {\n",
       "        vertical-align: middle;\n",
       "    }\n",
       "\n",
       "    .dataframe tbody tr th {\n",
       "        vertical-align: top;\n",
       "    }\n",
       "\n",
       "    .dataframe thead th {\n",
       "        text-align: right;\n",
       "    }\n",
       "</style>\n",
       "<table border=\"1\" class=\"dataframe\">\n",
       "  <thead>\n",
       "    <tr style=\"text-align: right;\">\n",
       "      <th></th>\n",
       "      <th>monetary</th>\n",
       "      <th>frequency</th>\n",
       "      <th>recency</th>\n",
       "    </tr>\n",
       "  </thead>\n",
       "  <tbody>\n",
       "    <tr>\n",
       "      <th>count</th>\n",
       "      <td>4.322000e+03</td>\n",
       "      <td>4322.000000</td>\n",
       "      <td>4322.000000</td>\n",
       "    </tr>\n",
       "    <tr>\n",
       "      <th>mean</th>\n",
       "      <td>3.853665e+06</td>\n",
       "      <td>150.335724</td>\n",
       "      <td>37.898195</td>\n",
       "    </tr>\n",
       "    <tr>\n",
       "      <th>std</th>\n",
       "      <td>9.998619e+06</td>\n",
       "      <td>385.287110</td>\n",
       "      <td>50.627406</td>\n",
       "    </tr>\n",
       "    <tr>\n",
       "      <th>min</th>\n",
       "      <td>2.110000e+03</td>\n",
       "      <td>1.000000</td>\n",
       "      <td>1.000000</td>\n",
       "    </tr>\n",
       "    <tr>\n",
       "      <th>25%</th>\n",
       "      <td>1.452062e+05</td>\n",
       "      <td>8.000000</td>\n",
       "      <td>1.000000</td>\n",
       "    </tr>\n",
       "    <tr>\n",
       "      <th>50%</th>\n",
       "      <td>7.478000e+05</td>\n",
       "      <td>34.500000</td>\n",
       "      <td>10.000000</td>\n",
       "    </tr>\n",
       "    <tr>\n",
       "      <th>75%</th>\n",
       "      <td>3.173772e+06</td>\n",
       "      <td>134.000000</td>\n",
       "      <td>54.000000</td>\n",
       "    </tr>\n",
       "    <tr>\n",
       "      <th>max</th>\n",
       "      <td>1.698541e+08</td>\n",
       "      <td>7259.000000</td>\n",
       "      <td>184.000000</td>\n",
       "    </tr>\n",
       "  </tbody>\n",
       "</table>\n",
       "</div>"
      ],
      "text/plain": [
       "           monetary    frequency      recency\n",
       "count  4.322000e+03  4322.000000  4322.000000\n",
       "mean   3.853665e+06   150.335724    37.898195\n",
       "std    9.998619e+06   385.287110    50.627406\n",
       "min    2.110000e+03     1.000000     1.000000\n",
       "25%    1.452062e+05     8.000000     1.000000\n",
       "50%    7.478000e+05    34.500000    10.000000\n",
       "75%    3.173772e+06   134.000000    54.000000\n",
       "max    1.698541e+08  7259.000000   184.000000"
      ]
     },
     "execution_count": 87,
     "metadata": {},
     "output_type": "execute_result"
    }
   ],
   "source": [
    "df_final[features2].describe()"
   ]
  },
  {
   "cell_type": "code",
   "execution_count": 88,
   "metadata": {},
   "outputs": [
    {
     "data": {
      "text/html": [
       "<div>\n",
       "<style scoped>\n",
       "    .dataframe tbody tr th:only-of-type {\n",
       "        vertical-align: middle;\n",
       "    }\n",
       "\n",
       "    .dataframe tbody tr th {\n",
       "        vertical-align: top;\n",
       "    }\n",
       "\n",
       "    .dataframe thead th {\n",
       "        text-align: right;\n",
       "    }\n",
       "</style>\n",
       "<table border=\"1\" class=\"dataframe\">\n",
       "  <thead>\n",
       "    <tr style=\"text-align: right;\">\n",
       "      <th></th>\n",
       "      <th>monetary</th>\n",
       "      <th>frequency</th>\n",
       "      <th>recency</th>\n",
       "    </tr>\n",
       "  </thead>\n",
       "  <tbody>\n",
       "    <tr>\n",
       "      <th>4317</th>\n",
       "      <td>238.537209</td>\n",
       "      <td>2.000000</td>\n",
       "      <td>1.0</td>\n",
       "    </tr>\n",
       "    <tr>\n",
       "      <th>4318</th>\n",
       "      <td>297.657521</td>\n",
       "      <td>1.732051</td>\n",
       "      <td>1.0</td>\n",
       "    </tr>\n",
       "    <tr>\n",
       "      <th>4319</th>\n",
       "      <td>232.271393</td>\n",
       "      <td>1.414214</td>\n",
       "      <td>1.0</td>\n",
       "    </tr>\n",
       "    <tr>\n",
       "      <th>4320</th>\n",
       "      <td>225.831796</td>\n",
       "      <td>1.732051</td>\n",
       "      <td>1.0</td>\n",
       "    </tr>\n",
       "    <tr>\n",
       "      <th>4321</th>\n",
       "      <td>223.941957</td>\n",
       "      <td>1.000000</td>\n",
       "      <td>1.0</td>\n",
       "    </tr>\n",
       "  </tbody>\n",
       "</table>\n",
       "</div>"
      ],
      "text/plain": [
       "        monetary  frequency  recency\n",
       "4317  238.537209   2.000000      1.0\n",
       "4318  297.657521   1.732051      1.0\n",
       "4319  232.271393   1.414214      1.0\n",
       "4320  225.831796   1.732051      1.0\n",
       "4321  223.941957   1.000000      1.0"
      ]
     },
     "execution_count": 88,
     "metadata": {},
     "output_type": "execute_result"
    }
   ],
   "source": [
    "# Squre Root\n",
    "df_sqr = df_final[features2]\n",
    "sqrt_val = df_sqr.apply(np.sqrt)\n",
    "sqrt_val.tail()"
   ]
  },
  {
   "cell_type": "code",
   "execution_count": 89,
   "metadata": {},
   "outputs": [
    {
     "name": "stdout",
     "output_type": "stream",
     "text": [
      "('variables mean values: ', array([1344.08139276,    8.67676389,    4.73943339]))\n"
     ]
    }
   ],
   "source": [
    "from sklearn.preprocessing import StandardScaler\n",
    "\n",
    "matrix = sqrt_val.as_matrix()\n",
    "scaler = StandardScaler()\n",
    "scaler.fit(matrix)\n",
    "print('variables mean values: ' , scaler.mean_)\n",
    "scaled_matrix = scaler.transform(matrix)"
   ]
  },
  {
   "cell_type": "code",
   "execution_count": 90,
   "metadata": {},
   "outputs": [
    {
     "data": {
      "image/png": "[encoded data removed]",
      "text/plain": [
       "<Figure size 720x360 with 1 Axes>"
      ]
     },
     "metadata": {},
     "output_type": "display_data"
    }
   ],
   "source": [
    "from sklearn.cluster import KMeans\n",
    "wcss = []\n",
    "for i in range(2,15):\n",
    " kmeans = KMeans(n_clusters = i, init = 'k-means++', max_iter = 300, n_init = 10, random_state = 0)\n",
    " kmeans.fit(scaled_matrix)\n",
    " wcss.append(kmeans.inertia_)\n",
    "\n",
    "plt.figure(figsize=(10,5))\n",
    "plt.plot(range(2,15), wcss)\n",
    "plt.title('The elbow method')\n",
    "plt.xlabel('The number of clusters')\n",
    "plt.ylabel('WCSS')\n",
    "plt.show()"
   ]
  },
  {
   "cell_type": "code",
   "execution_count": 91,
   "metadata": {},
   "outputs": [
    {
     "name": "stdout",
     "output_type": "stream",
     "text": [
      "('For n_clusters =', 2, 'The average silhouette_score is :', 0.7086957626197009)\n",
      "('For n_clusters =', 3, 'The average silhouette_score is :', 0.647730682442655)\n",
      "('For n_clusters =', 4, 'The average silhouette_score is :', 0.615224838742559)\n",
      "('For n_clusters =', 5, 'The average silhouette_score is :', 0.6069226507036415)\n",
      "('For n_clusters =', 6, 'The average silhouette_score is :', 0.5854214552695409)\n",
      "('For n_clusters =', 7, 'The average silhouette_score is :', 0.5852342855197508)\n",
      "('For n_clusters =', 8, 'The average silhouette_score is :', 0.5706466184557307)\n",
      "('For n_clusters =', 9, 'The average silhouette_score is :', 0.569426567816741)\n"
     ]
    }
   ],
   "source": [
    "from sklearn.metrics import silhouette_samples, silhouette_score\n",
    "\n",
    "for n_clusters in range(2,10):\n",
    "    kmeans = KMeans(init='k-means++', n_clusters = n_clusters, n_init=30)\n",
    "    kmeans.fit(matrix)\n",
    "    clusters = kmeans.predict(matrix)\n",
    "    silhouette_avg = silhouette_score(matrix, clusters)\n",
    "    print(\"For n_clusters =\", n_clusters, \"The average silhouette_score is :\", silhouette_avg)"
   ]
  },
  {
   "cell_type": "code",
   "execution_count": 96,
   "metadata": {},
   "outputs": [
    {
     "name": "stdout",
     "output_type": "stream",
     "text": [
      "score de silhouette: 0.492\n"
     ]
    }
   ],
   "source": [
    "n_clusters = 2\n",
    "kmeans = KMeans(init='k-means++', n_clusters = n_clusters, n_init=100)\n",
    "kmeans.fit(scaled_matrix)\n",
    "clusters_clients = kmeans.predict(scaled_matrix)\n",
    "silhouette_avg = silhouette_score(scaled_matrix, clusters_clients)\n",
    "print('score de silhouette: {:<.3f}'.format(silhouette_avg))"
   ]
  },
  {
   "cell_type": "code",
   "execution_count": 98,
   "metadata": {},
   "outputs": [
    {
     "data": {
      "text/plain": [
       "array([[ 1.51539641,  1.50565783, -0.71287031],\n",
       "       [-0.40023485, -0.39766277,  0.18827783]])"
      ]
     },
     "execution_count": 98,
     "metadata": {},
     "output_type": "execute_result"
    }
   ],
   "source": [
    "centers = kmeans.cluster_centers_\n",
    "centers"
   ]
  },
  {
   "cell_type": "code",
   "execution_count": 99,
   "metadata": {},
   "outputs": [
    {
     "data": {
      "text/plain": [
       "<matplotlib.collections.PathCollection at 0x10bfe2890>"
      ]
     },
     "execution_count": 99,
     "metadata": {},
     "output_type": "execute_result"
    },
    {
     "data": {
      "image/png": "[encoded data removed]",
      "text/plain": [
       "<Figure size 432x288 with 1 Axes>"
      ]
     },
     "metadata": {},
     "output_type": "display_data"
    }
   ],
   "source": [
    "plt.scatter(scaled_matrix[:,0],scaled_matrix[:,1], c=kmeans.labels_, cmap='rainbow')  \n",
    "plt.scatter(centers[:,0] ,centers[:,1], color='black') "
   ]
  },
  {
   "cell_type": "code",
   "execution_count": 101,
   "metadata": {},
   "outputs": [
    {
     "data": {
      "text/plain": [
       "<matplotlib.collections.PathCollection at 0x10c8abb90>"
      ]
     },
     "execution_count": 101,
     "metadata": {},
     "output_type": "execute_result"
    },
    {
     "data": {
      "image/png": "[encoded data removed]",
      "text/plain": [
       "<Figure size 432x288 with 1 Axes>"
      ]
     },
     "metadata": {},
     "output_type": "display_data"
    }
   ],
   "source": [
    "n_clusters = 3\n",
    "kmeans = KMeans(init='k-means++', n_clusters = n_clusters, n_init=100)\n",
    "kmeans.fit(scaled_matrix)\n",
    "clusters_clients = kmeans.predict(scaled_matrix)\n",
    "\n",
    "centers = kmeans.cluster_centers_\n",
    "\n",
    "plt.scatter(scaled_matrix[:,0],scaled_matrix[:,1], c=kmeans.labels_, cmap='rainbow')  \n",
    "plt.scatter(centers[:,0] ,centers[:,1], color='black') "
   ]
  },
  {
   "cell_type": "code",
   "execution_count": 103,
   "metadata": {},
   "outputs": [
    {
     "data": {
      "text/html": [
       "<div>\n",
       "<style scoped>\n",
       "    .dataframe tbody tr th:only-of-type {\n",
       "        vertical-align: middle;\n",
       "    }\n",
       "\n",
       "    .dataframe tbody tr th {\n",
       "        vertical-align: top;\n",
       "    }\n",
       "\n",
       "    .dataframe thead th {\n",
       "        text-align: right;\n",
       "    }\n",
       "</style>\n",
       "<table border=\"1\" class=\"dataframe\">\n",
       "  <thead>\n",
       "    <tr style=\"text-align: right;\">\n",
       "      <th></th>\n",
       "      <th>0</th>\n",
       "      <th>2</th>\n",
       "      <th>1</th>\n",
       "    </tr>\n",
       "  </thead>\n",
       "  <tbody>\n",
       "    <tr>\n",
       "      <th>number of customers</th>\n",
       "      <td>2168</td>\n",
       "      <td>1606</td>\n",
       "      <td>548</td>\n",
       "    </tr>\n",
       "  </tbody>\n",
       "</table>\n",
       "</div>"
      ],
      "text/plain": [
       "                        0     2    1\n",
       "number of customers  2168  1606  548"
      ]
     },
     "execution_count": 103,
     "metadata": {},
     "output_type": "execute_result"
    }
   ],
   "source": [
    "pd.DataFrame(pd.Series(clusters_clients).value_counts(), columns = ['number of customers']).T"
   ]
  },
  {
   "cell_type": "code",
   "execution_count": null,
   "metadata": {},
   "outputs": [],
   "source": [
    "#plt.scatter(X_scale[:,0],X_scale[:,1], c=kmeans.labels_, cmap='rainbow')  \n",
    "#plt.scatter(centers[:,0] ,centers[:,1], color='black') "
   ]
  },
  {
   "cell_type": "code",
   "execution_count": 104,
   "metadata": {},
   "outputs": [
    {
     "data": {
      "text/plain": [
       "array([[7.60508e+05, 5.20000e+01, 4.00000e+01],\n",
       "       [9.90000e+03, 1.00000e+00, 1.84000e+02],\n",
       "       [8.40500e+05, 7.00000e+01, 1.70000e+02],\n",
       "       ...,\n",
       "       [5.39500e+04, 2.00000e+00, 1.00000e+00],\n",
       "       [5.10000e+04, 3.00000e+00, 1.00000e+00],\n",
       "       [5.01500e+04, 1.00000e+00, 1.00000e+00]])"
      ]
     },
     "execution_count": 104,
     "metadata": {},
     "output_type": "execute_result"
    }
   ],
   "source": [
    "# Without Square Root\n",
    "X = df_final[features2]\n",
    "X = X.values\n",
    "X"
   ]
  },
  {
   "cell_type": "code",
   "execution_count": 105,
   "metadata": {},
   "outputs": [],
   "source": [
    "scaler = StandardScaler()\n",
    "X_scale = scaler.fit_transform(X)\n",
    "\n",
    "cluster_range = range (1,10)\n",
    "cluster_errors = []\n",
    "\n",
    "for cluster in cluster_range:\n",
    "    clusters = KMeans(cluster)\n",
    "    clusters.fit(X_scale)\n",
    "    cluster_errors.append(clusters.inertia_ )"
   ]
  },
  {
   "cell_type": "code",
   "execution_count": 106,
   "metadata": {},
   "outputs": [
    {
     "data": {
      "text/html": [
       "<div>\n",
       "<style scoped>\n",
       "    .dataframe tbody tr th:only-of-type {\n",
       "        vertical-align: middle;\n",
       "    }\n",
       "\n",
       "    .dataframe tbody tr th {\n",
       "        vertical-align: top;\n",
       "    }\n",
       "\n",
       "    .dataframe thead th {\n",
       "        text-align: right;\n",
       "    }\n",
       "</style>\n",
       "<table border=\"1\" class=\"dataframe\">\n",
       "  <thead>\n",
       "    <tr style=\"text-align: right;\">\n",
       "      <th></th>\n",
       "      <th>cluster</th>\n",
       "      <th>cluster_error</th>\n",
       "    </tr>\n",
       "  </thead>\n",
       "  <tbody>\n",
       "    <tr>\n",
       "      <th>0</th>\n",
       "      <td>1</td>\n",
       "      <td>12966.000000</td>\n",
       "    </tr>\n",
       "    <tr>\n",
       "      <th>1</th>\n",
       "      <td>2</td>\n",
       "      <td>8199.121501</td>\n",
       "    </tr>\n",
       "    <tr>\n",
       "      <th>2</th>\n",
       "      <td>3</td>\n",
       "      <td>4776.710425</td>\n",
       "    </tr>\n",
       "    <tr>\n",
       "      <th>3</th>\n",
       "      <td>4</td>\n",
       "      <td>2825.564358</td>\n",
       "    </tr>\n",
       "    <tr>\n",
       "      <th>4</th>\n",
       "      <td>5</td>\n",
       "      <td>2154.811668</td>\n",
       "    </tr>\n",
       "    <tr>\n",
       "      <th>5</th>\n",
       "      <td>6</td>\n",
       "      <td>1662.852718</td>\n",
       "    </tr>\n",
       "    <tr>\n",
       "      <th>6</th>\n",
       "      <td>7</td>\n",
       "      <td>1379.730256</td>\n",
       "    </tr>\n",
       "    <tr>\n",
       "      <th>7</th>\n",
       "      <td>8</td>\n",
       "      <td>1189.406737</td>\n",
       "    </tr>\n",
       "    <tr>\n",
       "      <th>8</th>\n",
       "      <td>9</td>\n",
       "      <td>1020.414486</td>\n",
       "    </tr>\n",
       "  </tbody>\n",
       "</table>\n",
       "</div>"
      ],
      "text/plain": [
       "   cluster  cluster_error\n",
       "0        1   12966.000000\n",
       "1        2    8199.121501\n",
       "2        3    4776.710425\n",
       "3        4    2825.564358\n",
       "4        5    2154.811668\n",
       "5        6    1662.852718\n",
       "6        7    1379.730256\n",
       "7        8    1189.406737\n",
       "8        9    1020.414486"
      ]
     },
     "execution_count": 106,
     "metadata": {},
     "output_type": "execute_result"
    }
   ],
   "source": [
    "df_cluster = pd.DataFrame({\"cluster\" : cluster_range, \"cluster_error\" : cluster_errors})\n",
    "df_cluster"
   ]
  },
  {
   "cell_type": "code",
   "execution_count": 107,
   "metadata": {},
   "outputs": [
    {
     "data": {
      "text/plain": [
       "Text(0,0.5,'cluster errors')"
      ]
     },
     "execution_count": 107,
     "metadata": {},
     "output_type": "execute_result"
    },
    {
     "data": {
      "image/png": "[encoded data removed]",
      "text/plain": [
       "<Figure size 720x360 with 1 Axes>"
      ]
     },
     "metadata": {},
     "output_type": "display_data"
    }
   ],
   "source": [
    "plt.figure(figsize=(10,5))\n",
    "plt.plot(df_cluster.cluster, df_cluster.cluster_error)\n",
    "plt.xlabel('Number of cluster')\n",
    "plt.ylabel('cluster errors')"
   ]
  },
  {
   "cell_type": "code",
   "execution_count": 108,
   "metadata": {},
   "outputs": [
    {
     "data": {
      "text/plain": [
       "array([0, 2, 2, ..., 0, 0, 0], dtype=int32)"
      ]
     },
     "execution_count": 108,
     "metadata": {},
     "output_type": "execute_result"
    }
   ],
   "source": [
    "kmeans = KMeans(n_clusters=3) \n",
    "kmeans.fit(X_scale)\n",
    "y_kmeans = kmeans.predict(X_scale)\n",
    "y_kmeans"
   ]
  },
  {
   "cell_type": "code",
   "execution_count": 109,
   "metadata": {},
   "outputs": [
    {
     "data": {
      "text/plain": [
       "array([[-0.09786562, -0.09749308, -0.43533224],\n",
       "       [ 4.21000711,  4.04110638, -0.64428319],\n",
       "       [-0.27788865, -0.25292744,  1.7927954 ]])"
      ]
     },
     "execution_count": 109,
     "metadata": {},
     "output_type": "execute_result"
    }
   ],
   "source": [
    "centers = kmeans.cluster_centers_\n",
    "centers"
   ]
  },
  {
   "cell_type": "code",
   "execution_count": 110,
   "metadata": {},
   "outputs": [
    {
     "data": {
      "text/plain": [
       "<matplotlib.collections.PathCollection at 0x10bc3ef90>"
      ]
     },
     "execution_count": 110,
     "metadata": {},
     "output_type": "execute_result"
    },
    {
     "data": {
      "image/png": "[encoded data removed]",
      "text/plain": [
       "<Figure size 432x288 with 1 Axes>"
      ]
     },
     "metadata": {},
     "output_type": "display_data"
    }
   ],
   "source": [
    "plt.scatter(X_scale[:,0],X_scale[:,1], c=kmeans.labels_, cmap='rainbow')  \n",
    "plt.scatter(centers[:,0] ,centers[:,1], color='black') "
   ]
  },
  {
   "cell_type": "code",
   "execution_count": 111,
   "metadata": {},
   "outputs": [
    {
     "data": {
      "text/plain": [
       "<matplotlib.collections.PathCollection at 0x10bf90510>"
      ]
     },
     "execution_count": 111,
     "metadata": {},
     "output_type": "execute_result"
    },
    {
     "data": {
      "image/png": "[encoded data removed]",
      "text/plain": [
       "<Figure size 432x288 with 1 Axes>"
      ]
     },
     "metadata": {},
     "output_type": "display_data"
    }
   ],
   "source": [
    "kmeans = KMeans(n_clusters=2) \n",
    "kmeans.fit(X_scale)\n",
    "y_kmeans = kmeans.predict(X_scale)\n",
    "\n",
    "centers = kmeans.cluster_centers_\n",
    "\n",
    "plt.scatter(X_scale[:,0],X_scale[:,1], c=kmeans.labels_, cmap='rainbow')  \n",
    "plt.scatter(centers[:,0] ,centers[:,1], color='black') "
   ]
  },
  {
   "cell_type": "code",
   "execution_count": 112,
   "metadata": {},
   "outputs": [
    {
     "data": {
      "text/html": [
       "<div>\n",
       "<style scoped>\n",
       "    .dataframe tbody tr th:only-of-type {\n",
       "        vertical-align: middle;\n",
       "    }\n",
       "\n",
       "    .dataframe tbody tr th {\n",
       "        vertical-align: top;\n",
       "    }\n",
       "\n",
       "    .dataframe thead th {\n",
       "        text-align: right;\n",
       "    }\n",
       "</style>\n",
       "<table border=\"1\" class=\"dataframe\">\n",
       "  <thead>\n",
       "    <tr style=\"text-align: right;\">\n",
       "      <th></th>\n",
       "      <th>0</th>\n",
       "      <th>1</th>\n",
       "    </tr>\n",
       "  </thead>\n",
       "  <tbody>\n",
       "    <tr>\n",
       "      <th>number of customers</th>\n",
       "      <td>4187</td>\n",
       "      <td>135</td>\n",
       "    </tr>\n",
       "  </tbody>\n",
       "</table>\n",
       "</div>"
      ],
      "text/plain": [
       "                        0    1\n",
       "number of customers  4187  135"
      ]
     },
     "execution_count": 112,
     "metadata": {},
     "output_type": "execute_result"
    }
   ],
   "source": [
    "pd.DataFrame(pd.Series(y_kmeans).value_counts(), columns = ['number of customers']).T"
   ]
  },
  {
   "cell_type": "code",
   "execution_count": 113,
   "metadata": {},
   "outputs": [],
   "source": [
    "df_final['cluster'] = y_kmeans"
   ]
  },
  {
   "cell_type": "code",
   "execution_count": 116,
   "metadata": {},
   "outputs": [
    {
     "data": {
      "text/html": [
       "<div>\n",
       "<style scoped>\n",
       "    .dataframe tbody tr th:only-of-type {\n",
       "        vertical-align: middle;\n",
       "    }\n",
       "\n",
       "    .dataframe tbody tr th {\n",
       "        vertical-align: top;\n",
       "    }\n",
       "\n",
       "    .dataframe thead th {\n",
       "        text-align: right;\n",
       "    }\n",
       "</style>\n",
       "<table border=\"1\" class=\"dataframe\">\n",
       "  <thead>\n",
       "    <tr style=\"text-align: right;\">\n",
       "      <th></th>\n",
       "      <th>user_id</th>\n",
       "      <th>partner_name</th>\n",
       "      <th>first_trx</th>\n",
       "      <th>last_trx</th>\n",
       "      <th>total_profit</th>\n",
       "      <th>monetary</th>\n",
       "      <th>cluster</th>\n",
       "      <th>frequency</th>\n",
       "      <th>total_cust</th>\n",
       "      <th>recency</th>\n",
       "      <th>join_days</th>\n",
       "      <th>R</th>\n",
       "      <th>F</th>\n",
       "      <th>M</th>\n",
       "      <th>P</th>\n",
       "      <th>J</th>\n",
       "      <th>Scorepoints</th>\n",
       "      <th>Qclass</th>\n",
       "    </tr>\n",
       "  </thead>\n",
       "  <tbody>\n",
       "    <tr>\n",
       "      <th>0</th>\n",
       "      <td>17</td>\n",
       "      <td>Lapak Kita</td>\n",
       "      <td>2017-08-14</td>\n",
       "      <td>2017-11-22</td>\n",
       "      <td>3045.0</td>\n",
       "      <td>760508.0</td>\n",
       "      <td>0</td>\n",
       "      <td>52</td>\n",
       "      <td>22</td>\n",
       "      <td>40</td>\n",
       "      <td>140</td>\n",
       "      <td>20</td>\n",
       "      <td>30</td>\n",
       "      <td>30</td>\n",
       "      <td>20</td>\n",
       "      <td>30</td>\n",
       "      <td>130</td>\n",
       "      <td>Bad</td>\n",
       "    </tr>\n",
       "    <tr>\n",
       "      <th>1</th>\n",
       "      <td>59</td>\n",
       "      <td>Lapak Kita</td>\n",
       "      <td>2017-07-01</td>\n",
       "      <td>2017-07-01</td>\n",
       "      <td>50.0</td>\n",
       "      <td>9900.0</td>\n",
       "      <td>0</td>\n",
       "      <td>1</td>\n",
       "      <td>1</td>\n",
       "      <td>184</td>\n",
       "      <td>184</td>\n",
       "      <td>10</td>\n",
       "      <td>10</td>\n",
       "      <td>10</td>\n",
       "      <td>10</td>\n",
       "      <td>40</td>\n",
       "      <td>80</td>\n",
       "      <td>Bad</td>\n",
       "    </tr>\n",
       "    <tr>\n",
       "      <th>2</th>\n",
       "      <td>60</td>\n",
       "      <td>Lapak Kita</td>\n",
       "      <td>2017-07-01</td>\n",
       "      <td>2017-07-15</td>\n",
       "      <td>4250.0</td>\n",
       "      <td>840500.0</td>\n",
       "      <td>0</td>\n",
       "      <td>70</td>\n",
       "      <td>57</td>\n",
       "      <td>170</td>\n",
       "      <td>184</td>\n",
       "      <td>10</td>\n",
       "      <td>30</td>\n",
       "      <td>30</td>\n",
       "      <td>30</td>\n",
       "      <td>40</td>\n",
       "      <td>140</td>\n",
       "      <td>Bad</td>\n",
       "    </tr>\n",
       "    <tr>\n",
       "      <th>3</th>\n",
       "      <td>61</td>\n",
       "      <td>Lapak Kita</td>\n",
       "      <td>2017-07-12</td>\n",
       "      <td>2017-12-20</td>\n",
       "      <td>10875.0</td>\n",
       "      <td>6524400.0</td>\n",
       "      <td>0</td>\n",
       "      <td>98</td>\n",
       "      <td>79</td>\n",
       "      <td>12</td>\n",
       "      <td>173</td>\n",
       "      <td>20</td>\n",
       "      <td>30</td>\n",
       "      <td>40</td>\n",
       "      <td>30</td>\n",
       "      <td>30</td>\n",
       "      <td>150</td>\n",
       "      <td>Good</td>\n",
       "    </tr>\n",
       "    <tr>\n",
       "      <th>4</th>\n",
       "      <td>63</td>\n",
       "      <td>Jawa Pos</td>\n",
       "      <td>2017-08-11</td>\n",
       "      <td>2017-11-02</td>\n",
       "      <td>250.0</td>\n",
       "      <td>51650.0</td>\n",
       "      <td>0</td>\n",
       "      <td>4</td>\n",
       "      <td>3</td>\n",
       "      <td>60</td>\n",
       "      <td>143</td>\n",
       "      <td>10</td>\n",
       "      <td>10</td>\n",
       "      <td>10</td>\n",
       "      <td>10</td>\n",
       "      <td>30</td>\n",
       "      <td>70</td>\n",
       "      <td>Bad</td>\n",
       "    </tr>\n",
       "  </tbody>\n",
       "</table>\n",
       "</div>"
      ],
      "text/plain": [
       "   user_id partner_name   first_trx    last_trx  total_profit   monetary  \\\n",
       "0       17   Lapak Kita  2017-08-14  2017-11-22        3045.0   760508.0   \n",
       "1       59   Lapak Kita  2017-07-01  2017-07-01          50.0     9900.0   \n",
       "2       60   Lapak Kita  2017-07-01  2017-07-15        4250.0   840500.0   \n",
       "3       61   Lapak Kita  2017-07-12  2017-12-20       10875.0  6524400.0   \n",
       "4       63     Jawa Pos  2017-08-11  2017-11-02         250.0    51650.0   \n",
       "\n",
       "   cluster  frequency  total_cust  recency  join_days   R   F   M   P   J  \\\n",
       "0        0         52          22       40        140  20  30  30  20  30   \n",
       "1        0          1           1      184        184  10  10  10  10  40   \n",
       "2        0         70          57      170        184  10  30  30  30  40   \n",
       "3        0         98          79       12        173  20  30  40  30  30   \n",
       "4        0          4           3       60        143  10  10  10  10  30   \n",
       "\n",
       "   Scorepoints Qclass  \n",
       "0          130    Bad  \n",
       "1           80    Bad  \n",
       "2          140    Bad  \n",
       "3          150   Good  \n",
       "4           70    Bad  "
      ]
     },
     "execution_count": 116,
     "metadata": {},
     "output_type": "execute_result"
    }
   ],
   "source": [
    "df_final[df_final['cluster'] == 0].head()"
   ]
  },
  {
   "cell_type": "markdown",
   "metadata": {},
   "source": [
    "## 3. K-Means "
   ]
  },
  {
   "cell_type": "code",
   "execution_count": 117,
   "metadata": {},
   "outputs": [],
   "source": [
    "features3 = ['monetary', 'recency', 'join_days']\n",
    "features4 = ['frequency', 'recency','join_days']"
   ]
  },
  {
   "cell_type": "code",
   "execution_count": 118,
   "metadata": {},
   "outputs": [],
   "source": [
    "ft = df_final[features3]\n",
    "ft = ft.values\n",
    "\n",
    "scaler = StandardScaler()\n",
    "ft_scale = scaler.fit_transform(ft)\n",
    "\n",
    "cluster_range = range (1,10)\n",
    "cluster_errors = []\n",
    "\n",
    "for cluster in cluster_range:\n",
    "    clusters = KMeans(cluster)\n",
    "    clusters.fit(ft_scale)\n",
    "    cluster_errors.append(clusters.inertia_ )\n",
    "\n",
    "df_cluster = pd.DataFrame({\"cluster\" : cluster_range, \"cluster_error\" : cluster_errors})"
   ]
  },
  {
   "cell_type": "code",
   "execution_count": 119,
   "metadata": {},
   "outputs": [
    {
     "data": {
      "text/plain": [
       "Text(0,0.5,'cluster errors')"
      ]
     },
     "execution_count": 119,
     "metadata": {},
     "output_type": "execute_result"
    },
    {
     "data": {
      "image/png": "[encoded data removed]",
      "text/plain": [
       "<Figure size 720x360 with 1 Axes>"
      ]
     },
     "metadata": {},
     "output_type": "display_data"
    }
   ],
   "source": [
    "plt.figure(figsize=(10,5))\n",
    "plt.plot(df_cluster.cluster, df_cluster.cluster_error)\n",
    "plt.xlabel('Number of cluster')\n",
    "plt.ylabel('cluster errors')"
   ]
  },
  {
   "cell_type": "code",
   "execution_count": 121,
   "metadata": {},
   "outputs": [
    {
     "data": {
      "text/plain": [
       "array([[-0.2606063 , -0.40691872, -0.81683047],\n",
       "       [-0.26546475,  1.74447221,  1.0236094 ],\n",
       "       [ 0.85664147, -0.55685197,  1.05671763]])"
      ]
     },
     "execution_count": 121,
     "metadata": {},
     "output_type": "execute_result"
    }
   ],
   "source": [
    "kmeans = KMeans(n_clusters=3) \n",
    "kmeans.fit(ft_scale)\n",
    "y_kmeans = kmeans.predict(ft_scale)\n",
    "y_kmeans\n",
    "\n",
    "centers = kmeans.cluster_centers_\n",
    "centers"
   ]
  },
  {
   "cell_type": "code",
   "execution_count": 122,
   "metadata": {},
   "outputs": [
    {
     "data": {
      "text/plain": [
       "<matplotlib.collections.PathCollection at 0x10c3ceb50>"
      ]
     },
     "execution_count": 122,
     "metadata": {},
     "output_type": "execute_result"
    },
    {
     "data": {
      "image/png": "[encoded data removed]",
      "text/plain": [
       "<Figure size 432x288 with 1 Axes>"
      ]
     },
     "metadata": {},
     "output_type": "display_data"
    }
   ],
   "source": [
    "plt.scatter(ft_scale[:,0],ft_scale[:,1], c=kmeans.labels_, cmap='rainbow')  \n",
    "plt.scatter(centers[:,0] ,centers[:,1], color='black') "
   ]
  },
  {
   "cell_type": "code",
   "execution_count": null,
   "metadata": {},
   "outputs": [],
   "source": []
  }
 ],
 "metadata": {
  "kernelspec": {
   "display_name": "Python 2",
   "language": "python",
   "name": "python2"
  },
  "language_info": {
   "codemirror_mode": {
    "name": "ipython",
    "version": 2
   },
   "file_extension": ".py",
   "mimetype": "text/x-python",
   "name": "python",
   "nbconvert_exporter": "python",
   "pygments_lexer": "ipython2",
   "version": "2.7.14"
  }
 },
 "nbformat": 4,
 "nbformat_minor": 2
}
